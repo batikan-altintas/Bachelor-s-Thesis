{
 "cells": [
  {
   "cell_type": "code",
   "execution_count": 1,
   "metadata": {},
   "outputs": [],
   "source": [
    "import numpy as np"
   ]
  },
  {
   "cell_type": "code",
   "execution_count": 2,
   "metadata": {},
   "outputs": [],
   "source": [
    "import matplotlib.pyplot as plt"
   ]
  },
  {
   "cell_type": "code",
   "execution_count": 3,
   "metadata": {},
   "outputs": [],
   "source": [
    "import pandas as pd"
   ]
  },
  {
   "cell_type": "code",
   "execution_count": 4,
   "metadata": {},
   "outputs": [],
   "source": [
    "df = pd.read_excel(r'C:\\Users\\pc\\Desktop\\Bitirme Tezi\\reduced house price data.xlsx')"
   ]
  },
  {
   "cell_type": "code",
   "execution_count": 5,
   "metadata": {},
   "outputs": [
    {
     "data": {
      "text/plain": [
       "(3000, 24)"
      ]
     },
     "execution_count": 5,
     "metadata": {},
     "output_type": "execute_result"
    }
   ],
   "source": [
    "df.shape"
   ]
  },
  {
   "cell_type": "code",
   "execution_count": 6,
   "metadata": {},
   "outputs": [
    {
     "data": {
      "text/plain": [
       "<bound method NDFrame.describe of          ID  Brüt m²  Net m² Oda Sayısı Banyo Sayısı Binadaki Kat Sayısı  \\\n",
       "0         4      100    85.0        2+1            1                 NaN   \n",
       "1        24      100    90.0        2+1            2                   4   \n",
       "2        26       80    75.0        1+1            1                   3   \n",
       "3        46       75    65.0        1+1            1                   4   \n",
       "4        54      187   150.0        3+1            2         10-20 arası   \n",
       "...     ...      ...     ...        ...          ...                 ...   \n",
       "2995  31285      160   159.0        3+1            2                   4   \n",
       "2996  31316      120   110.0        2+1            1                   3   \n",
       "2997  31320      100    85.0        2+1            1                   3   \n",
       "2998  31333       90    80.0        2+1            1                   4   \n",
       "2999  31349       98    92.0        2+1            1                   3   \n",
       "\n",
       "     Bulunduğu Kat    Bina Yaşı       Isıtma Tipi Mobilya Durumu  ...  \\\n",
       "0              NaN          NaN               NaN            NaN  ...   \n",
       "1                2  16-20 arası  Kombi (Doğalgaz)        Eşyasız  ...   \n",
       "2                3  21-25 arası  Kombi (Doğalgaz)        Eşyasız  ...   \n",
       "3     Yüksek Giriş   6-10 arası  Kombi (Doğalgaz)        Eşyasız  ...   \n",
       "4                3            2             Klima        Eşyasız  ...   \n",
       "...            ...          ...               ...            ...  ...   \n",
       "2995             1   6-10 arası  Kombi (Doğalgaz)        Eşyasız  ...   \n",
       "2996             2          NaN  Kombi (Doğalgaz)            NaN  ...   \n",
       "2997    Giriş Katı  26-30 arası               NaN        Eşyasız  ...   \n",
       "2998    Giriş Katı            0  Kombi (Doğalgaz)        Eşyasız  ...   \n",
       "2999  Yüksek Giriş            0             Klima        Eşyasız  ...   \n",
       "\n",
       "        Kimden Krediye Uygun    Price  Location Lat Location Lon  \\\n",
       "0          NaN         Hayır   350000     40.986524    28.901005   \n",
       "1          NaN          Evet   330000     40.988460    28.894923   \n",
       "2     Danışman         Hayır   230000     40.992217    28.900588   \n",
       "3     Danışman          Evet   268000     40.994774    28.897234   \n",
       "4          NaN          Evet  2000000     40.991810    28.893631   \n",
       "...        ...           ...      ...           ...          ...   \n",
       "2995       NaN          Evet  2300000     41.003304    28.882413   \n",
       "2996       NaN          Evet  1100000     40.996824    28.865574   \n",
       "2997  Danışman          Evet   370000     41.001634    28.860684   \n",
       "2998  Danışman          Evet   595000     41.006145    28.863885   \n",
       "2999  Danışman          Evet   950000     40.997227    28.865708   \n",
       "\n",
       "         Location1     Location2  Location3  Aidat Takasa Uygun  \n",
       "0         Nuripaşa   Zeytinburnu   İstanbul    NaN          NaN  \n",
       "1            Sümer   Zeytinburnu   İstanbul    0.0          NaN  \n",
       "2        Yeşiltepe   Zeytinburnu   İstanbul   25.0          NaN  \n",
       "3       Veliefendi   Zeytinburnu   İstanbul    NaN          NaN  \n",
       "4            Sümer   Zeytinburnu   İstanbul  550.0          NaN  \n",
       "...            ...           ...        ...    ...          ...  \n",
       "2995  Bahçelievler  Bahçelievler   İstanbul    0.0          NaN  \n",
       "2996  Bahçelievler  Bahçelievler   İstanbul    0.0          NaN  \n",
       "2997  Bahçelievler  Bahçelievler   İstanbul    NaN          NaN  \n",
       "2998  Bahçelievler  Bahçelievler   İstanbul    NaN          NaN  \n",
       "2999  Bahçelievler  Bahçelievler   İstanbul    0.0          NaN  \n",
       "\n",
       "[3000 rows x 24 columns]>"
      ]
     },
     "execution_count": 6,
     "metadata": {},
     "output_type": "execute_result"
    }
   ],
   "source": [
    "df.describe"
   ]
  },
  {
   "cell_type": "code",
   "execution_count": 7,
   "metadata": {},
   "outputs": [
    {
     "data": {
      "text/plain": [
       "(3000, 24)"
      ]
     },
     "execution_count": 7,
     "metadata": {},
     "output_type": "execute_result"
    }
   ],
   "source": [
    "df.shape"
   ]
  },
  {
   "cell_type": "code",
   "execution_count": 8,
   "metadata": {},
   "outputs": [],
   "source": [
    "df[['Brüt m²', 'Net m²']] = df[['Brüt m²', 'Net m²']].interpolate(method=\"linear\")"
   ]
  },
  {
   "cell_type": "code",
   "execution_count": 9,
   "metadata": {},
   "outputs": [
    {
     "data": {
      "text/plain": [
       "ID                        0\n",
       "Brüt m²                   0\n",
       "Net m²                    0\n",
       "Oda Sayısı                0\n",
       "Banyo Sayısı              0\n",
       "Binadaki Kat Sayısı     123\n",
       "Bulunduğu Kat           112\n",
       "Bina Yaşı               124\n",
       "Isıtma Tipi             139\n",
       "Mobilya Durumu          288\n",
       "Kullanım Durumu         144\n",
       "Yapının Durumu         1118\n",
       "Konut Şekli             608\n",
       "Kira Getirisi           738\n",
       "Kimden                 1241\n",
       "Krediye Uygun             0\n",
       "Price                     0\n",
       "Location Lat             23\n",
       "Location Lon             23\n",
       "Location1                 0\n",
       "Location2                 0\n",
       "Location3                 0\n",
       "Aidat                   967\n",
       "Takasa Uygun           2205\n",
       "dtype: int64"
      ]
     },
     "execution_count": 9,
     "metadata": {},
     "output_type": "execute_result"
    }
   ],
   "source": [
    "df.isnull().sum()"
   ]
  },
  {
   "cell_type": "code",
   "execution_count": 10,
   "metadata": {},
   "outputs": [],
   "source": [
    "df = df[df['Location Lat'].notna()]"
   ]
  },
  {
   "cell_type": "code",
   "execution_count": 11,
   "metadata": {},
   "outputs": [
    {
     "data": {
      "text/plain": [
       "ID                        0\n",
       "Brüt m²                   0\n",
       "Net m²                    0\n",
       "Oda Sayısı                0\n",
       "Banyo Sayısı              0\n",
       "Binadaki Kat Sayısı     123\n",
       "Bulunduğu Kat           111\n",
       "Bina Yaşı               124\n",
       "Isıtma Tipi             137\n",
       "Mobilya Durumu          282\n",
       "Kullanım Durumu         143\n",
       "Yapının Durumu         1116\n",
       "Konut Şekli             604\n",
       "Kira Getirisi           720\n",
       "Kimden                 1231\n",
       "Krediye Uygun             0\n",
       "Price                     0\n",
       "Location Lat              0\n",
       "Location Lon              0\n",
       "Location1                 0\n",
       "Location2                 0\n",
       "Location3                 0\n",
       "Aidat                   948\n",
       "Takasa Uygun           2193\n",
       "dtype: int64"
      ]
     },
     "execution_count": 11,
     "metadata": {},
     "output_type": "execute_result"
    }
   ],
   "source": [
    "df.isnull().sum()"
   ]
  },
  {
   "cell_type": "code",
   "execution_count": 12,
   "metadata": {},
   "outputs": [
    {
     "data": {
      "text/plain": [
       "(2966, 24)"
      ]
     },
     "execution_count": 12,
     "metadata": {},
     "output_type": "execute_result"
    }
   ],
   "source": [
    "df = df[(df['Net m²'] > 10) & (df['Net m²'] < 1000) ]\n",
    "df.shape"
   ]
  },
  {
   "cell_type": "code",
   "execution_count": 13,
   "metadata": {},
   "outputs": [
    {
     "data": {
      "text/plain": [
       "Banyo Sayısı\n",
       "0             2.987600e+06\n",
       "1             3.518333e+05\n",
       "2             7.919997e+05\n",
       "3             2.359178e+06\n",
       "4             3.667500e+06\n",
       "5             4.131667e+06\n",
       "6 ve üzeri    4.700000e+05\n",
       "Name: Price, dtype: float64"
      ]
     },
     "execution_count": 13,
     "metadata": {},
     "output_type": "execute_result"
    }
   ],
   "source": [
    "df.groupby(\"Banyo Sayısı\")[\"Price\"].mean()"
   ]
  },
  {
   "cell_type": "code",
   "execution_count": 14,
   "metadata": {},
   "outputs": [],
   "source": [
    "df = df[df[\"Banyo Sayısı\"] != \"6 ve üzeri\"]"
   ]
  },
  {
   "cell_type": "code",
   "execution_count": 15,
   "metadata": {},
   "outputs": [],
   "source": [
    "df2 = df\n",
    "df2 = df2[df2['Binadaki Kat Sayısı'].notna()]"
   ]
  },
  {
   "cell_type": "code",
   "execution_count": 16,
   "metadata": {},
   "outputs": [],
   "source": [
    "df2 = df2[df2['Bulunduğu Kat'].notna()]"
   ]
  },
  {
   "cell_type": "code",
   "execution_count": 17,
   "metadata": {},
   "outputs": [
    {
     "data": {
      "text/plain": [
       "Binadaki Kat Sayısı  Isıtma Tipi                    \n",
       "1                    Kombi (Doğalgaz)                    5\n",
       "10                   Kombi (Doğalgaz)                   44\n",
       "                     Merkezi Sistem (Isı Payı Ölçer)    24\n",
       "                     Klima                              13\n",
       "                     Merkezi Sistem                      5\n",
       "                                                        ..\n",
       "9                    Merkezi Sistem (Isı Payı Ölçer)    23\n",
       "                     Klima                               9\n",
       "                     Merkezi Sistem                      3\n",
       "                     Yerden Isıtma                       3\n",
       "                     Kalorifer (Doğalgaz)                1\n",
       "Name: Isıtma Tipi, Length: 76, dtype: int64"
      ]
     },
     "execution_count": 17,
     "metadata": {},
     "output_type": "execute_result"
    }
   ],
   "source": [
    "df2['Isıtma Tipi'] = df2.groupby([\"Location2\",'Binadaki Kat Sayısı'])[\"Isıtma Tipi\"].transform(lambda x:x.fillna(x.value_counts().idxmax()))\n",
    "df2.groupby(\"Binadaki Kat Sayısı\")[\"Isıtma Tipi\"].value_counts()"
   ]
  },
  {
   "cell_type": "code",
   "execution_count": 18,
   "metadata": {},
   "outputs": [
    {
     "data": {
      "text/plain": [
       "ID                        0\n",
       "Brüt m²                   0\n",
       "Net m²                    0\n",
       "Oda Sayısı                0\n",
       "Banyo Sayısı              0\n",
       "Binadaki Kat Sayısı       0\n",
       "Bulunduğu Kat             0\n",
       "Bina Yaşı                37\n",
       "Isıtma Tipi               0\n",
       "Mobilya Durumu          187\n",
       "Kullanım Durumu          50\n",
       "Yapının Durumu         1017\n",
       "Konut Şekli             498\n",
       "Kira Getirisi           622\n",
       "Kimden                 1122\n",
       "Krediye Uygun             0\n",
       "Price                     0\n",
       "Location Lat              0\n",
       "Location Lon              0\n",
       "Location1                 0\n",
       "Location2                 0\n",
       "Location3                 0\n",
       "Aidat                   841\n",
       "Takasa Uygun           2060\n",
       "dtype: int64"
      ]
     },
     "execution_count": 18,
     "metadata": {},
     "output_type": "execute_result"
    }
   ],
   "source": [
    "df2.isnull().sum()"
   ]
  },
  {
   "cell_type": "code",
   "execution_count": 19,
   "metadata": {},
   "outputs": [],
   "source": [
    "df2.groupby([\"Location2\",\"Isıtma Tipi\"])[\"Bina Yaşı\"].value_counts()\n",
    "df2['Bina Yaşı'] = df2.groupby([\"Binadaki Kat Sayısı\",\"Isıtma Tipi\"])[\"Bina Yaşı\"].transform(lambda x:x.fillna(x.value_counts().idxmax()))"
   ]
  },
  {
   "cell_type": "code",
   "execution_count": 20,
   "metadata": {},
   "outputs": [
    {
     "data": {
      "text/plain": [
       "ID                        0\n",
       "Brüt m²                   0\n",
       "Net m²                    0\n",
       "Oda Sayısı                0\n",
       "Banyo Sayısı              0\n",
       "Binadaki Kat Sayısı       0\n",
       "Bulunduğu Kat             0\n",
       "Bina Yaşı                 0\n",
       "Isıtma Tipi               0\n",
       "Mobilya Durumu          187\n",
       "Kullanım Durumu          50\n",
       "Yapının Durumu         1017\n",
       "Konut Şekli             498\n",
       "Kira Getirisi           622\n",
       "Kimden                 1122\n",
       "Krediye Uygun             0\n",
       "Price                     0\n",
       "Location Lat              0\n",
       "Location Lon              0\n",
       "Location1                 0\n",
       "Location2                 0\n",
       "Location3                 0\n",
       "Aidat                   841\n",
       "Takasa Uygun           2060\n",
       "dtype: int64"
      ]
     },
     "execution_count": 20,
     "metadata": {},
     "output_type": "execute_result"
    }
   ],
   "source": [
    "df2.isnull().sum()"
   ]
  },
  {
   "cell_type": "code",
   "execution_count": 21,
   "metadata": {},
   "outputs": [],
   "source": [
    "df2[\"Takasa Uygun\"].fillna(\"Belirtilmemiş\", inplace = True)"
   ]
  },
  {
   "cell_type": "code",
   "execution_count": 22,
   "metadata": {},
   "outputs": [
    {
     "data": {
      "text/plain": [
       "array(['Belirtilmemiş', 'Evet'], dtype=object)"
      ]
     },
     "execution_count": 22,
     "metadata": {},
     "output_type": "execute_result"
    }
   ],
   "source": [
    "df2[\"Takasa Uygun\"].unique()"
   ]
  },
  {
   "cell_type": "code",
   "execution_count": 23,
   "metadata": {},
   "outputs": [
    {
     "data": {
      "text/plain": [
       "ID                        0\n",
       "Brüt m²                   0\n",
       "Net m²                    0\n",
       "Oda Sayısı                0\n",
       "Banyo Sayısı              0\n",
       "Binadaki Kat Sayısı       0\n",
       "Bulunduğu Kat             0\n",
       "Bina Yaşı                 0\n",
       "Isıtma Tipi               0\n",
       "Mobilya Durumu          187\n",
       "Kullanım Durumu          50\n",
       "Yapının Durumu         1017\n",
       "Konut Şekli             498\n",
       "Kira Getirisi           622\n",
       "Kimden                 1122\n",
       "Krediye Uygun             0\n",
       "Price                     0\n",
       "Location Lat              0\n",
       "Location Lon              0\n",
       "Location1                 0\n",
       "Location2                 0\n",
       "Location3                 0\n",
       "Aidat                   841\n",
       "Takasa Uygun              0\n",
       "dtype: int64"
      ]
     },
     "execution_count": 23,
     "metadata": {},
     "output_type": "execute_result"
    }
   ],
   "source": [
    "df2.isnull().sum()"
   ]
  },
  {
   "cell_type": "code",
   "execution_count": 24,
   "metadata": {},
   "outputs": [],
   "source": [
    "df2.groupby(\"Binadaki Kat Sayısı\")[\"Aidat\"].mean()\n",
    "df2['Aidat'] = df2.groupby([\"Location2\",'Binadaki Kat Sayısı'])[\"Aidat\"].transform(lambda x:x.fillna(x.mean()))"
   ]
  },
  {
   "cell_type": "code",
   "execution_count": 25,
   "metadata": {},
   "outputs": [
    {
     "data": {
      "text/plain": [
       "ID                        0\n",
       "Brüt m²                   0\n",
       "Net m²                    0\n",
       "Oda Sayısı                0\n",
       "Banyo Sayısı              0\n",
       "Binadaki Kat Sayısı       0\n",
       "Bulunduğu Kat             0\n",
       "Bina Yaşı                 0\n",
       "Isıtma Tipi               0\n",
       "Mobilya Durumu          187\n",
       "Kullanım Durumu          50\n",
       "Yapının Durumu         1017\n",
       "Konut Şekli             498\n",
       "Kira Getirisi           622\n",
       "Kimden                 1122\n",
       "Krediye Uygun             0\n",
       "Price                     0\n",
       "Location Lat              0\n",
       "Location Lon              0\n",
       "Location1                 0\n",
       "Location2                 0\n",
       "Location3                 0\n",
       "Aidat                    20\n",
       "Takasa Uygun              0\n",
       "dtype: int64"
      ]
     },
     "execution_count": 25,
     "metadata": {},
     "output_type": "execute_result"
    }
   ],
   "source": [
    "df2.isnull().sum()"
   ]
  },
  {
   "cell_type": "code",
   "execution_count": 26,
   "metadata": {},
   "outputs": [
    {
     "data": {
      "text/plain": [
       "Mobilya Durumu\n",
       "Eşyalı (Mobilyalı)    5.597500e+05\n",
       "Eşyasız               4.746634e+05\n",
       "Sadece Beyaz Eşya     1.573250e+06\n",
       "Sadece Mutfak         9.134737e+05\n",
       "Name: Price, dtype: float64"
      ]
     },
     "execution_count": 26,
     "metadata": {},
     "output_type": "execute_result"
    }
   ],
   "source": [
    "df2[\"Mobilya Durumu\"].fillna(\"Sadece Mutfak\", inplace = True)\n",
    "df2.groupby(\"Mobilya Durumu\")[\"Price\"].mean()"
   ]
  },
  {
   "cell_type": "code",
   "execution_count": 27,
   "metadata": {},
   "outputs": [
    {
     "data": {
      "text/plain": [
       "ID                        0\n",
       "Brüt m²                   0\n",
       "Net m²                    0\n",
       "Oda Sayısı                0\n",
       "Banyo Sayısı              0\n",
       "Binadaki Kat Sayısı       0\n",
       "Bulunduğu Kat             0\n",
       "Bina Yaşı                 0\n",
       "Isıtma Tipi               0\n",
       "Mobilya Durumu            0\n",
       "Kullanım Durumu           0\n",
       "Yapının Durumu         1017\n",
       "Konut Şekli             498\n",
       "Kira Getirisi           622\n",
       "Kimden                 1122\n",
       "Krediye Uygun             0\n",
       "Price                     0\n",
       "Location Lat              0\n",
       "Location Lon              0\n",
       "Location1                 0\n",
       "Location2                 0\n",
       "Location3                 0\n",
       "Aidat                    20\n",
       "Takasa Uygun              0\n",
       "dtype: int64"
      ]
     },
     "execution_count": 27,
     "metadata": {},
     "output_type": "execute_result"
    }
   ],
   "source": [
    "df2.groupby(\"Mobilya Durumu\")[\"Kullanım Durumu\"].value_counts()\n",
    "df2['Kullanım Durumu'] = df2.groupby([\"Bina Yaşı\",'Mobilya Durumu'])[\"Kullanım Durumu\"].transform(lambda x:x.fillna(x.value_counts().idxmax()))\n",
    "df2.isnull().sum()"
   ]
  },
  {
   "cell_type": "code",
   "execution_count": 28,
   "metadata": {},
   "outputs": [
    {
     "data": {
      "text/plain": [
       "ID                        0\n",
       "Brüt m²                   0\n",
       "Net m²                    0\n",
       "Oda Sayısı                0\n",
       "Banyo Sayısı              0\n",
       "Binadaki Kat Sayısı       0\n",
       "Bulunduğu Kat             0\n",
       "Bina Yaşı                 0\n",
       "Isıtma Tipi               0\n",
       "Mobilya Durumu            0\n",
       "Kullanım Durumu           0\n",
       "Yapının Durumu            0\n",
       "Konut Şekli             498\n",
       "Kira Getirisi           622\n",
       "Kimden                 1122\n",
       "Krediye Uygun             0\n",
       "Price                     0\n",
       "Location Lat              0\n",
       "Location Lon              0\n",
       "Location1                 0\n",
       "Location2                 0\n",
       "Location3                 0\n",
       "Aidat                    20\n",
       "Takasa Uygun              0\n",
       "dtype: int64"
      ]
     },
     "execution_count": 28,
     "metadata": {},
     "output_type": "execute_result"
    }
   ],
   "source": [
    "df2.groupby(\"Bina Yaşı\")[\"Yapının Durumu\"].value_counts()\n",
    "df2['Yapının Durumu'] = df2.groupby(['Bina Yaşı',\"Kullanım Durumu\"])[\"Yapının Durumu\"].transform(lambda x:x.fillna(x.value_counts().idxmax()))\n",
    "df2.isnull().sum()"
   ]
  },
  {
   "cell_type": "code",
   "execution_count": 29,
   "metadata": {},
   "outputs": [
    {
     "data": {
      "text/plain": [
       "ID                        0\n",
       "Brüt m²                   0\n",
       "Net m²                    0\n",
       "Oda Sayısı                0\n",
       "Banyo Sayısı              0\n",
       "Binadaki Kat Sayısı       0\n",
       "Bulunduğu Kat             0\n",
       "Bina Yaşı                 0\n",
       "Isıtma Tipi               0\n",
       "Mobilya Durumu            0\n",
       "Kullanım Durumu           0\n",
       "Yapının Durumu            0\n",
       "Konut Şekli               0\n",
       "Kira Getirisi           622\n",
       "Kimden                 1122\n",
       "Krediye Uygun             0\n",
       "Price                     0\n",
       "Location Lat              0\n",
       "Location Lon              0\n",
       "Location1                 0\n",
       "Location2                 0\n",
       "Location3                 0\n",
       "Aidat                    20\n",
       "Takasa Uygun              0\n",
       "dtype: int64"
      ]
     },
     "execution_count": 29,
     "metadata": {},
     "output_type": "execute_result"
    }
   ],
   "source": [
    "df2[\"Konut Şekli\"].fillna(\"Belirtilmemiş\", inplace = True)\n",
    "df2.isnull().sum()"
   ]
  },
  {
   "cell_type": "code",
   "execution_count": 30,
   "metadata": {},
   "outputs": [
    {
     "data": {
      "text/plain": [
       "ID                       0\n",
       "Brüt m²                  0\n",
       "Net m²                   0\n",
       "Oda Sayısı               0\n",
       "Banyo Sayısı             0\n",
       "Binadaki Kat Sayısı      0\n",
       "Bulunduğu Kat            0\n",
       "Bina Yaşı                0\n",
       "Isıtma Tipi              0\n",
       "Mobilya Durumu           0\n",
       "Kullanım Durumu          0\n",
       "Yapının Durumu           0\n",
       "Konut Şekli              0\n",
       "Kira Getirisi          622\n",
       "Kimden                   0\n",
       "Krediye Uygun            0\n",
       "Price                    0\n",
       "Location Lat             0\n",
       "Location Lon             0\n",
       "Location1                0\n",
       "Location2                0\n",
       "Location3                0\n",
       "Aidat                   20\n",
       "Takasa Uygun             0\n",
       "dtype: int64"
      ]
     },
     "execution_count": 30,
     "metadata": {},
     "output_type": "execute_result"
    }
   ],
   "source": [
    "df2[\"Kimden\"].fillna(\"Belirtilmemiş\", inplace = True)\n",
    "df2.isnull().sum()\n"
   ]
  },
  {
   "cell_type": "code",
   "execution_count": 31,
   "metadata": {},
   "outputs": [],
   "source": [
    "df2[\"Bulunduğu Kat\"].replace([\"9\",\"10\",\"11\",\"12\"],\"9-12 Kat\", inplace = True)\n",
    "df2[\"Bulunduğu Kat\"].replace([\"6\",\"7\",\"8\"],\"Kat : 6-8\", inplace = True)\n",
    "df2[\"Bulunduğu Kat\"].replace([\"13\",\"14\"],\"Kat : 13-14\", inplace = True)\n",
    "df2[\"Bulunduğu Kat\"].replace([\"15\",\"16\",\"17\"],\"Kat : 15-17\", inplace = True)"
   ]
  },
  {
   "cell_type": "code",
   "execution_count": 32,
   "metadata": {},
   "outputs": [
    {
     "data": {
      "text/plain": [
       "1    1705.041580\n",
       "2    1300.000000\n",
       "3    1100.000000\n",
       "4    2841.735967\n",
       "5    1420.867983\n",
       "Name: Kira Getirisi, dtype: float64"
      ]
     },
     "execution_count": 32,
     "metadata": {},
     "output_type": "execute_result"
    }
   ],
   "source": [
    "df2[\"Kira Getirisi\"] = df2[\"Kira Getirisi\"].fillna(value=0)\n",
    "s = df2.loc[df2[\"Kira Getirisi\"].ne(0)].groupby(\"Location2\").sum()\n",
    "df2.loc[df2[\"Kira Getirisi\"].eq(0), \"Kira Getirisi\"] = df2[\"Location2\"].map(s[\"Kira Getirisi\"]/s[\"Net m²\"])*df2[\"Net m²\"]\n",
    "df2[\"Kira Getirisi\"].head()"
   ]
  },
  {
   "cell_type": "code",
   "execution_count": 33,
   "metadata": {},
   "outputs": [
    {
     "data": {
      "text/plain": [
       "ID                      0\n",
       "Brüt m²                 0\n",
       "Net m²                  0\n",
       "Oda Sayısı              0\n",
       "Banyo Sayısı            0\n",
       "Binadaki Kat Sayısı     0\n",
       "Bulunduğu Kat           0\n",
       "Bina Yaşı               0\n",
       "Isıtma Tipi             0\n",
       "Mobilya Durumu          0\n",
       "Kullanım Durumu         0\n",
       "Yapının Durumu          0\n",
       "Konut Şekli             0\n",
       "Kira Getirisi           5\n",
       "Kimden                  0\n",
       "Krediye Uygun           0\n",
       "Price                   0\n",
       "Location Lat            0\n",
       "Location Lon            0\n",
       "Location1               0\n",
       "Location2               0\n",
       "Location3               0\n",
       "Aidat                  20\n",
       "Takasa Uygun            0\n",
       "dtype: int64"
      ]
     },
     "execution_count": 33,
     "metadata": {},
     "output_type": "execute_result"
    }
   ],
   "source": [
    "df2.isnull().sum()"
   ]
  },
  {
   "cell_type": "code",
   "execution_count": 34,
   "metadata": {},
   "outputs": [],
   "source": [
    "df = df2"
   ]
  },
  {
   "cell_type": "code",
   "execution_count": 35,
   "metadata": {},
   "outputs": [
    {
     "data": {
      "text/html": [
       "<div>\n",
       "<style scoped>\n",
       "    .dataframe tbody tr th:only-of-type {\n",
       "        vertical-align: middle;\n",
       "    }\n",
       "\n",
       "    .dataframe tbody tr th {\n",
       "        vertical-align: top;\n",
       "    }\n",
       "\n",
       "    .dataframe thead th {\n",
       "        text-align: right;\n",
       "    }\n",
       "</style>\n",
       "<table border=\"1\" class=\"dataframe\">\n",
       "  <thead>\n",
       "    <tr style=\"text-align: right;\">\n",
       "      <th></th>\n",
       "      <th>ID</th>\n",
       "      <th>Brüt m²</th>\n",
       "      <th>Net m²</th>\n",
       "      <th>Oda Sayısı</th>\n",
       "      <th>Banyo Sayısı</th>\n",
       "      <th>Binadaki Kat Sayısı</th>\n",
       "      <th>Bulunduğu Kat</th>\n",
       "      <th>Bina Yaşı</th>\n",
       "      <th>Isıtma Tipi</th>\n",
       "      <th>Mobilya Durumu</th>\n",
       "      <th>...</th>\n",
       "      <th>Kimden</th>\n",
       "      <th>Krediye Uygun</th>\n",
       "      <th>Price</th>\n",
       "      <th>Location Lat</th>\n",
       "      <th>Location Lon</th>\n",
       "      <th>Location1</th>\n",
       "      <th>Location2</th>\n",
       "      <th>Location3</th>\n",
       "      <th>Aidat</th>\n",
       "      <th>Takasa Uygun</th>\n",
       "    </tr>\n",
       "  </thead>\n",
       "  <tbody>\n",
       "    <tr>\n",
       "      <th>1</th>\n",
       "      <td>24</td>\n",
       "      <td>100</td>\n",
       "      <td>90.0</td>\n",
       "      <td>2+1</td>\n",
       "      <td>2</td>\n",
       "      <td>4</td>\n",
       "      <td>2</td>\n",
       "      <td>16-20 arası</td>\n",
       "      <td>Kombi (Doğalgaz)</td>\n",
       "      <td>Eşyasız</td>\n",
       "      <td>...</td>\n",
       "      <td>Belirtilmemiş</td>\n",
       "      <td>Evet</td>\n",
       "      <td>330000</td>\n",
       "      <td>40.988460</td>\n",
       "      <td>28.894923</td>\n",
       "      <td>Sümer</td>\n",
       "      <td>Zeytinburnu</td>\n",
       "      <td>İstanbul</td>\n",
       "      <td>0.000000</td>\n",
       "      <td>Belirtilmemiş</td>\n",
       "    </tr>\n",
       "    <tr>\n",
       "      <th>2</th>\n",
       "      <td>26</td>\n",
       "      <td>80</td>\n",
       "      <td>75.0</td>\n",
       "      <td>1+1</td>\n",
       "      <td>1</td>\n",
       "      <td>3</td>\n",
       "      <td>3</td>\n",
       "      <td>21-25 arası</td>\n",
       "      <td>Kombi (Doğalgaz)</td>\n",
       "      <td>Eşyasız</td>\n",
       "      <td>...</td>\n",
       "      <td>Danışman</td>\n",
       "      <td>Hayır</td>\n",
       "      <td>230000</td>\n",
       "      <td>40.992217</td>\n",
       "      <td>28.900588</td>\n",
       "      <td>Yeşiltepe</td>\n",
       "      <td>Zeytinburnu</td>\n",
       "      <td>İstanbul</td>\n",
       "      <td>25.000000</td>\n",
       "      <td>Belirtilmemiş</td>\n",
       "    </tr>\n",
       "    <tr>\n",
       "      <th>3</th>\n",
       "      <td>46</td>\n",
       "      <td>75</td>\n",
       "      <td>65.0</td>\n",
       "      <td>1+1</td>\n",
       "      <td>1</td>\n",
       "      <td>4</td>\n",
       "      <td>Yüksek Giriş</td>\n",
       "      <td>6-10 arası</td>\n",
       "      <td>Kombi (Doğalgaz)</td>\n",
       "      <td>Eşyasız</td>\n",
       "      <td>...</td>\n",
       "      <td>Danışman</td>\n",
       "      <td>Evet</td>\n",
       "      <td>268000</td>\n",
       "      <td>40.994774</td>\n",
       "      <td>28.897234</td>\n",
       "      <td>Veliefendi</td>\n",
       "      <td>Zeytinburnu</td>\n",
       "      <td>İstanbul</td>\n",
       "      <td>5.357143</td>\n",
       "      <td>Belirtilmemiş</td>\n",
       "    </tr>\n",
       "    <tr>\n",
       "      <th>4</th>\n",
       "      <td>54</td>\n",
       "      <td>187</td>\n",
       "      <td>150.0</td>\n",
       "      <td>3+1</td>\n",
       "      <td>2</td>\n",
       "      <td>10-20 arası</td>\n",
       "      <td>3</td>\n",
       "      <td>2</td>\n",
       "      <td>Klima</td>\n",
       "      <td>Eşyasız</td>\n",
       "      <td>...</td>\n",
       "      <td>Belirtilmemiş</td>\n",
       "      <td>Evet</td>\n",
       "      <td>2000000</td>\n",
       "      <td>40.991810</td>\n",
       "      <td>28.893631</td>\n",
       "      <td>Sümer</td>\n",
       "      <td>Zeytinburnu</td>\n",
       "      <td>İstanbul</td>\n",
       "      <td>550.000000</td>\n",
       "      <td>Belirtilmemiş</td>\n",
       "    </tr>\n",
       "    <tr>\n",
       "      <th>5</th>\n",
       "      <td>56</td>\n",
       "      <td>85</td>\n",
       "      <td>75.0</td>\n",
       "      <td>2+1</td>\n",
       "      <td>1</td>\n",
       "      <td>4</td>\n",
       "      <td>Bodrum Kat</td>\n",
       "      <td>11-15 arası</td>\n",
       "      <td>Kombi (Doğalgaz)</td>\n",
       "      <td>Eşyasız</td>\n",
       "      <td>...</td>\n",
       "      <td>Danışman</td>\n",
       "      <td>Evet</td>\n",
       "      <td>220000</td>\n",
       "      <td>40.987131</td>\n",
       "      <td>28.898133</td>\n",
       "      <td>Sümer</td>\n",
       "      <td>Zeytinburnu</td>\n",
       "      <td>İstanbul</td>\n",
       "      <td>0.000000</td>\n",
       "      <td>Belirtilmemiş</td>\n",
       "    </tr>\n",
       "    <tr>\n",
       "      <th>...</th>\n",
       "      <td>...</td>\n",
       "      <td>...</td>\n",
       "      <td>...</td>\n",
       "      <td>...</td>\n",
       "      <td>...</td>\n",
       "      <td>...</td>\n",
       "      <td>...</td>\n",
       "      <td>...</td>\n",
       "      <td>...</td>\n",
       "      <td>...</td>\n",
       "      <td>...</td>\n",
       "      <td>...</td>\n",
       "      <td>...</td>\n",
       "      <td>...</td>\n",
       "      <td>...</td>\n",
       "      <td>...</td>\n",
       "      <td>...</td>\n",
       "      <td>...</td>\n",
       "      <td>...</td>\n",
       "      <td>...</td>\n",
       "      <td>...</td>\n",
       "    </tr>\n",
       "    <tr>\n",
       "      <th>2995</th>\n",
       "      <td>31285</td>\n",
       "      <td>160</td>\n",
       "      <td>159.0</td>\n",
       "      <td>3+1</td>\n",
       "      <td>2</td>\n",
       "      <td>4</td>\n",
       "      <td>1</td>\n",
       "      <td>6-10 arası</td>\n",
       "      <td>Kombi (Doğalgaz)</td>\n",
       "      <td>Eşyasız</td>\n",
       "      <td>...</td>\n",
       "      <td>Belirtilmemiş</td>\n",
       "      <td>Evet</td>\n",
       "      <td>2300000</td>\n",
       "      <td>41.003304</td>\n",
       "      <td>28.882413</td>\n",
       "      <td>Bahçelievler</td>\n",
       "      <td>Bahçelievler</td>\n",
       "      <td>İstanbul</td>\n",
       "      <td>0.000000</td>\n",
       "      <td>Belirtilmemiş</td>\n",
       "    </tr>\n",
       "    <tr>\n",
       "      <th>2996</th>\n",
       "      <td>31316</td>\n",
       "      <td>120</td>\n",
       "      <td>110.0</td>\n",
       "      <td>2+1</td>\n",
       "      <td>1</td>\n",
       "      <td>3</td>\n",
       "      <td>2</td>\n",
       "      <td>0</td>\n",
       "      <td>Kombi (Doğalgaz)</td>\n",
       "      <td>Sadece Mutfak</td>\n",
       "      <td>...</td>\n",
       "      <td>Belirtilmemiş</td>\n",
       "      <td>Evet</td>\n",
       "      <td>1100000</td>\n",
       "      <td>40.996824</td>\n",
       "      <td>28.865574</td>\n",
       "      <td>Bahçelievler</td>\n",
       "      <td>Bahçelievler</td>\n",
       "      <td>İstanbul</td>\n",
       "      <td>0.000000</td>\n",
       "      <td>Belirtilmemiş</td>\n",
       "    </tr>\n",
       "    <tr>\n",
       "      <th>2997</th>\n",
       "      <td>31320</td>\n",
       "      <td>100</td>\n",
       "      <td>85.0</td>\n",
       "      <td>2+1</td>\n",
       "      <td>1</td>\n",
       "      <td>3</td>\n",
       "      <td>Giriş Katı</td>\n",
       "      <td>26-30 arası</td>\n",
       "      <td>Kombi (Doğalgaz)</td>\n",
       "      <td>Eşyasız</td>\n",
       "      <td>...</td>\n",
       "      <td>Danışman</td>\n",
       "      <td>Evet</td>\n",
       "      <td>370000</td>\n",
       "      <td>41.001634</td>\n",
       "      <td>28.860684</td>\n",
       "      <td>Bahçelievler</td>\n",
       "      <td>Bahçelievler</td>\n",
       "      <td>İstanbul</td>\n",
       "      <td>24.666667</td>\n",
       "      <td>Belirtilmemiş</td>\n",
       "    </tr>\n",
       "    <tr>\n",
       "      <th>2998</th>\n",
       "      <td>31333</td>\n",
       "      <td>90</td>\n",
       "      <td>80.0</td>\n",
       "      <td>2+1</td>\n",
       "      <td>1</td>\n",
       "      <td>4</td>\n",
       "      <td>Giriş Katı</td>\n",
       "      <td>0</td>\n",
       "      <td>Kombi (Doğalgaz)</td>\n",
       "      <td>Eşyasız</td>\n",
       "      <td>...</td>\n",
       "      <td>Danışman</td>\n",
       "      <td>Evet</td>\n",
       "      <td>595000</td>\n",
       "      <td>41.006145</td>\n",
       "      <td>28.863885</td>\n",
       "      <td>Bahçelievler</td>\n",
       "      <td>Bahçelievler</td>\n",
       "      <td>İstanbul</td>\n",
       "      <td>21.764706</td>\n",
       "      <td>Belirtilmemiş</td>\n",
       "    </tr>\n",
       "    <tr>\n",
       "      <th>2999</th>\n",
       "      <td>31349</td>\n",
       "      <td>98</td>\n",
       "      <td>92.0</td>\n",
       "      <td>2+1</td>\n",
       "      <td>1</td>\n",
       "      <td>3</td>\n",
       "      <td>Yüksek Giriş</td>\n",
       "      <td>0</td>\n",
       "      <td>Klima</td>\n",
       "      <td>Eşyasız</td>\n",
       "      <td>...</td>\n",
       "      <td>Danışman</td>\n",
       "      <td>Evet</td>\n",
       "      <td>950000</td>\n",
       "      <td>40.997227</td>\n",
       "      <td>28.865708</td>\n",
       "      <td>Bahçelievler</td>\n",
       "      <td>Bahçelievler</td>\n",
       "      <td>İstanbul</td>\n",
       "      <td>0.000000</td>\n",
       "      <td>Belirtilmemiş</td>\n",
       "    </tr>\n",
       "  </tbody>\n",
       "</table>\n",
       "<p>2826 rows × 24 columns</p>\n",
       "</div>"
      ],
      "text/plain": [
       "         ID  Brüt m²  Net m² Oda Sayısı Banyo Sayısı Binadaki Kat Sayısı  \\\n",
       "1        24      100    90.0        2+1            2                   4   \n",
       "2        26       80    75.0        1+1            1                   3   \n",
       "3        46       75    65.0        1+1            1                   4   \n",
       "4        54      187   150.0        3+1            2         10-20 arası   \n",
       "5        56       85    75.0        2+1            1                   4   \n",
       "...     ...      ...     ...        ...          ...                 ...   \n",
       "2995  31285      160   159.0        3+1            2                   4   \n",
       "2996  31316      120   110.0        2+1            1                   3   \n",
       "2997  31320      100    85.0        2+1            1                   3   \n",
       "2998  31333       90    80.0        2+1            1                   4   \n",
       "2999  31349       98    92.0        2+1            1                   3   \n",
       "\n",
       "     Bulunduğu Kat    Bina Yaşı       Isıtma Tipi Mobilya Durumu  ...  \\\n",
       "1                2  16-20 arası  Kombi (Doğalgaz)        Eşyasız  ...   \n",
       "2                3  21-25 arası  Kombi (Doğalgaz)        Eşyasız  ...   \n",
       "3     Yüksek Giriş   6-10 arası  Kombi (Doğalgaz)        Eşyasız  ...   \n",
       "4                3            2             Klima        Eşyasız  ...   \n",
       "5       Bodrum Kat  11-15 arası  Kombi (Doğalgaz)        Eşyasız  ...   \n",
       "...            ...          ...               ...            ...  ...   \n",
       "2995             1   6-10 arası  Kombi (Doğalgaz)        Eşyasız  ...   \n",
       "2996             2            0  Kombi (Doğalgaz)  Sadece Mutfak  ...   \n",
       "2997    Giriş Katı  26-30 arası  Kombi (Doğalgaz)        Eşyasız  ...   \n",
       "2998    Giriş Katı            0  Kombi (Doğalgaz)        Eşyasız  ...   \n",
       "2999  Yüksek Giriş            0             Klima        Eşyasız  ...   \n",
       "\n",
       "             Kimden Krediye Uygun    Price  Location Lat Location Lon  \\\n",
       "1     Belirtilmemiş          Evet   330000     40.988460    28.894923   \n",
       "2          Danışman         Hayır   230000     40.992217    28.900588   \n",
       "3          Danışman          Evet   268000     40.994774    28.897234   \n",
       "4     Belirtilmemiş          Evet  2000000     40.991810    28.893631   \n",
       "5          Danışman          Evet   220000     40.987131    28.898133   \n",
       "...             ...           ...      ...           ...          ...   \n",
       "2995  Belirtilmemiş          Evet  2300000     41.003304    28.882413   \n",
       "2996  Belirtilmemiş          Evet  1100000     40.996824    28.865574   \n",
       "2997       Danışman          Evet   370000     41.001634    28.860684   \n",
       "2998       Danışman          Evet   595000     41.006145    28.863885   \n",
       "2999       Danışman          Evet   950000     40.997227    28.865708   \n",
       "\n",
       "         Location1     Location2  Location3       Aidat   Takasa Uygun  \n",
       "1            Sümer   Zeytinburnu   İstanbul    0.000000  Belirtilmemiş  \n",
       "2        Yeşiltepe   Zeytinburnu   İstanbul   25.000000  Belirtilmemiş  \n",
       "3       Veliefendi   Zeytinburnu   İstanbul    5.357143  Belirtilmemiş  \n",
       "4            Sümer   Zeytinburnu   İstanbul  550.000000  Belirtilmemiş  \n",
       "5            Sümer   Zeytinburnu   İstanbul    0.000000  Belirtilmemiş  \n",
       "...            ...           ...        ...         ...            ...  \n",
       "2995  Bahçelievler  Bahçelievler   İstanbul    0.000000  Belirtilmemiş  \n",
       "2996  Bahçelievler  Bahçelievler   İstanbul    0.000000  Belirtilmemiş  \n",
       "2997  Bahçelievler  Bahçelievler   İstanbul   24.666667  Belirtilmemiş  \n",
       "2998  Bahçelievler  Bahçelievler   İstanbul   21.764706  Belirtilmemiş  \n",
       "2999  Bahçelievler  Bahçelievler   İstanbul    0.000000  Belirtilmemiş  \n",
       "\n",
       "[2826 rows x 24 columns]"
      ]
     },
     "execution_count": 35,
     "metadata": {},
     "output_type": "execute_result"
    }
   ],
   "source": [
    "df"
   ]
  },
  {
   "cell_type": "code",
   "execution_count": 36,
   "metadata": {},
   "outputs": [],
   "source": [
    "df = df[df['Aidat'].notna()]"
   ]
  },
  {
   "cell_type": "code",
   "execution_count": 37,
   "metadata": {},
   "outputs": [
    {
     "data": {
      "text/plain": [
       "ID                     0\n",
       "Brüt m²                0\n",
       "Net m²                 0\n",
       "Oda Sayısı             0\n",
       "Banyo Sayısı           0\n",
       "Binadaki Kat Sayısı    0\n",
       "Bulunduğu Kat          0\n",
       "Bina Yaşı              0\n",
       "Isıtma Tipi            0\n",
       "Mobilya Durumu         0\n",
       "Kullanım Durumu        0\n",
       "Yapının Durumu         0\n",
       "Konut Şekli            0\n",
       "Kira Getirisi          5\n",
       "Kimden                 0\n",
       "Krediye Uygun          0\n",
       "Price                  0\n",
       "Location Lat           0\n",
       "Location Lon           0\n",
       "Location1              0\n",
       "Location2              0\n",
       "Location3              0\n",
       "Aidat                  0\n",
       "Takasa Uygun           0\n",
       "dtype: int64"
      ]
     },
     "execution_count": 37,
     "metadata": {},
     "output_type": "execute_result"
    }
   ],
   "source": [
    "df.isnull().sum()"
   ]
  },
  {
   "cell_type": "code",
   "execution_count": 38,
   "metadata": {},
   "outputs": [
    {
     "data": {
      "text/plain": [
       "1         0.000000\n",
       "2        25.000000\n",
       "3         5.357143\n",
       "4       550.000000\n",
       "5         0.000000\n",
       "           ...    \n",
       "2995      0.000000\n",
       "2996      0.000000\n",
       "2997     24.666667\n",
       "2998     21.764706\n",
       "2999      0.000000\n",
       "Name: Aidat, Length: 2806, dtype: float64"
      ]
     },
     "execution_count": 38,
     "metadata": {},
     "output_type": "execute_result"
    }
   ],
   "source": [
    "df['Aidat']"
   ]
  },
  {
   "cell_type": "code",
   "execution_count": 39,
   "metadata": {},
   "outputs": [],
   "source": [
    "df = df[df['Kira Getirisi'].notna()]"
   ]
  },
  {
   "cell_type": "code",
   "execution_count": 40,
   "metadata": {},
   "outputs": [
    {
     "data": {
      "text/plain": [
       "1       1705.041580\n",
       "2       1300.000000\n",
       "3       1100.000000\n",
       "4       2841.735967\n",
       "5       1420.867983\n",
       "           ...     \n",
       "2995    2720.499662\n",
       "2996    1882.106685\n",
       "2997    1454.355165\n",
       "2998    2500.000000\n",
       "2999    1574.125591\n",
       "Name: Kira Getirisi, Length: 2801, dtype: float64"
      ]
     },
     "execution_count": 40,
     "metadata": {},
     "output_type": "execute_result"
    }
   ],
   "source": [
    "df['Kira Getirisi']"
   ]
  },
  {
   "cell_type": "code",
   "execution_count": 41,
   "metadata": {},
   "outputs": [
    {
     "data": {
      "text/plain": [
       "ID                     0\n",
       "Brüt m²                0\n",
       "Net m²                 0\n",
       "Oda Sayısı             0\n",
       "Banyo Sayısı           0\n",
       "Binadaki Kat Sayısı    0\n",
       "Bulunduğu Kat          0\n",
       "Bina Yaşı              0\n",
       "Isıtma Tipi            0\n",
       "Mobilya Durumu         0\n",
       "Kullanım Durumu        0\n",
       "Yapının Durumu         0\n",
       "Konut Şekli            0\n",
       "Kira Getirisi          0\n",
       "Kimden                 0\n",
       "Krediye Uygun          0\n",
       "Price                  0\n",
       "Location Lat           0\n",
       "Location Lon           0\n",
       "Location1              0\n",
       "Location2              0\n",
       "Location3              0\n",
       "Aidat                  0\n",
       "Takasa Uygun           0\n",
       "dtype: int64"
      ]
     },
     "execution_count": 41,
     "metadata": {},
     "output_type": "execute_result"
    }
   ],
   "source": [
    "df.isnull().sum()"
   ]
  },
  {
   "cell_type": "code",
   "execution_count": 42,
   "metadata": {},
   "outputs": [
    {
     "data": {
      "text/html": [
       "<div>\n",
       "<style scoped>\n",
       "    .dataframe tbody tr th:only-of-type {\n",
       "        vertical-align: middle;\n",
       "    }\n",
       "\n",
       "    .dataframe tbody tr th {\n",
       "        vertical-align: top;\n",
       "    }\n",
       "\n",
       "    .dataframe thead th {\n",
       "        text-align: right;\n",
       "    }\n",
       "</style>\n",
       "<table border=\"1\" class=\"dataframe\">\n",
       "  <thead>\n",
       "    <tr style=\"text-align: right;\">\n",
       "      <th></th>\n",
       "      <th>ID</th>\n",
       "      <th>Brüt m²</th>\n",
       "      <th>Net m²</th>\n",
       "      <th>Oda Sayısı</th>\n",
       "      <th>Banyo Sayısı</th>\n",
       "      <th>Binadaki Kat Sayısı</th>\n",
       "      <th>Bulunduğu Kat</th>\n",
       "      <th>Bina Yaşı</th>\n",
       "      <th>Isıtma Tipi</th>\n",
       "      <th>Mobilya Durumu</th>\n",
       "      <th>...</th>\n",
       "      <th>Kimden</th>\n",
       "      <th>Krediye Uygun</th>\n",
       "      <th>Price</th>\n",
       "      <th>Location Lat</th>\n",
       "      <th>Location Lon</th>\n",
       "      <th>Location1</th>\n",
       "      <th>Location2</th>\n",
       "      <th>Location3</th>\n",
       "      <th>Aidat</th>\n",
       "      <th>Takasa Uygun</th>\n",
       "    </tr>\n",
       "  </thead>\n",
       "  <tbody>\n",
       "    <tr>\n",
       "      <th>1</th>\n",
       "      <td>24</td>\n",
       "      <td>100</td>\n",
       "      <td>90.0</td>\n",
       "      <td>2+1</td>\n",
       "      <td>2</td>\n",
       "      <td>4</td>\n",
       "      <td>2</td>\n",
       "      <td>16-20 arası</td>\n",
       "      <td>Kombi (Doğalgaz)</td>\n",
       "      <td>Eşyasız</td>\n",
       "      <td>...</td>\n",
       "      <td>Belirtilmemiş</td>\n",
       "      <td>Evet</td>\n",
       "      <td>330000</td>\n",
       "      <td>40.988460</td>\n",
       "      <td>28.894923</td>\n",
       "      <td>Sümer</td>\n",
       "      <td>Zeytinburnu</td>\n",
       "      <td>İstanbul</td>\n",
       "      <td>0.000000</td>\n",
       "      <td>Belirtilmemiş</td>\n",
       "    </tr>\n",
       "    <tr>\n",
       "      <th>2</th>\n",
       "      <td>26</td>\n",
       "      <td>80</td>\n",
       "      <td>75.0</td>\n",
       "      <td>1+1</td>\n",
       "      <td>1</td>\n",
       "      <td>3</td>\n",
       "      <td>3</td>\n",
       "      <td>21-25 arası</td>\n",
       "      <td>Kombi (Doğalgaz)</td>\n",
       "      <td>Eşyasız</td>\n",
       "      <td>...</td>\n",
       "      <td>Danışman</td>\n",
       "      <td>Hayır</td>\n",
       "      <td>230000</td>\n",
       "      <td>40.992217</td>\n",
       "      <td>28.900588</td>\n",
       "      <td>Yeşiltepe</td>\n",
       "      <td>Zeytinburnu</td>\n",
       "      <td>İstanbul</td>\n",
       "      <td>25.000000</td>\n",
       "      <td>Belirtilmemiş</td>\n",
       "    </tr>\n",
       "    <tr>\n",
       "      <th>3</th>\n",
       "      <td>46</td>\n",
       "      <td>75</td>\n",
       "      <td>65.0</td>\n",
       "      <td>1+1</td>\n",
       "      <td>1</td>\n",
       "      <td>4</td>\n",
       "      <td>Yüksek Giriş</td>\n",
       "      <td>6-10 arası</td>\n",
       "      <td>Kombi (Doğalgaz)</td>\n",
       "      <td>Eşyasız</td>\n",
       "      <td>...</td>\n",
       "      <td>Danışman</td>\n",
       "      <td>Evet</td>\n",
       "      <td>268000</td>\n",
       "      <td>40.994774</td>\n",
       "      <td>28.897234</td>\n",
       "      <td>Veliefendi</td>\n",
       "      <td>Zeytinburnu</td>\n",
       "      <td>İstanbul</td>\n",
       "      <td>5.357143</td>\n",
       "      <td>Belirtilmemiş</td>\n",
       "    </tr>\n",
       "    <tr>\n",
       "      <th>4</th>\n",
       "      <td>54</td>\n",
       "      <td>187</td>\n",
       "      <td>150.0</td>\n",
       "      <td>3+1</td>\n",
       "      <td>2</td>\n",
       "      <td>10-20 arası</td>\n",
       "      <td>3</td>\n",
       "      <td>2</td>\n",
       "      <td>Klima</td>\n",
       "      <td>Eşyasız</td>\n",
       "      <td>...</td>\n",
       "      <td>Belirtilmemiş</td>\n",
       "      <td>Evet</td>\n",
       "      <td>2000000</td>\n",
       "      <td>40.991810</td>\n",
       "      <td>28.893631</td>\n",
       "      <td>Sümer</td>\n",
       "      <td>Zeytinburnu</td>\n",
       "      <td>İstanbul</td>\n",
       "      <td>550.000000</td>\n",
       "      <td>Belirtilmemiş</td>\n",
       "    </tr>\n",
       "    <tr>\n",
       "      <th>5</th>\n",
       "      <td>56</td>\n",
       "      <td>85</td>\n",
       "      <td>75.0</td>\n",
       "      <td>2+1</td>\n",
       "      <td>1</td>\n",
       "      <td>4</td>\n",
       "      <td>Bodrum Kat</td>\n",
       "      <td>11-15 arası</td>\n",
       "      <td>Kombi (Doğalgaz)</td>\n",
       "      <td>Eşyasız</td>\n",
       "      <td>...</td>\n",
       "      <td>Danışman</td>\n",
       "      <td>Evet</td>\n",
       "      <td>220000</td>\n",
       "      <td>40.987131</td>\n",
       "      <td>28.898133</td>\n",
       "      <td>Sümer</td>\n",
       "      <td>Zeytinburnu</td>\n",
       "      <td>İstanbul</td>\n",
       "      <td>0.000000</td>\n",
       "      <td>Belirtilmemiş</td>\n",
       "    </tr>\n",
       "    <tr>\n",
       "      <th>6</th>\n",
       "      <td>62</td>\n",
       "      <td>90</td>\n",
       "      <td>85.0</td>\n",
       "      <td>2+1</td>\n",
       "      <td>1</td>\n",
       "      <td>3</td>\n",
       "      <td>2</td>\n",
       "      <td>21-25 arası</td>\n",
       "      <td>Kombi (Doğalgaz)</td>\n",
       "      <td>Eşyasız</td>\n",
       "      <td>...</td>\n",
       "      <td>Danışman</td>\n",
       "      <td>Evet</td>\n",
       "      <td>340000</td>\n",
       "      <td>40.988071</td>\n",
       "      <td>28.894828</td>\n",
       "      <td>Sümer</td>\n",
       "      <td>Zeytinburnu</td>\n",
       "      <td>İstanbul</td>\n",
       "      <td>20.000000</td>\n",
       "      <td>Belirtilmemiş</td>\n",
       "    </tr>\n",
       "    <tr>\n",
       "      <th>7</th>\n",
       "      <td>66</td>\n",
       "      <td>110</td>\n",
       "      <td>95.0</td>\n",
       "      <td>2+1</td>\n",
       "      <td>1</td>\n",
       "      <td>5</td>\n",
       "      <td>5</td>\n",
       "      <td>16-20 arası</td>\n",
       "      <td>Kombi (Doğalgaz)</td>\n",
       "      <td>Eşyasız</td>\n",
       "      <td>...</td>\n",
       "      <td>Danışman</td>\n",
       "      <td>Hayır</td>\n",
       "      <td>350000</td>\n",
       "      <td>40.987909</td>\n",
       "      <td>28.896931</td>\n",
       "      <td>Sümer</td>\n",
       "      <td>Zeytinburnu</td>\n",
       "      <td>İstanbul</td>\n",
       "      <td>0.000000</td>\n",
       "      <td>Belirtilmemiş</td>\n",
       "    </tr>\n",
       "    <tr>\n",
       "      <th>8</th>\n",
       "      <td>88</td>\n",
       "      <td>110</td>\n",
       "      <td>95.0</td>\n",
       "      <td>2+1</td>\n",
       "      <td>1</td>\n",
       "      <td>3</td>\n",
       "      <td>2</td>\n",
       "      <td>4</td>\n",
       "      <td>Kombi (Doğalgaz)</td>\n",
       "      <td>Eşyasız</td>\n",
       "      <td>...</td>\n",
       "      <td>Danışman</td>\n",
       "      <td>Evet</td>\n",
       "      <td>490000</td>\n",
       "      <td>41.000056</td>\n",
       "      <td>28.899843</td>\n",
       "      <td>Çırpıcı</td>\n",
       "      <td>Zeytinburnu</td>\n",
       "      <td>İstanbul</td>\n",
       "      <td>15.000000</td>\n",
       "      <td>Belirtilmemiş</td>\n",
       "    </tr>\n",
       "    <tr>\n",
       "      <th>9</th>\n",
       "      <td>92</td>\n",
       "      <td>170</td>\n",
       "      <td>160.0</td>\n",
       "      <td>3+2</td>\n",
       "      <td>2</td>\n",
       "      <td>3</td>\n",
       "      <td>3</td>\n",
       "      <td>16-20 arası</td>\n",
       "      <td>Kombi (Doğalgaz)</td>\n",
       "      <td>Eşyasız</td>\n",
       "      <td>...</td>\n",
       "      <td>Belirtilmemiş</td>\n",
       "      <td>Evet</td>\n",
       "      <td>450000</td>\n",
       "      <td>40.984020</td>\n",
       "      <td>28.893897</td>\n",
       "      <td>Sümer</td>\n",
       "      <td>Zeytinburnu</td>\n",
       "      <td>İstanbul</td>\n",
       "      <td>0.000000</td>\n",
       "      <td>Belirtilmemiş</td>\n",
       "    </tr>\n",
       "    <tr>\n",
       "      <th>10</th>\n",
       "      <td>99</td>\n",
       "      <td>150</td>\n",
       "      <td>140.0</td>\n",
       "      <td>3+1</td>\n",
       "      <td>1</td>\n",
       "      <td>4</td>\n",
       "      <td>4</td>\n",
       "      <td>21-25 arası</td>\n",
       "      <td>Kombi (Doğalgaz)</td>\n",
       "      <td>Eşyasız</td>\n",
       "      <td>...</td>\n",
       "      <td>Belirtilmemiş</td>\n",
       "      <td>Evet</td>\n",
       "      <td>599000</td>\n",
       "      <td>40.985337</td>\n",
       "      <td>28.899637</td>\n",
       "      <td>Nuripaşa</td>\n",
       "      <td>Zeytinburnu</td>\n",
       "      <td>İstanbul</td>\n",
       "      <td>0.000000</td>\n",
       "      <td>Belirtilmemiş</td>\n",
       "    </tr>\n",
       "    <tr>\n",
       "      <th>11</th>\n",
       "      <td>101</td>\n",
       "      <td>85</td>\n",
       "      <td>80.0</td>\n",
       "      <td>2+1</td>\n",
       "      <td>1</td>\n",
       "      <td>4</td>\n",
       "      <td>Bahçe katı</td>\n",
       "      <td>16-20 arası</td>\n",
       "      <td>Kombi (Doğalgaz)</td>\n",
       "      <td>Eşyasız</td>\n",
       "      <td>...</td>\n",
       "      <td>Danışman</td>\n",
       "      <td>Evet</td>\n",
       "      <td>255000</td>\n",
       "      <td>41.000367</td>\n",
       "      <td>28.896093</td>\n",
       "      <td>Çırpıcı</td>\n",
       "      <td>Zeytinburnu</td>\n",
       "      <td>İstanbul</td>\n",
       "      <td>5.357143</td>\n",
       "      <td>Belirtilmemiş</td>\n",
       "    </tr>\n",
       "    <tr>\n",
       "      <th>12</th>\n",
       "      <td>102</td>\n",
       "      <td>125</td>\n",
       "      <td>120.0</td>\n",
       "      <td>3+1</td>\n",
       "      <td>1</td>\n",
       "      <td>4</td>\n",
       "      <td>2</td>\n",
       "      <td>16-20 arası</td>\n",
       "      <td>Kombi (Doğalgaz)</td>\n",
       "      <td>Eşyasız</td>\n",
       "      <td>...</td>\n",
       "      <td>Belirtilmemiş</td>\n",
       "      <td>Evet</td>\n",
       "      <td>380000</td>\n",
       "      <td>40.984127</td>\n",
       "      <td>28.899633</td>\n",
       "      <td>Nuripaşa</td>\n",
       "      <td>Zeytinburnu</td>\n",
       "      <td>İstanbul</td>\n",
       "      <td>0.000000</td>\n",
       "      <td>Belirtilmemiş</td>\n",
       "    </tr>\n",
       "    <tr>\n",
       "      <th>13</th>\n",
       "      <td>118</td>\n",
       "      <td>95</td>\n",
       "      <td>85.0</td>\n",
       "      <td>2+1</td>\n",
       "      <td>1</td>\n",
       "      <td>4</td>\n",
       "      <td>3</td>\n",
       "      <td>21-25 arası</td>\n",
       "      <td>Kombi (Doğalgaz)</td>\n",
       "      <td>Eşyasız</td>\n",
       "      <td>...</td>\n",
       "      <td>Belirtilmemiş</td>\n",
       "      <td>Evet</td>\n",
       "      <td>365000</td>\n",
       "      <td>40.996329</td>\n",
       "      <td>28.902966</td>\n",
       "      <td>Veliefendi</td>\n",
       "      <td>Zeytinburnu</td>\n",
       "      <td>İstanbul</td>\n",
       "      <td>0.000000</td>\n",
       "      <td>Belirtilmemiş</td>\n",
       "    </tr>\n",
       "    <tr>\n",
       "      <th>15</th>\n",
       "      <td>134</td>\n",
       "      <td>85</td>\n",
       "      <td>80.0</td>\n",
       "      <td>2+1</td>\n",
       "      <td>1</td>\n",
       "      <td>4</td>\n",
       "      <td>1</td>\n",
       "      <td>16-20 arası</td>\n",
       "      <td>Kombi (Doğalgaz)</td>\n",
       "      <td>Eşyasız</td>\n",
       "      <td>...</td>\n",
       "      <td>Danışman</td>\n",
       "      <td>Hayır</td>\n",
       "      <td>290000</td>\n",
       "      <td>40.997652</td>\n",
       "      <td>28.895306</td>\n",
       "      <td>Veliefendi</td>\n",
       "      <td>Zeytinburnu</td>\n",
       "      <td>İstanbul</td>\n",
       "      <td>5.357143</td>\n",
       "      <td>Belirtilmemiş</td>\n",
       "    </tr>\n",
       "    <tr>\n",
       "      <th>16</th>\n",
       "      <td>135</td>\n",
       "      <td>95</td>\n",
       "      <td>90.0</td>\n",
       "      <td>2+1</td>\n",
       "      <td>1</td>\n",
       "      <td>10-20 arası</td>\n",
       "      <td>3</td>\n",
       "      <td>0</td>\n",
       "      <td>Kombi (Doğalgaz)</td>\n",
       "      <td>Eşyasız</td>\n",
       "      <td>...</td>\n",
       "      <td>Danışman</td>\n",
       "      <td>Evet</td>\n",
       "      <td>510000</td>\n",
       "      <td>40.990788</td>\n",
       "      <td>28.895412</td>\n",
       "      <td>Sümer</td>\n",
       "      <td>Zeytinburnu</td>\n",
       "      <td>İstanbul</td>\n",
       "      <td>70.000000</td>\n",
       "      <td>Belirtilmemiş</td>\n",
       "    </tr>\n",
       "    <tr>\n",
       "      <th>17</th>\n",
       "      <td>140</td>\n",
       "      <td>187</td>\n",
       "      <td>138.0</td>\n",
       "      <td>3+1</td>\n",
       "      <td>2</td>\n",
       "      <td>10-20 arası</td>\n",
       "      <td>Kat : 6-8</td>\n",
       "      <td>4</td>\n",
       "      <td>Klima</td>\n",
       "      <td>Eşyasız</td>\n",
       "      <td>...</td>\n",
       "      <td>Belirtilmemiş</td>\n",
       "      <td>Evet</td>\n",
       "      <td>2250000</td>\n",
       "      <td>40.990477</td>\n",
       "      <td>28.895385</td>\n",
       "      <td>Sümer</td>\n",
       "      <td>Zeytinburnu</td>\n",
       "      <td>İstanbul</td>\n",
       "      <td>0.000000</td>\n",
       "      <td>Belirtilmemiş</td>\n",
       "    </tr>\n",
       "    <tr>\n",
       "      <th>18</th>\n",
       "      <td>141</td>\n",
       "      <td>140</td>\n",
       "      <td>130.0</td>\n",
       "      <td>4+1</td>\n",
       "      <td>2</td>\n",
       "      <td>4</td>\n",
       "      <td>4</td>\n",
       "      <td>1</td>\n",
       "      <td>Klima</td>\n",
       "      <td>Eşyasız</td>\n",
       "      <td>...</td>\n",
       "      <td>Belirtilmemiş</td>\n",
       "      <td>Evet</td>\n",
       "      <td>565000</td>\n",
       "      <td>40.990229</td>\n",
       "      <td>28.902347</td>\n",
       "      <td>Yeşiltepe</td>\n",
       "      <td>Zeytinburnu</td>\n",
       "      <td>İstanbul</td>\n",
       "      <td>0.000000</td>\n",
       "      <td>Belirtilmemiş</td>\n",
       "    </tr>\n",
       "    <tr>\n",
       "      <th>19</th>\n",
       "      <td>176</td>\n",
       "      <td>170</td>\n",
       "      <td>160.0</td>\n",
       "      <td>3+1</td>\n",
       "      <td>2</td>\n",
       "      <td>4</td>\n",
       "      <td>4</td>\n",
       "      <td>0</td>\n",
       "      <td>Kombi (Doğalgaz)</td>\n",
       "      <td>Eşyasız</td>\n",
       "      <td>...</td>\n",
       "      <td>Belirtilmemiş</td>\n",
       "      <td>Evet</td>\n",
       "      <td>590000</td>\n",
       "      <td>40.989380</td>\n",
       "      <td>28.900663</td>\n",
       "      <td>Nuripaşa</td>\n",
       "      <td>Zeytinburnu</td>\n",
       "      <td>İstanbul</td>\n",
       "      <td>0.000000</td>\n",
       "      <td>Belirtilmemiş</td>\n",
       "    </tr>\n",
       "    <tr>\n",
       "      <th>20</th>\n",
       "      <td>214</td>\n",
       "      <td>80</td>\n",
       "      <td>70.0</td>\n",
       "      <td>2+1</td>\n",
       "      <td>1</td>\n",
       "      <td>5</td>\n",
       "      <td>5</td>\n",
       "      <td>26-30 arası</td>\n",
       "      <td>Soba (Doğalgaz)</td>\n",
       "      <td>Sadece Mutfak</td>\n",
       "      <td>...</td>\n",
       "      <td>Danışman</td>\n",
       "      <td>Evet</td>\n",
       "      <td>196000</td>\n",
       "      <td>40.984969</td>\n",
       "      <td>28.901219</td>\n",
       "      <td>Nuripaşa</td>\n",
       "      <td>Zeytinburnu</td>\n",
       "      <td>İstanbul</td>\n",
       "      <td>0.000000</td>\n",
       "      <td>Belirtilmemiş</td>\n",
       "    </tr>\n",
       "    <tr>\n",
       "      <th>22</th>\n",
       "      <td>239</td>\n",
       "      <td>200</td>\n",
       "      <td>190.0</td>\n",
       "      <td>3+2</td>\n",
       "      <td>2</td>\n",
       "      <td>4</td>\n",
       "      <td>Kot 4</td>\n",
       "      <td>21-25 arası</td>\n",
       "      <td>Soba (Doğalgaz)</td>\n",
       "      <td>Eşyasız</td>\n",
       "      <td>...</td>\n",
       "      <td>Danışman</td>\n",
       "      <td>Evet</td>\n",
       "      <td>580000</td>\n",
       "      <td>40.992630</td>\n",
       "      <td>28.907162</td>\n",
       "      <td>Gökalp</td>\n",
       "      <td>Zeytinburnu</td>\n",
       "      <td>İstanbul</td>\n",
       "      <td>5.357143</td>\n",
       "      <td>Belirtilmemiş</td>\n",
       "    </tr>\n",
       "  </tbody>\n",
       "</table>\n",
       "<p>20 rows × 24 columns</p>\n",
       "</div>"
      ],
      "text/plain": [
       "     ID  Brüt m²  Net m² Oda Sayısı Banyo Sayısı Binadaki Kat Sayısı  \\\n",
       "1    24      100    90.0        2+1            2                   4   \n",
       "2    26       80    75.0        1+1            1                   3   \n",
       "3    46       75    65.0        1+1            1                   4   \n",
       "4    54      187   150.0        3+1            2         10-20 arası   \n",
       "5    56       85    75.0        2+1            1                   4   \n",
       "6    62       90    85.0        2+1            1                   3   \n",
       "7    66      110    95.0        2+1            1                   5   \n",
       "8    88      110    95.0        2+1            1                   3   \n",
       "9    92      170   160.0        3+2            2                   3   \n",
       "10   99      150   140.0        3+1            1                   4   \n",
       "11  101       85    80.0        2+1            1                   4   \n",
       "12  102      125   120.0        3+1            1                   4   \n",
       "13  118       95    85.0        2+1            1                   4   \n",
       "15  134       85    80.0        2+1            1                   4   \n",
       "16  135       95    90.0        2+1            1         10-20 arası   \n",
       "17  140      187   138.0        3+1            2         10-20 arası   \n",
       "18  141      140   130.0        4+1            2                   4   \n",
       "19  176      170   160.0        3+1            2                   4   \n",
       "20  214       80    70.0        2+1            1                   5   \n",
       "22  239      200   190.0        3+2            2                   4   \n",
       "\n",
       "   Bulunduğu Kat    Bina Yaşı       Isıtma Tipi Mobilya Durumu  ...  \\\n",
       "1              2  16-20 arası  Kombi (Doğalgaz)        Eşyasız  ...   \n",
       "2              3  21-25 arası  Kombi (Doğalgaz)        Eşyasız  ...   \n",
       "3   Yüksek Giriş   6-10 arası  Kombi (Doğalgaz)        Eşyasız  ...   \n",
       "4              3            2             Klima        Eşyasız  ...   \n",
       "5     Bodrum Kat  11-15 arası  Kombi (Doğalgaz)        Eşyasız  ...   \n",
       "6              2  21-25 arası  Kombi (Doğalgaz)        Eşyasız  ...   \n",
       "7              5  16-20 arası  Kombi (Doğalgaz)        Eşyasız  ...   \n",
       "8              2            4  Kombi (Doğalgaz)        Eşyasız  ...   \n",
       "9              3  16-20 arası  Kombi (Doğalgaz)        Eşyasız  ...   \n",
       "10             4  21-25 arası  Kombi (Doğalgaz)        Eşyasız  ...   \n",
       "11    Bahçe katı  16-20 arası  Kombi (Doğalgaz)        Eşyasız  ...   \n",
       "12             2  16-20 arası  Kombi (Doğalgaz)        Eşyasız  ...   \n",
       "13             3  21-25 arası  Kombi (Doğalgaz)        Eşyasız  ...   \n",
       "15             1  16-20 arası  Kombi (Doğalgaz)        Eşyasız  ...   \n",
       "16             3            0  Kombi (Doğalgaz)        Eşyasız  ...   \n",
       "17     Kat : 6-8            4             Klima        Eşyasız  ...   \n",
       "18             4            1             Klima        Eşyasız  ...   \n",
       "19             4            0  Kombi (Doğalgaz)        Eşyasız  ...   \n",
       "20             5  26-30 arası   Soba (Doğalgaz)  Sadece Mutfak  ...   \n",
       "22         Kot 4  21-25 arası   Soba (Doğalgaz)        Eşyasız  ...   \n",
       "\n",
       "           Kimden Krediye Uygun    Price  Location Lat Location Lon  \\\n",
       "1   Belirtilmemiş          Evet   330000     40.988460    28.894923   \n",
       "2        Danışman         Hayır   230000     40.992217    28.900588   \n",
       "3        Danışman          Evet   268000     40.994774    28.897234   \n",
       "4   Belirtilmemiş          Evet  2000000     40.991810    28.893631   \n",
       "5        Danışman          Evet   220000     40.987131    28.898133   \n",
       "6        Danışman          Evet   340000     40.988071    28.894828   \n",
       "7        Danışman         Hayır   350000     40.987909    28.896931   \n",
       "8        Danışman          Evet   490000     41.000056    28.899843   \n",
       "9   Belirtilmemiş          Evet   450000     40.984020    28.893897   \n",
       "10  Belirtilmemiş          Evet   599000     40.985337    28.899637   \n",
       "11       Danışman          Evet   255000     41.000367    28.896093   \n",
       "12  Belirtilmemiş          Evet   380000     40.984127    28.899633   \n",
       "13  Belirtilmemiş          Evet   365000     40.996329    28.902966   \n",
       "15       Danışman         Hayır   290000     40.997652    28.895306   \n",
       "16       Danışman          Evet   510000     40.990788    28.895412   \n",
       "17  Belirtilmemiş          Evet  2250000     40.990477    28.895385   \n",
       "18  Belirtilmemiş          Evet   565000     40.990229    28.902347   \n",
       "19  Belirtilmemiş          Evet   590000     40.989380    28.900663   \n",
       "20       Danışman          Evet   196000     40.984969    28.901219   \n",
       "22       Danışman          Evet   580000     40.992630    28.907162   \n",
       "\n",
       "     Location1    Location2  Location3       Aidat   Takasa Uygun  \n",
       "1        Sümer  Zeytinburnu   İstanbul    0.000000  Belirtilmemiş  \n",
       "2    Yeşiltepe  Zeytinburnu   İstanbul   25.000000  Belirtilmemiş  \n",
       "3   Veliefendi  Zeytinburnu   İstanbul    5.357143  Belirtilmemiş  \n",
       "4        Sümer  Zeytinburnu   İstanbul  550.000000  Belirtilmemiş  \n",
       "5        Sümer  Zeytinburnu   İstanbul    0.000000  Belirtilmemiş  \n",
       "6        Sümer  Zeytinburnu   İstanbul   20.000000  Belirtilmemiş  \n",
       "7        Sümer  Zeytinburnu   İstanbul    0.000000  Belirtilmemiş  \n",
       "8      Çırpıcı  Zeytinburnu   İstanbul   15.000000  Belirtilmemiş  \n",
       "9        Sümer  Zeytinburnu   İstanbul    0.000000  Belirtilmemiş  \n",
       "10    Nuripaşa  Zeytinburnu   İstanbul    0.000000  Belirtilmemiş  \n",
       "11     Çırpıcı  Zeytinburnu   İstanbul    5.357143  Belirtilmemiş  \n",
       "12    Nuripaşa  Zeytinburnu   İstanbul    0.000000  Belirtilmemiş  \n",
       "13  Veliefendi  Zeytinburnu   İstanbul    0.000000  Belirtilmemiş  \n",
       "15  Veliefendi  Zeytinburnu   İstanbul    5.357143  Belirtilmemiş  \n",
       "16       Sümer  Zeytinburnu   İstanbul   70.000000  Belirtilmemiş  \n",
       "17       Sümer  Zeytinburnu   İstanbul    0.000000  Belirtilmemiş  \n",
       "18   Yeşiltepe  Zeytinburnu   İstanbul    0.000000  Belirtilmemiş  \n",
       "19    Nuripaşa  Zeytinburnu   İstanbul    0.000000  Belirtilmemiş  \n",
       "20    Nuripaşa  Zeytinburnu   İstanbul    0.000000  Belirtilmemiş  \n",
       "22      Gökalp  Zeytinburnu   İstanbul    5.357143  Belirtilmemiş  \n",
       "\n",
       "[20 rows x 24 columns]"
      ]
     },
     "execution_count": 42,
     "metadata": {},
     "output_type": "execute_result"
    }
   ],
   "source": [
    "df.head(20)"
   ]
  },
  {
   "cell_type": "code",
   "execution_count": 43,
   "metadata": {},
   "outputs": [
    {
     "data": {
      "text/plain": [
       "(2801, 24)"
      ]
     },
     "execution_count": 43,
     "metadata": {},
     "output_type": "execute_result"
    }
   ],
   "source": [
    "df.shape"
   ]
  },
  {
   "cell_type": "code",
   "execution_count": 44,
   "metadata": {},
   "outputs": [
    {
     "data": {
      "text/plain": [
       "Index(['ID', 'Brüt m²', 'Net m²', 'Oda Sayısı', 'Banyo Sayısı',\n",
       "       'Binadaki Kat Sayısı', 'Bulunduğu Kat', 'Bina Yaşı', 'Isıtma Tipi',\n",
       "       'Mobilya Durumu', 'Kullanım Durumu', 'Yapının Durumu', 'Konut Şekli',\n",
       "       'Kira Getirisi', 'Kimden', 'Krediye Uygun', 'Price', 'Location Lat',\n",
       "       'Location Lon', 'Location1', 'Location2', 'Location3', 'Aidat',\n",
       "       'Takasa Uygun'],\n",
       "      dtype='object')"
      ]
     },
     "execution_count": 44,
     "metadata": {},
     "output_type": "execute_result"
    }
   ],
   "source": [
    "df.columns"
   ]
  },
  {
   "cell_type": "code",
   "execution_count": 45,
   "metadata": {},
   "outputs": [
    {
     "data": {
      "text/plain": [
       "count    2.801000e+03\n",
       "mean     5.876000e+05\n",
       "std      1.029427e+06\n",
       "min      4.800000e+04\n",
       "25%      2.450000e+05\n",
       "50%      3.500000e+05\n",
       "75%      5.500000e+05\n",
       "max      1.600000e+07\n",
       "Name: Price, dtype: float64"
      ]
     },
     "execution_count": 45,
     "metadata": {},
     "output_type": "execute_result"
    }
   ],
   "source": [
    "df['Price'].describe()"
   ]
  },
  {
   "cell_type": "code",
   "execution_count": 46,
   "metadata": {},
   "outputs": [],
   "source": [
    "import seaborn as sns"
   ]
  },
  {
   "cell_type": "code",
   "execution_count": 47,
   "metadata": {},
   "outputs": [
    {
     "name": "stderr",
     "output_type": "stream",
     "text": [
      "C:\\Users\\pc\\anaconda3\\lib\\site-packages\\seaborn\\distributions.py:2551: FutureWarning: `distplot` is a deprecated function and will be removed in a future version. Please adapt your code to use either `displot` (a figure-level function with similar flexibility) or `histplot` (an axes-level function for histograms).\n",
      "  warnings.warn(msg, FutureWarning)\n"
     ]
    },
    {
     "data": {
      "text/plain": [
       "<AxesSubplot:xlabel='Price', ylabel='Density'>"
      ]
     },
     "execution_count": 47,
     "metadata": {},
     "output_type": "execute_result"
    },
    {
     "data": {
      "image/png": "[encoded data removed]",
      "text/plain": [
       "<Figure size 432x288 with 1 Axes>"
      ]
     },
     "metadata": {
      "needs_background": "light"
     },
     "output_type": "display_data"
    }
   ],
   "source": [
    "sns.distplot(df['Price'])"
   ]
  },
  {
   "cell_type": "code",
   "execution_count": 48,
   "metadata": {},
   "outputs": [
    {
     "name": "stdout",
     "output_type": "stream",
     "text": [
      "Skewness: 8.199766\n",
      "Kurtosis: 86.606327\n"
     ]
    }
   ],
   "source": [
    "print(\"Skewness: %f\" % df['Price'].skew())\n",
    "print(\"Kurtosis: %f\" % df['Price'].kurt())"
   ]
  },
  {
   "cell_type": "code",
   "execution_count": 49,
   "metadata": {},
   "outputs": [
    {
     "data": {
      "image/png": "[encoded data removed]",
      "text/plain": [
       "<Figure size 432x288 with 1 Axes>"
      ]
     },
     "metadata": {
      "needs_background": "light"
     },
     "output_type": "display_data"
    }
   ],
   "source": [
    "var = 'Net m²'\n",
    "data = pd.concat([df['Price'], df[var]], axis=1)\n",
    "data.plot.scatter(x=var, y='Price', ylim=(0,50*10**5));"
   ]
  },
  {
   "cell_type": "code",
   "execution_count": 50,
   "metadata": {},
   "outputs": [
    {
     "data": {
      "image/png": "[encoded data removed]",
      "text/plain": [
       "<Figure size 432x288 with 1 Axes>"
      ]
     },
     "metadata": {
      "needs_background": "light"
     },
     "output_type": "display_data"
    }
   ],
   "source": [
    "var = 'Brüt m²'\n",
    "data = pd.concat([df['Price'], df[var]], axis=1)\n",
    "data.plot.scatter(x=var, y='Price', ylim=(0,50*10**5) , xlim=(0,1500));\n"
   ]
  },
  {
   "cell_type": "code",
   "execution_count": 51,
   "metadata": {},
   "outputs": [
    {
     "data": {
      "text/plain": [
       "<AxesSubplot:xlabel='Kira Getirisi', ylabel='Price'>"
      ]
     },
     "execution_count": 51,
     "metadata": {},
     "output_type": "execute_result"
    },
    {
     "data": {
      "image/png": "[encoded data removed]",
      "text/plain": [
       "<Figure size 432x288 with 1 Axes>"
      ]
     },
     "metadata": {
      "needs_background": "light"
     },
     "output_type": "display_data"
    }
   ],
   "source": [
    "var = 'Kira Getirisi'\n",
    "data = pd.concat([df['Price'], df[var]], axis=1)\n",
    "data.plot.scatter(x=var, y='Price', ylim=(0,50*10**5) , xlim=(0,5*10**5))"
   ]
  },
  {
   "cell_type": "code",
   "execution_count": 52,
   "metadata": {},
   "outputs": [
    {
     "data": {
      "image/png": "[encoded data removed]",
      "text/plain": [
       "<Figure size 576x432 with 1 Axes>"
      ]
     },
     "metadata": {
      "needs_background": "light"
     },
     "output_type": "display_data"
    }
   ],
   "source": [
    "var = 'Bulunduğu Kat'\n",
    "data = pd.concat([df['Price'], df[var]], axis=1)\n",
    "f, ax = plt.subplots(figsize=(8, 6))\n",
    "fig = sns.boxplot(x=var, y=\"Price\", data=data)\n",
    "fig.axis(ymin=0, ymax=50*10**5);"
   ]
  },
  {
   "cell_type": "code",
   "execution_count": 53,
   "metadata": {},
   "outputs": [
    {
     "data": {
      "image/png": "[encoded data removed]",
      "text/plain": [
       "<Figure size 1152x576 with 1 Axes>"
      ]
     },
     "metadata": {
      "needs_background": "light"
     },
     "output_type": "display_data"
    }
   ],
   "source": [
    "var = 'Bina Yaşı'\n",
    "data = pd.concat([df['Price'], df[var]], axis=1)\n",
    "f, ax = plt.subplots(figsize=(16, 8))\n",
    "fig = sns.boxplot(x=var, y=\"Price\", data=data)\n",
    "fig.axis(ymin=0, );\n",
    "plt.xticks(rotation=90);"
   ]
  },
  {
   "cell_type": "code",
   "execution_count": 54,
   "metadata": {},
   "outputs": [
    {
     "data": {
      "image/png": "[encoded data removed]",
      "text/plain": [
       "<Figure size 864x648 with 2 Axes>"
      ]
     },
     "metadata": {
      "needs_background": "light"
     },
     "output_type": "display_data"
    }
   ],
   "source": [
    "corrmat = df.corr()\n",
    "f, ax = plt.subplots(figsize=(12, 9))\n",
    "sns.heatmap(corrmat, vmax=.8, square=True);"
   ]
  },
  {
   "cell_type": "code",
   "execution_count": null,
   "metadata": {},
   "outputs": [],
   "source": [
    "sns.set()\n",
    "cols = ['Price', 'Brüt m²', 'Net m²', 'Kira Getirisi']\n",
    "sns.pairplot(df[cols], height = 2.5)\n",
    "plt.show();"
   ]
  },
  {
   "cell_type": "code",
   "execution_count": 55,
   "metadata": {},
   "outputs": [],
   "source": [
    "from sklearn.preprocessing import StandardScaler"
   ]
  },
  {
   "cell_type": "code",
   "execution_count": 56,
   "metadata": {},
   "outputs": [
    {
     "name": "stdout",
     "output_type": "stream",
     "text": [
      "outer range (low) of the distribution:\n",
      "[[-0.52426858]\n",
      " [-0.50775159]\n",
      " [-0.50775159]\n",
      " [-0.49803572]\n",
      " [-0.49803572]\n",
      " [-0.49512096]\n",
      " [-0.49327494]\n",
      " [-0.48831985]\n",
      " [-0.48831985]\n",
      " [-0.48540508]]\n",
      "\n",
      "outer range (high) of the distribution:\n",
      "[[ 9.04781033]\n",
      " [ 9.63076276]\n",
      " [11.08814384]\n",
      " [11.08814384]\n",
      " [11.08814384]\n",
      " [11.57393753]\n",
      " [11.61280103]\n",
      " [12.54552492]\n",
      " [14.00290599]\n",
      " [14.97449338]]\n"
     ]
    },
    {
     "name": "stderr",
     "output_type": "stream",
     "text": [
      "<ipython-input-56-2553c2e877d6>:1: FutureWarning: Support for multi-dimensional indexing (e.g. `obj[:, None]`) is deprecated and will be removed in a future version.  Convert to a numpy array before indexing instead.\n",
      "  saleprice_scaled = StandardScaler().fit_transform(df['Price'][:,np.newaxis]);\n"
     ]
    }
   ],
   "source": [
    "saleprice_scaled = StandardScaler().fit_transform(df['Price'][:,np.newaxis]);\n",
    "low_range = saleprice_scaled[saleprice_scaled[:,0].argsort()][:10]\n",
    "high_range= saleprice_scaled[saleprice_scaled[:,0].argsort()][-10:]\n",
    "print('outer range (low) of the distribution:')\n",
    "print(low_range)\n",
    "print('\\nouter range (high) of the distribution:')\n",
    "print(high_range)"
   ]
  },
  {
   "cell_type": "code",
   "execution_count": 57,
   "metadata": {},
   "outputs": [
    {
     "data": {
      "text/plain": [
       "<AxesSubplot:xlabel='Kira Getirisi', ylabel='Price'>"
      ]
     },
     "execution_count": 57,
     "metadata": {},
     "output_type": "execute_result"
    },
    {
     "data": {
      "image/png": "[encoded data removed]",
      "text/plain": [
       "<Figure size 432x288 with 1 Axes>"
      ]
     },
     "metadata": {
      "needs_background": "light"
     },
     "output_type": "display_data"
    }
   ],
   "source": [
    "var = 'Kira Getirisi'\n",
    "data = pd.concat([df['Price'], df[var]], axis=1)\n",
    "data.plot.scatter(x=var, y='Price')"
   ]
  },
  {
   "cell_type": "code",
   "execution_count": 58,
   "metadata": {},
   "outputs": [
    {
     "data": {
      "text/html": [
       "<div>\n",
       "<style scoped>\n",
       "    .dataframe tbody tr th:only-of-type {\n",
       "        vertical-align: middle;\n",
       "    }\n",
       "\n",
       "    .dataframe tbody tr th {\n",
       "        vertical-align: top;\n",
       "    }\n",
       "\n",
       "    .dataframe thead th {\n",
       "        text-align: right;\n",
       "    }\n",
       "</style>\n",
       "<table border=\"1\" class=\"dataframe\">\n",
       "  <thead>\n",
       "    <tr style=\"text-align: right;\">\n",
       "      <th></th>\n",
       "      <th>ID</th>\n",
       "      <th>Brüt m²</th>\n",
       "      <th>Net m²</th>\n",
       "      <th>Oda Sayısı</th>\n",
       "      <th>Banyo Sayısı</th>\n",
       "      <th>Binadaki Kat Sayısı</th>\n",
       "      <th>Bulunduğu Kat</th>\n",
       "      <th>Bina Yaşı</th>\n",
       "      <th>Isıtma Tipi</th>\n",
       "      <th>Mobilya Durumu</th>\n",
       "      <th>...</th>\n",
       "      <th>Kimden</th>\n",
       "      <th>Krediye Uygun</th>\n",
       "      <th>Price</th>\n",
       "      <th>Location Lat</th>\n",
       "      <th>Location Lon</th>\n",
       "      <th>Location1</th>\n",
       "      <th>Location2</th>\n",
       "      <th>Location3</th>\n",
       "      <th>Aidat</th>\n",
       "      <th>Takasa Uygun</th>\n",
       "    </tr>\n",
       "  </thead>\n",
       "  <tbody>\n",
       "    <tr>\n",
       "      <th>681</th>\n",
       "      <td>6493</td>\n",
       "      <td>100</td>\n",
       "      <td>99.0</td>\n",
       "      <td>3+1</td>\n",
       "      <td>1</td>\n",
       "      <td>4</td>\n",
       "      <td>3</td>\n",
       "      <td>6-10 arası</td>\n",
       "      <td>Kalorifer (Doğalgaz)</td>\n",
       "      <td>Eşyasız</td>\n",
       "      <td>...</td>\n",
       "      <td>İnşaat Geliştirici</td>\n",
       "      <td>Evet</td>\n",
       "      <td>2024000</td>\n",
       "      <td>41.141685</td>\n",
       "      <td>29.047663</td>\n",
       "      <td>Tarabya</td>\n",
       "      <td>Sarıyer</td>\n",
       "      <td>İstanbul</td>\n",
       "      <td>150.0</td>\n",
       "      <td>Belirtilmemiş</td>\n",
       "    </tr>\n",
       "    <tr>\n",
       "      <th>2448</th>\n",
       "      <td>25901</td>\n",
       "      <td>95</td>\n",
       "      <td>88.0</td>\n",
       "      <td>1+1</td>\n",
       "      <td>1</td>\n",
       "      <td>10</td>\n",
       "      <td>Kat : 6-8</td>\n",
       "      <td>21-25 arası</td>\n",
       "      <td>Kombi (Doğalgaz)</td>\n",
       "      <td>Eşyasız</td>\n",
       "      <td>...</td>\n",
       "      <td>Belirtilmemiş</td>\n",
       "      <td>Hayır</td>\n",
       "      <td>200000</td>\n",
       "      <td>41.010080</td>\n",
       "      <td>28.639852</td>\n",
       "      <td>Cumhuriyet</td>\n",
       "      <td>Beylikdüzü</td>\n",
       "      <td>İstanbul</td>\n",
       "      <td>15.0</td>\n",
       "      <td>Belirtilmemiş</td>\n",
       "    </tr>\n",
       "  </tbody>\n",
       "</table>\n",
       "<p>2 rows × 24 columns</p>\n",
       "</div>"
      ],
      "text/plain": [
       "         ID  Brüt m²  Net m² Oda Sayısı Banyo Sayısı Binadaki Kat Sayısı  \\\n",
       "681    6493      100    99.0        3+1            1                   4   \n",
       "2448  25901       95    88.0        1+1            1                  10   \n",
       "\n",
       "     Bulunduğu Kat    Bina Yaşı           Isıtma Tipi Mobilya Durumu  ...  \\\n",
       "681              3   6-10 arası  Kalorifer (Doğalgaz)        Eşyasız  ...   \n",
       "2448     Kat : 6-8  21-25 arası      Kombi (Doğalgaz)        Eşyasız  ...   \n",
       "\n",
       "                  Kimden Krediye Uygun    Price  Location Lat Location Lon  \\\n",
       "681   İnşaat Geliştirici          Evet  2024000     41.141685    29.047663   \n",
       "2448       Belirtilmemiş         Hayır   200000     41.010080    28.639852   \n",
       "\n",
       "       Location1   Location2  Location3  Aidat   Takasa Uygun  \n",
       "681      Tarabya     Sarıyer   İstanbul  150.0  Belirtilmemiş  \n",
       "2448  Cumhuriyet  Beylikdüzü   İstanbul   15.0  Belirtilmemiş  \n",
       "\n",
       "[2 rows x 24 columns]"
      ]
     },
     "execution_count": 58,
     "metadata": {},
     "output_type": "execute_result"
    }
   ],
   "source": [
    "df.sort_values(by = 'Kira Getirisi', ascending = False)[:2]"
   ]
  },
  {
   "cell_type": "code",
   "execution_count": 59,
   "metadata": {},
   "outputs": [],
   "source": [
    "df = df.drop(df[df['ID'] == 6493].index)"
   ]
  },
  {
   "cell_type": "code",
   "execution_count": 60,
   "metadata": {},
   "outputs": [
    {
     "data": {
      "text/plain": [
       "(2800, 24)"
      ]
     },
     "execution_count": 60,
     "metadata": {},
     "output_type": "execute_result"
    }
   ],
   "source": [
    "df.shape"
   ]
  },
  {
   "cell_type": "code",
   "execution_count": 61,
   "metadata": {},
   "outputs": [
    {
     "data": {
      "image/png": "[encoded data removed]",
      "text/plain": [
       "<Figure size 432x288 with 1 Axes>"
      ]
     },
     "metadata": {
      "needs_background": "light"
     },
     "output_type": "display_data"
    }
   ],
   "source": [
    "var = 'Net m²'\n",
    "data = pd.concat([df['Price'], df[var]], axis=1)\n",
    "data.plot.scatter(x=var, y='Price');"
   ]
  },
  {
   "cell_type": "code",
   "execution_count": 62,
   "metadata": {},
   "outputs": [
    {
     "data": {
      "text/html": [
       "<div>\n",
       "<style scoped>\n",
       "    .dataframe tbody tr th:only-of-type {\n",
       "        vertical-align: middle;\n",
       "    }\n",
       "\n",
       "    .dataframe tbody tr th {\n",
       "        vertical-align: top;\n",
       "    }\n",
       "\n",
       "    .dataframe thead th {\n",
       "        text-align: right;\n",
       "    }\n",
       "</style>\n",
       "<table border=\"1\" class=\"dataframe\">\n",
       "  <thead>\n",
       "    <tr style=\"text-align: right;\">\n",
       "      <th></th>\n",
       "      <th>ID</th>\n",
       "      <th>Brüt m²</th>\n",
       "      <th>Net m²</th>\n",
       "      <th>Oda Sayısı</th>\n",
       "      <th>Banyo Sayısı</th>\n",
       "      <th>Binadaki Kat Sayısı</th>\n",
       "      <th>Bulunduğu Kat</th>\n",
       "      <th>Bina Yaşı</th>\n",
       "      <th>Isıtma Tipi</th>\n",
       "      <th>Mobilya Durumu</th>\n",
       "      <th>...</th>\n",
       "      <th>Kimden</th>\n",
       "      <th>Krediye Uygun</th>\n",
       "      <th>Price</th>\n",
       "      <th>Location Lat</th>\n",
       "      <th>Location Lon</th>\n",
       "      <th>Location1</th>\n",
       "      <th>Location2</th>\n",
       "      <th>Location3</th>\n",
       "      <th>Aidat</th>\n",
       "      <th>Takasa Uygun</th>\n",
       "    </tr>\n",
       "  </thead>\n",
       "  <tbody>\n",
       "    <tr>\n",
       "      <th>2509</th>\n",
       "      <td>26589</td>\n",
       "      <td>690</td>\n",
       "      <td>650.0</td>\n",
       "      <td>3+1</td>\n",
       "      <td>3</td>\n",
       "      <td>3</td>\n",
       "      <td>3</td>\n",
       "      <td>6-10 arası</td>\n",
       "      <td>Kalorifer (Doğalgaz)</td>\n",
       "      <td>Sadece Mutfak</td>\n",
       "      <td>...</td>\n",
       "      <td>Danışman</td>\n",
       "      <td>Evet</td>\n",
       "      <td>2500000</td>\n",
       "      <td>41.116987</td>\n",
       "      <td>29.115622</td>\n",
       "      <td>İncirköy</td>\n",
       "      <td>Beykoz</td>\n",
       "      <td>İstanbul</td>\n",
       "      <td>8.333333</td>\n",
       "      <td>Belirtilmemiş</td>\n",
       "    </tr>\n",
       "    <tr>\n",
       "      <th>93</th>\n",
       "      <td>1009</td>\n",
       "      <td>550</td>\n",
       "      <td>500.0</td>\n",
       "      <td>6+2</td>\n",
       "      <td>5</td>\n",
       "      <td>5</td>\n",
       "      <td>5</td>\n",
       "      <td>16-20 arası</td>\n",
       "      <td>Kombi (Doğalgaz)</td>\n",
       "      <td>Eşyasız</td>\n",
       "      <td>...</td>\n",
       "      <td>Danışman</td>\n",
       "      <td>Evet</td>\n",
       "      <td>9500000</td>\n",
       "      <td>41.014767</td>\n",
       "      <td>29.050753</td>\n",
       "      <td>Altunizade</td>\n",
       "      <td>Üsküdar</td>\n",
       "      <td>İstanbul</td>\n",
       "      <td>800.000000</td>\n",
       "      <td>Belirtilmemiş</td>\n",
       "    </tr>\n",
       "  </tbody>\n",
       "</table>\n",
       "<p>2 rows × 24 columns</p>\n",
       "</div>"
      ],
      "text/plain": [
       "         ID  Brüt m²  Net m² Oda Sayısı Banyo Sayısı Binadaki Kat Sayısı  \\\n",
       "2509  26589      690   650.0        3+1            3                   3   \n",
       "93     1009      550   500.0        6+2            5                   5   \n",
       "\n",
       "     Bulunduğu Kat    Bina Yaşı           Isıtma Tipi Mobilya Durumu  ...  \\\n",
       "2509             3   6-10 arası  Kalorifer (Doğalgaz)  Sadece Mutfak  ...   \n",
       "93               5  16-20 arası      Kombi (Doğalgaz)        Eşyasız  ...   \n",
       "\n",
       "        Kimden Krediye Uygun    Price  Location Lat Location Lon   Location1  \\\n",
       "2509  Danışman          Evet  2500000     41.116987    29.115622    İncirköy   \n",
       "93    Danışman          Evet  9500000     41.014767    29.050753  Altunizade   \n",
       "\n",
       "      Location2  Location3       Aidat   Takasa Uygun  \n",
       "2509     Beykoz   İstanbul    8.333333  Belirtilmemiş  \n",
       "93      Üsküdar   İstanbul  800.000000  Belirtilmemiş  \n",
       "\n",
       "[2 rows x 24 columns]"
      ]
     },
     "execution_count": 62,
     "metadata": {},
     "output_type": "execute_result"
    }
   ],
   "source": [
    "df.sort_values(by = 'Net m²', ascending = False)[:2]"
   ]
  },
  {
   "cell_type": "code",
   "execution_count": 63,
   "metadata": {},
   "outputs": [],
   "source": [
    "df = df.drop(df[df['ID'] == 26589].index)"
   ]
  },
  {
   "cell_type": "code",
   "execution_count": 64,
   "metadata": {},
   "outputs": [
    {
     "data": {
      "text/plain": [
       "(2799, 24)"
      ]
     },
     "execution_count": 64,
     "metadata": {},
     "output_type": "execute_result"
    }
   ],
   "source": [
    "df.shape"
   ]
  },
  {
   "cell_type": "code",
   "execution_count": 65,
   "metadata": {},
   "outputs": [],
   "source": [
    "df = df.drop(df[df['ID'] == 1009].index)"
   ]
  },
  {
   "cell_type": "code",
   "execution_count": 66,
   "metadata": {},
   "outputs": [
    {
     "data": {
      "text/plain": [
       "(2798, 24)"
      ]
     },
     "execution_count": 66,
     "metadata": {},
     "output_type": "execute_result"
    }
   ],
   "source": [
    "df.shape"
   ]
  },
  {
   "cell_type": "code",
   "execution_count": 67,
   "metadata": {},
   "outputs": [
    {
     "data": {
      "text/plain": [
       "<AxesSubplot:xlabel='Brüt m²', ylabel='Price'>"
      ]
     },
     "execution_count": 67,
     "metadata": {},
     "output_type": "execute_result"
    },
    {
     "data": {
      "image/png": "[encoded data removed]",
      "text/plain": [
       "<Figure size 432x288 with 1 Axes>"
      ]
     },
     "metadata": {
      "needs_background": "light"
     },
     "output_type": "display_data"
    }
   ],
   "source": [
    "var = 'Brüt m²'\n",
    "data = pd.concat([df['Price'], df[var]], axis=1)\n",
    "data.plot.scatter(x=var, y='Price')"
   ]
  },
  {
   "cell_type": "code",
   "execution_count": 68,
   "metadata": {},
   "outputs": [
    {
     "data": {
      "text/html": [
       "<div>\n",
       "<style scoped>\n",
       "    .dataframe tbody tr th:only-of-type {\n",
       "        vertical-align: middle;\n",
       "    }\n",
       "\n",
       "    .dataframe tbody tr th {\n",
       "        vertical-align: top;\n",
       "    }\n",
       "\n",
       "    .dataframe thead th {\n",
       "        text-align: right;\n",
       "    }\n",
       "</style>\n",
       "<table border=\"1\" class=\"dataframe\">\n",
       "  <thead>\n",
       "    <tr style=\"text-align: right;\">\n",
       "      <th></th>\n",
       "      <th>ID</th>\n",
       "      <th>Brüt m²</th>\n",
       "      <th>Net m²</th>\n",
       "      <th>Oda Sayısı</th>\n",
       "      <th>Banyo Sayısı</th>\n",
       "      <th>Binadaki Kat Sayısı</th>\n",
       "      <th>Bulunduğu Kat</th>\n",
       "      <th>Bina Yaşı</th>\n",
       "      <th>Isıtma Tipi</th>\n",
       "      <th>Mobilya Durumu</th>\n",
       "      <th>...</th>\n",
       "      <th>Kimden</th>\n",
       "      <th>Krediye Uygun</th>\n",
       "      <th>Price</th>\n",
       "      <th>Location Lat</th>\n",
       "      <th>Location Lon</th>\n",
       "      <th>Location1</th>\n",
       "      <th>Location2</th>\n",
       "      <th>Location3</th>\n",
       "      <th>Aidat</th>\n",
       "      <th>Takasa Uygun</th>\n",
       "    </tr>\n",
       "  </thead>\n",
       "  <tbody>\n",
       "    <tr>\n",
       "      <th>1721</th>\n",
       "      <td>17848</td>\n",
       "      <td>300000</td>\n",
       "      <td>80.0</td>\n",
       "      <td>3+1</td>\n",
       "      <td>1</td>\n",
       "      <td>4</td>\n",
       "      <td>Kot 2</td>\n",
       "      <td>11-15 arası</td>\n",
       "      <td>Soba (Doğalgaz)</td>\n",
       "      <td>Eşyasız</td>\n",
       "      <td>...</td>\n",
       "      <td>Belirtilmemiş</td>\n",
       "      <td>Evet</td>\n",
       "      <td>300000</td>\n",
       "      <td>41.058656</td>\n",
       "      <td>28.913498</td>\n",
       "      <td>Sarıgöl</td>\n",
       "      <td>Gaziosmanpaşa</td>\n",
       "      <td>İstanbul</td>\n",
       "      <td>45.0</td>\n",
       "      <td>Belirtilmemiş</td>\n",
       "    </tr>\n",
       "    <tr>\n",
       "      <th>1114</th>\n",
       "      <td>11275</td>\n",
       "      <td>1250</td>\n",
       "      <td>110.0</td>\n",
       "      <td>3+1</td>\n",
       "      <td>1</td>\n",
       "      <td>5</td>\n",
       "      <td>5</td>\n",
       "      <td>6-10 arası</td>\n",
       "      <td>Kombi (Doğalgaz)</td>\n",
       "      <td>Eşyasız</td>\n",
       "      <td>...</td>\n",
       "      <td>Belirtilmemiş</td>\n",
       "      <td>Evet</td>\n",
       "      <td>385000</td>\n",
       "      <td>40.883412</td>\n",
       "      <td>29.220468</td>\n",
       "      <td>Sapan Bağları</td>\n",
       "      <td>Pendik</td>\n",
       "      <td>İstanbul</td>\n",
       "      <td>0.0</td>\n",
       "      <td>Belirtilmemiş</td>\n",
       "    </tr>\n",
       "  </tbody>\n",
       "</table>\n",
       "<p>2 rows × 24 columns</p>\n",
       "</div>"
      ],
      "text/plain": [
       "         ID  Brüt m²  Net m² Oda Sayısı Banyo Sayısı Binadaki Kat Sayısı  \\\n",
       "1721  17848   300000    80.0        3+1            1                   4   \n",
       "1114  11275     1250   110.0        3+1            1                   5   \n",
       "\n",
       "     Bulunduğu Kat    Bina Yaşı       Isıtma Tipi Mobilya Durumu  ...  \\\n",
       "1721         Kot 2  11-15 arası   Soba (Doğalgaz)        Eşyasız  ...   \n",
       "1114             5   6-10 arası  Kombi (Doğalgaz)        Eşyasız  ...   \n",
       "\n",
       "             Kimden Krediye Uygun   Price  Location Lat Location Lon  \\\n",
       "1721  Belirtilmemiş          Evet  300000     41.058656    28.913498   \n",
       "1114  Belirtilmemiş          Evet  385000     40.883412    29.220468   \n",
       "\n",
       "          Location1      Location2  Location3  Aidat   Takasa Uygun  \n",
       "1721        Sarıgöl  Gaziosmanpaşa   İstanbul   45.0  Belirtilmemiş  \n",
       "1114  Sapan Bağları         Pendik   İstanbul    0.0  Belirtilmemiş  \n",
       "\n",
       "[2 rows x 24 columns]"
      ]
     },
     "execution_count": 68,
     "metadata": {},
     "output_type": "execute_result"
    }
   ],
   "source": [
    "df.sort_values(by = 'Brüt m²', ascending = False)[:2]"
   ]
  },
  {
   "cell_type": "code",
   "execution_count": 69,
   "metadata": {},
   "outputs": [],
   "source": [
    "df = df.drop(df[df['ID'] == 17848].index)"
   ]
  },
  {
   "cell_type": "code",
   "execution_count": 70,
   "metadata": {},
   "outputs": [
    {
     "data": {
      "text/plain": [
       "(2797, 24)"
      ]
     },
     "execution_count": 70,
     "metadata": {},
     "output_type": "execute_result"
    }
   ],
   "source": [
    "df.shape"
   ]
  },
  {
   "cell_type": "code",
   "execution_count": 71,
   "metadata": {},
   "outputs": [
    {
     "name": "stderr",
     "output_type": "stream",
     "text": [
      "C:\\Users\\pc\\anaconda3\\lib\\site-packages\\seaborn\\distributions.py:2551: FutureWarning: `distplot` is a deprecated function and will be removed in a future version. Please adapt your code to use either `displot` (a figure-level function with similar flexibility) or `histplot` (an axes-level function for histograms).\n",
      "  warnings.warn(msg, FutureWarning)\n"
     ]
    },
    {
     "data": {
      "image/png": "[encoded data removed]",
      "text/plain": [
       "<Figure size 432x288 with 1 Axes>"
      ]
     },
     "metadata": {
      "needs_background": "light"
     },
     "output_type": "display_data"
    },
    {
     "data": {
      "image/png": "[encoded data removed]",
      "text/plain": [
       "<Figure size 432x288 with 1 Axes>"
      ]
     },
     "metadata": {
      "needs_background": "light"
     },
     "output_type": "display_data"
    }
   ],
   "source": [
    "from scipy.stats import norm\n",
    "from scipy import stats\n",
    "sns.distplot(df['Price'], fit=norm);\n",
    "fig = plt.figure()\n",
    "res = stats.probplot(df['Price'], plot=plt)"
   ]
  },
  {
   "cell_type": "code",
   "execution_count": 72,
   "metadata": {},
   "outputs": [],
   "source": [
    "df['Price'] = np.log(df['Price'])"
   ]
  },
  {
   "cell_type": "code",
   "execution_count": 73,
   "metadata": {},
   "outputs": [
    {
     "name": "stderr",
     "output_type": "stream",
     "text": [
      "C:\\Users\\pc\\anaconda3\\lib\\site-packages\\seaborn\\distributions.py:2551: FutureWarning: `distplot` is a deprecated function and will be removed in a future version. Please adapt your code to use either `displot` (a figure-level function with similar flexibility) or `histplot` (an axes-level function for histograms).\n",
      "  warnings.warn(msg, FutureWarning)\n"
     ]
    },
    {
     "data": {
      "image/png": "[encoded data removed]",
      "text/plain": [
       "<Figure size 432x288 with 1 Axes>"
      ]
     },
     "metadata": {
      "needs_background": "light"
     },
     "output_type": "display_data"
    },
    {
     "data": {
      "image/png": "[encoded data removed]",
      "text/plain": [
       "<Figure size 432x288 with 1 Axes>"
      ]
     },
     "metadata": {
      "needs_background": "light"
     },
     "output_type": "display_data"
    }
   ],
   "source": [
    "sns.distplot(df['Price'], fit=norm);\n",
    "fig = plt.figure()\n",
    "res = stats.probplot(df['Price'], plot=plt)"
   ]
  },
  {
   "cell_type": "code",
   "execution_count": 74,
   "metadata": {},
   "outputs": [
    {
     "name": "stderr",
     "output_type": "stream",
     "text": [
      "C:\\Users\\pc\\anaconda3\\lib\\site-packages\\seaborn\\distributions.py:2551: FutureWarning: `distplot` is a deprecated function and will be removed in a future version. Please adapt your code to use either `displot` (a figure-level function with similar flexibility) or `histplot` (an axes-level function for histograms).\n",
      "  warnings.warn(msg, FutureWarning)\n"
     ]
    },
    {
     "data": {
      "image/png": "[encoded data removed]",
      "text/plain": [
       "<Figure size 432x288 with 1 Axes>"
      ]
     },
     "metadata": {
      "needs_background": "light"
     },
     "output_type": "display_data"
    },
    {
     "data": {
      "image/png": "[encoded data removed]",
      "text/plain": [
       "<Figure size 432x288 with 1 Axes>"
      ]
     },
     "metadata": {
      "needs_background": "light"
     },
     "output_type": "display_data"
    }
   ],
   "source": [
    "sns.distplot(df['Kira Getirisi'], fit=norm);\n",
    "fig = plt.figure()\n",
    "res = stats.probplot(df['Kira Getirisi'], plot=plt)"
   ]
  },
  {
   "cell_type": "code",
   "execution_count": 75,
   "metadata": {},
   "outputs": [
    {
     "name": "stderr",
     "output_type": "stream",
     "text": [
      "C:\\Users\\pc\\anaconda3\\lib\\site-packages\\seaborn\\distributions.py:2551: FutureWarning: `distplot` is a deprecated function and will be removed in a future version. Please adapt your code to use either `displot` (a figure-level function with similar flexibility) or `histplot` (an axes-level function for histograms).\n",
      "  warnings.warn(msg, FutureWarning)\n"
     ]
    },
    {
     "data": {
      "image/png": "[encoded data removed]",
      "text/plain": [
       "<Figure size 432x288 with 1 Axes>"
      ]
     },
     "metadata": {
      "needs_background": "light"
     },
     "output_type": "display_data"
    },
    {
     "data": {
      "image/png": "[encoded data removed]",
      "text/plain": [
       "<Figure size 432x288 with 1 Axes>"
      ]
     },
     "metadata": {
      "needs_background": "light"
     },
     "output_type": "display_data"
    }
   ],
   "source": [
    "sns.distplot(df['Net m²'], fit=norm);\n",
    "fig = plt.figure()\n",
    "res = stats.probplot(df['Net m²'], plot=plt)"
   ]
  },
  {
   "cell_type": "code",
   "execution_count": 76,
   "metadata": {},
   "outputs": [
    {
     "data": {
      "text/plain": [
       "<matplotlib.collections.PathCollection at 0x149af34fb20>"
      ]
     },
     "execution_count": 76,
     "metadata": {},
     "output_type": "execute_result"
    },
    {
     "data": {
      "image/png": "[encoded data removed]",
      "text/plain": [
       "<Figure size 432x288 with 1 Axes>"
      ]
     },
     "metadata": {
      "needs_background": "light"
     },
     "output_type": "display_data"
    }
   ],
   "source": [
    "plt.scatter(df['Net m²'], df['Price'])"
   ]
  },
  {
   "cell_type": "code",
   "execution_count": 77,
   "metadata": {},
   "outputs": [
    {
     "data": {
      "text/plain": [
       "<matplotlib.collections.PathCollection at 0x149af2acc10>"
      ]
     },
     "execution_count": 77,
     "metadata": {},
     "output_type": "execute_result"
    },
    {
     "data": {
      "image/png": "[encoded data removed]",
      "text/plain": [
       "<Figure size 432x288 with 1 Axes>"
      ]
     },
     "metadata": {
      "needs_background": "light"
     },
     "output_type": "display_data"
    }
   ],
   "source": [
    "plt.scatter(df['Kira Getirisi'], df['Price'])"
   ]
  },
  {
   "cell_type": "code",
   "execution_count": 78,
   "metadata": {},
   "outputs": [
    {
     "data": {
      "text/plain": [
       "<matplotlib.collections.PathCollection at 0x149af3833d0>"
      ]
     },
     "execution_count": 78,
     "metadata": {},
     "output_type": "execute_result"
    },
    {
     "data": {
      "image/png": "[encoded data removed]",
      "text/plain": [
       "<Figure size 432x288 with 1 Axes>"
      ]
     },
     "metadata": {
      "needs_background": "light"
     },
     "output_type": "display_data"
    }
   ],
   "source": [
    "plt.scatter(df['Brüt m²'], df['Price'])"
   ]
  },
  {
   "cell_type": "code",
   "execution_count": 79,
   "metadata": {},
   "outputs": [],
   "source": [
    "df.drop(columns = \"ID\" , inplace=True)"
   ]
  },
  {
   "cell_type": "code",
   "execution_count": 80,
   "metadata": {},
   "outputs": [],
   "source": [
    "df.drop([\"Location Lat\", \"Location Lon\"], axis=1 , inplace=True)"
   ]
  },
  {
   "cell_type": "code",
   "execution_count": 81,
   "metadata": {},
   "outputs": [
    {
     "data": {
      "text/plain": [
       "Index(['Brüt m²', 'Net m²', 'Oda Sayısı', 'Banyo Sayısı',\n",
       "       'Binadaki Kat Sayısı', 'Bulunduğu Kat', 'Bina Yaşı', 'Isıtma Tipi',\n",
       "       'Mobilya Durumu', 'Kullanım Durumu', 'Yapının Durumu', 'Konut Şekli',\n",
       "       'Kira Getirisi', 'Kimden', 'Krediye Uygun', 'Price', 'Location1',\n",
       "       'Location2', 'Location3', 'Aidat', 'Takasa Uygun'],\n",
       "      dtype='object')"
      ]
     },
     "execution_count": 81,
     "metadata": {},
     "output_type": "execute_result"
    }
   ],
   "source": [
    "df.columns"
   ]
  },
  {
   "cell_type": "code",
   "execution_count": 82,
   "metadata": {},
   "outputs": [],
   "source": [
    "x2 = pd.get_dummies(df[[\"Konut Şekli\",'Oda Sayısı', 'Banyo Sayısı',\n",
    "       'Binadaki Kat Sayısı', 'Bulunduğu Kat', 'Bina Yaşı', 'Isıtma Tipi',\n",
    "       'Mobilya Durumu', 'Kullanım Durumu', 'Yapının Durumu', 'Kimden',\n",
    "       'Krediye Uygun', 'Location2' , 'Takasa Uygun' , 'Location3' , 'Location1' , ]], drop_first = True)"
   ]
  },
  {
   "cell_type": "code",
   "execution_count": 83,
   "metadata": {},
   "outputs": [],
   "source": [
    "X1 = pd.DataFrame(df, columns = [ \"Brüt m²\", 'Net m²',\"Kira Getirisi\" ,])"
   ]
  },
  {
   "cell_type": "code",
   "execution_count": 84,
   "metadata": {},
   "outputs": [],
   "source": [
    "X1.reset_index(drop=True, inplace=True)\n",
    "x2.reset_index(drop=True, inplace=True)"
   ]
  },
  {
   "cell_type": "code",
   "execution_count": 85,
   "metadata": {},
   "outputs": [],
   "source": [
    "X = pd.concat([X1,x2], axis = 1)"
   ]
  },
  {
   "cell_type": "code",
   "execution_count": 86,
   "metadata": {},
   "outputs": [
    {
     "data": {
      "text/html": [
       "<div>\n",
       "<style scoped>\n",
       "    .dataframe tbody tr th:only-of-type {\n",
       "        vertical-align: middle;\n",
       "    }\n",
       "\n",
       "    .dataframe tbody tr th {\n",
       "        vertical-align: top;\n",
       "    }\n",
       "\n",
       "    .dataframe thead th {\n",
       "        text-align: right;\n",
       "    }\n",
       "</style>\n",
       "<table border=\"1\" class=\"dataframe\">\n",
       "  <thead>\n",
       "    <tr style=\"text-align: right;\">\n",
       "      <th></th>\n",
       "      <th>Brüt m²</th>\n",
       "      <th>Net m²</th>\n",
       "      <th>Kira Getirisi</th>\n",
       "      <th>Konut Şekli_Ara Kat</th>\n",
       "      <th>Konut Şekli_Bahçe Dubleksi</th>\n",
       "      <th>Konut Şekli_Bahçe Katı</th>\n",
       "      <th>Konut Şekli_Belirtilmemiş</th>\n",
       "      <th>Konut Şekli_Dubleks</th>\n",
       "      <th>Konut Şekli_En Üst Kat</th>\n",
       "      <th>Konut Şekli_Giriş Kat</th>\n",
       "      <th>...</th>\n",
       "      <th>Location1_İçmeler</th>\n",
       "      <th>Location1_Şahkulu</th>\n",
       "      <th>Location1_Şamlar</th>\n",
       "      <th>Location1_Şehremini</th>\n",
       "      <th>Location1_Şemsipaşa</th>\n",
       "      <th>Location1_Şenlikköy</th>\n",
       "      <th>Location1_Şerifali</th>\n",
       "      <th>Location1_Şeyhli</th>\n",
       "      <th>Location1_Şirinevler</th>\n",
       "      <th>Location1_Şirintepe</th>\n",
       "    </tr>\n",
       "  </thead>\n",
       "  <tbody>\n",
       "    <tr>\n",
       "      <th>0</th>\n",
       "      <td>100</td>\n",
       "      <td>90.0</td>\n",
       "      <td>1705.041580</td>\n",
       "      <td>0</td>\n",
       "      <td>0</td>\n",
       "      <td>0</td>\n",
       "      <td>1</td>\n",
       "      <td>0</td>\n",
       "      <td>0</td>\n",
       "      <td>0</td>\n",
       "      <td>...</td>\n",
       "      <td>0</td>\n",
       "      <td>0</td>\n",
       "      <td>0</td>\n",
       "      <td>0</td>\n",
       "      <td>0</td>\n",
       "      <td>0</td>\n",
       "      <td>0</td>\n",
       "      <td>0</td>\n",
       "      <td>0</td>\n",
       "      <td>0</td>\n",
       "    </tr>\n",
       "    <tr>\n",
       "      <th>1</th>\n",
       "      <td>80</td>\n",
       "      <td>75.0</td>\n",
       "      <td>1300.000000</td>\n",
       "      <td>0</td>\n",
       "      <td>0</td>\n",
       "      <td>0</td>\n",
       "      <td>0</td>\n",
       "      <td>0</td>\n",
       "      <td>1</td>\n",
       "      <td>0</td>\n",
       "      <td>...</td>\n",
       "      <td>0</td>\n",
       "      <td>0</td>\n",
       "      <td>0</td>\n",
       "      <td>0</td>\n",
       "      <td>0</td>\n",
       "      <td>0</td>\n",
       "      <td>0</td>\n",
       "      <td>0</td>\n",
       "      <td>0</td>\n",
       "      <td>0</td>\n",
       "    </tr>\n",
       "    <tr>\n",
       "      <th>2</th>\n",
       "      <td>75</td>\n",
       "      <td>65.0</td>\n",
       "      <td>1100.000000</td>\n",
       "      <td>0</td>\n",
       "      <td>0</td>\n",
       "      <td>0</td>\n",
       "      <td>0</td>\n",
       "      <td>0</td>\n",
       "      <td>0</td>\n",
       "      <td>1</td>\n",
       "      <td>...</td>\n",
       "      <td>0</td>\n",
       "      <td>0</td>\n",
       "      <td>0</td>\n",
       "      <td>0</td>\n",
       "      <td>0</td>\n",
       "      <td>0</td>\n",
       "      <td>0</td>\n",
       "      <td>0</td>\n",
       "      <td>0</td>\n",
       "      <td>0</td>\n",
       "    </tr>\n",
       "    <tr>\n",
       "      <th>3</th>\n",
       "      <td>187</td>\n",
       "      <td>150.0</td>\n",
       "      <td>2841.735967</td>\n",
       "      <td>1</td>\n",
       "      <td>0</td>\n",
       "      <td>0</td>\n",
       "      <td>0</td>\n",
       "      <td>0</td>\n",
       "      <td>0</td>\n",
       "      <td>0</td>\n",
       "      <td>...</td>\n",
       "      <td>0</td>\n",
       "      <td>0</td>\n",
       "      <td>0</td>\n",
       "      <td>0</td>\n",
       "      <td>0</td>\n",
       "      <td>0</td>\n",
       "      <td>0</td>\n",
       "      <td>0</td>\n",
       "      <td>0</td>\n",
       "      <td>0</td>\n",
       "    </tr>\n",
       "    <tr>\n",
       "      <th>4</th>\n",
       "      <td>85</td>\n",
       "      <td>75.0</td>\n",
       "      <td>1420.867983</td>\n",
       "      <td>0</td>\n",
       "      <td>0</td>\n",
       "      <td>1</td>\n",
       "      <td>0</td>\n",
       "      <td>0</td>\n",
       "      <td>0</td>\n",
       "      <td>0</td>\n",
       "      <td>...</td>\n",
       "      <td>0</td>\n",
       "      <td>0</td>\n",
       "      <td>0</td>\n",
       "      <td>0</td>\n",
       "      <td>0</td>\n",
       "      <td>0</td>\n",
       "      <td>0</td>\n",
       "      <td>0</td>\n",
       "      <td>0</td>\n",
       "      <td>0</td>\n",
       "    </tr>\n",
       "  </tbody>\n",
       "</table>\n",
       "<p>5 rows × 548 columns</p>\n",
       "</div>"
      ],
      "text/plain": [
       "   Brüt m²  Net m²  Kira Getirisi  Konut Şekli_Ara Kat  \\\n",
       "0      100    90.0    1705.041580                    0   \n",
       "1       80    75.0    1300.000000                    0   \n",
       "2       75    65.0    1100.000000                    0   \n",
       "3      187   150.0    2841.735967                    1   \n",
       "4       85    75.0    1420.867983                    0   \n",
       "\n",
       "   Konut Şekli_Bahçe Dubleksi  Konut Şekli_Bahçe Katı  \\\n",
       "0                           0                       0   \n",
       "1                           0                       0   \n",
       "2                           0                       0   \n",
       "3                           0                       0   \n",
       "4                           0                       1   \n",
       "\n",
       "   Konut Şekli_Belirtilmemiş  Konut Şekli_Dubleks  Konut Şekli_En Üst Kat  \\\n",
       "0                          1                    0                       0   \n",
       "1                          0                    0                       1   \n",
       "2                          0                    0                       0   \n",
       "3                          0                    0                       0   \n",
       "4                          0                    0                       0   \n",
       "\n",
       "   Konut Şekli_Giriş Kat  ...  Location1_İçmeler  Location1_Şahkulu  \\\n",
       "0                      0  ...                  0                  0   \n",
       "1                      0  ...                  0                  0   \n",
       "2                      1  ...                  0                  0   \n",
       "3                      0  ...                  0                  0   \n",
       "4                      0  ...                  0                  0   \n",
       "\n",
       "   Location1_Şamlar  Location1_Şehremini  Location1_Şemsipaşa  \\\n",
       "0                 0                    0                    0   \n",
       "1                 0                    0                    0   \n",
       "2                 0                    0                    0   \n",
       "3                 0                    0                    0   \n",
       "4                 0                    0                    0   \n",
       "\n",
       "   Location1_Şenlikköy  Location1_Şerifali  Location1_Şeyhli  \\\n",
       "0                    0                   0                 0   \n",
       "1                    0                   0                 0   \n",
       "2                    0                   0                 0   \n",
       "3                    0                   0                 0   \n",
       "4                    0                   0                 0   \n",
       "\n",
       "   Location1_Şirinevler  Location1_Şirintepe  \n",
       "0                     0                    0  \n",
       "1                     0                    0  \n",
       "2                     0                    0  \n",
       "3                     0                    0  \n",
       "4                     0                    0  \n",
       "\n",
       "[5 rows x 548 columns]"
      ]
     },
     "execution_count": 86,
     "metadata": {},
     "output_type": "execute_result"
    }
   ],
   "source": [
    "X.head(5)"
   ]
  },
  {
   "cell_type": "code",
   "execution_count": 87,
   "metadata": {},
   "outputs": [
    {
     "data": {
      "text/plain": [
       "(2797, 548)"
      ]
     },
     "execution_count": 87,
     "metadata": {},
     "output_type": "execute_result"
    }
   ],
   "source": [
    "X.shape"
   ]
  },
  {
   "cell_type": "code",
   "execution_count": 88,
   "metadata": {},
   "outputs": [],
   "source": [
    "Y = pd.DataFrame(df[\"Price\"], columns = [\"Price\"])"
   ]
  },
  {
   "cell_type": "code",
   "execution_count": 89,
   "metadata": {},
   "outputs": [
    {
     "data": {
      "text/html": [
       "<div>\n",
       "<style scoped>\n",
       "    .dataframe tbody tr th:only-of-type {\n",
       "        vertical-align: middle;\n",
       "    }\n",
       "\n",
       "    .dataframe tbody tr th {\n",
       "        vertical-align: top;\n",
       "    }\n",
       "\n",
       "    .dataframe thead th {\n",
       "        text-align: right;\n",
       "    }\n",
       "</style>\n",
       "<table border=\"1\" class=\"dataframe\">\n",
       "  <thead>\n",
       "    <tr style=\"text-align: right;\">\n",
       "      <th></th>\n",
       "      <th>Price</th>\n",
       "    </tr>\n",
       "  </thead>\n",
       "  <tbody>\n",
       "    <tr>\n",
       "      <th>1</th>\n",
       "      <td>12.706848</td>\n",
       "    </tr>\n",
       "    <tr>\n",
       "      <th>2</th>\n",
       "      <td>12.345835</td>\n",
       "    </tr>\n",
       "    <tr>\n",
       "      <th>3</th>\n",
       "      <td>12.498742</td>\n",
       "    </tr>\n",
       "    <tr>\n",
       "      <th>4</th>\n",
       "      <td>14.508658</td>\n",
       "    </tr>\n",
       "    <tr>\n",
       "      <th>5</th>\n",
       "      <td>12.301383</td>\n",
       "    </tr>\n",
       "    <tr>\n",
       "      <th>...</th>\n",
       "      <td>...</td>\n",
       "    </tr>\n",
       "    <tr>\n",
       "      <th>2995</th>\n",
       "      <td>14.648420</td>\n",
       "    </tr>\n",
       "    <tr>\n",
       "      <th>2996</th>\n",
       "      <td>13.910821</td>\n",
       "    </tr>\n",
       "    <tr>\n",
       "      <th>2997</th>\n",
       "      <td>12.821258</td>\n",
       "    </tr>\n",
       "    <tr>\n",
       "      <th>2998</th>\n",
       "      <td>13.296317</td>\n",
       "    </tr>\n",
       "    <tr>\n",
       "      <th>2999</th>\n",
       "      <td>13.764217</td>\n",
       "    </tr>\n",
       "  </tbody>\n",
       "</table>\n",
       "<p>2797 rows × 1 columns</p>\n",
       "</div>"
      ],
      "text/plain": [
       "          Price\n",
       "1     12.706848\n",
       "2     12.345835\n",
       "3     12.498742\n",
       "4     14.508658\n",
       "5     12.301383\n",
       "...         ...\n",
       "2995  14.648420\n",
       "2996  13.910821\n",
       "2997  12.821258\n",
       "2998  13.296317\n",
       "2999  13.764217\n",
       "\n",
       "[2797 rows x 1 columns]"
      ]
     },
     "execution_count": 89,
     "metadata": {},
     "output_type": "execute_result"
    }
   ],
   "source": [
    "Y"
   ]
  },
  {
   "cell_type": "code",
   "execution_count": 90,
   "metadata": {},
   "outputs": [],
   "source": [
    "from sklearn.model_selection import train_test_split\n",
    "x_train, x_test, y_train, y_test = train_test_split(X,Y,test_size = 0.25, random_state = 0)"
   ]
  },
  {
   "cell_type": "code",
   "execution_count": 91,
   "metadata": {},
   "outputs": [],
   "source": [
    "def mean_absolute_percentage_error(y_true, y_pred): \n",
    "    y_true, y_pred = np.array(y_true), np.array(y_pred)\n",
    "    return np.mean(np.abs((y_true - y_pred) / y_true)) * 100"
   ]
  },
  {
   "cell_type": "code",
   "execution_count": 92,
   "metadata": {},
   "outputs": [
    {
     "name": "stdout",
     "output_type": "stream",
     "text": [
      "depth 1 : test  score:  0.2751599051497081 train score:  0.3200113458740288\n",
      "depth 2 : test  score:  0.4903121765763949 train score:  0.48882150828331705\n",
      "depth 3 : test  score:  0.560803569403066 train score:  0.5777584341374781\n",
      "depth 4 : test  score:  0.620762419600114 train score:  0.6627354883606218\n",
      "depth 5 : test  score:  0.6920331704865677 train score:  0.7439794748236213\n",
      "depth 6 : test  score:  0.727739705066166 train score:  0.7912001320848138\n",
      "depth 7 : test  score:  0.7344205455990562 train score:  0.8292835376304009\n",
      "depth 8 : test  score:  0.7312400136664263 train score:  0.8597539734009674\n",
      "depth 9 : test  score:  0.7252733507524816 train score:  0.8836376506734438\n",
      "depth 10 : test  score:  0.7171708342740075 train score:  0.905562910542295\n",
      "depth 11 : test  score:  0.7226390556530473 train score:  0.9243453535333911\n",
      "depth 12 : test  score:  0.7115631292335654 train score:  0.9396553057537894\n",
      "depth 13 : test  score:  0.6942629997898859 train score:  0.9505409068614984\n",
      "depth 14 : test  score:  0.6965808493440233 train score:  0.9600329162105155\n",
      "depth 15 : test  score:  0.6964289586184675 train score:  0.9671779358827571\n",
      "depth 16 : test  score:  0.7130834847577646 train score:  0.9732028134890144\n",
      "depth 17 : test  score:  0.6946395434827768 train score:  0.9775447369180553\n",
      "depth 18 : test  score:  0.7129928088421402 train score:  0.9805538426161318\n",
      "depth 19 : test  score:  0.7105693770021404 train score:  0.9835745093380469\n"
     ]
    }
   ],
   "source": [
    "from sklearn.tree import DecisionTreeRegressor\n",
    "from sklearn.metrics import r2_score\n",
    "for b in np.arange(1,20,1):\n",
    "    r_dt = DecisionTreeRegressor(random_state = 0, max_depth=b)\n",
    "    r_dt.fit(x_train,y_train)\n",
    "    pred = r_dt.predict(x_test)\n",
    "    predtrain = r_dt.predict(x_train)\n",
    "    score = r2_score(y_test,pred)\n",
    "    score2 = r2_score(y_train,predtrain)\n",
    "    print(\"depth\",b,\":\",\"test  score: \",score,\"train score: \",score2)"
   ]
  },
  {
   "cell_type": "code",
   "execution_count": 98,
   "metadata": {},
   "outputs": [],
   "source": [
    "params = {'max_depth': [1, 2, 3, 4]}"
   ]
  },
  {
   "cell_type": "code",
   "execution_count": 99,
   "metadata": {},
   "outputs": [],
   "source": [
    "from sklearn.model_selection import GridSearchCV\n",
    "dtr = DecisionTreeRegressor()\n",
    "folds = 5"
   ]
  },
  {
   "cell_type": "code",
   "execution_count": 100,
   "metadata": {},
   "outputs": [],
   "source": [
    "model_cv = GridSearchCV(dtr, \n",
    "                        param_grid = params, \n",
    "                        scoring= 'neg_mean_absolute_error', \n",
    "                        cv = folds, \n",
    "                        return_train_score=True,\n",
    "                        verbose = 1)      "
   ]
  },
  {
   "cell_type": "code",
   "execution_count": 101,
   "metadata": {},
   "outputs": [
    {
     "name": "stdout",
     "output_type": "stream",
     "text": [
      "Fitting 5 folds for each of 4 candidates, totalling 20 fits\n"
     ]
    },
    {
     "name": "stderr",
     "output_type": "stream",
     "text": [
      "[Parallel(n_jobs=1)]: Using backend SequentialBackend with 1 concurrent workers.\n",
      "[Parallel(n_jobs=1)]: Done  20 out of  20 | elapsed:    1.4s finished\n"
     ]
    },
    {
     "data": {
      "text/plain": [
       "GridSearchCV(cv=5, estimator=DecisionTreeRegressor(),\n",
       "             param_grid={'max_depth': [1, 2, 3, 4]}, return_train_score=True,\n",
       "             scoring='neg_mean_absolute_error', verbose=1)"
      ]
     },
     "execution_count": 101,
     "metadata": {},
     "output_type": "execute_result"
    }
   ],
   "source": [
    "model_cv.fit(x_train, y_train) "
   ]
  },
  {
   "cell_type": "code",
   "execution_count": 102,
   "metadata": {},
   "outputs": [
    {
     "name": "stdout",
     "output_type": "stream",
     "text": [
      "{'max_depth': 4}\n"
     ]
    }
   ],
   "source": [
    "print(model_cv.best_params_)"
   ]
  },
  {
   "cell_type": "code",
   "execution_count": 103,
   "metadata": {},
   "outputs": [],
   "source": [
    "dtr = DecisionTreeRegressor(max_depth=4)"
   ]
  },
  {
   "cell_type": "code",
   "execution_count": 104,
   "metadata": {},
   "outputs": [
    {
     "data": {
      "text/plain": [
       "DecisionTreeRegressor(max_depth=4)"
      ]
     },
     "execution_count": 104,
     "metadata": {},
     "output_type": "execute_result"
    }
   ],
   "source": [
    "dtr.fit(x_train , y_train)"
   ]
  },
  {
   "cell_type": "code",
   "execution_count": 105,
   "metadata": {},
   "outputs": [],
   "source": [
    "pred = dtr.predict(x_test)"
   ]
  },
  {
   "cell_type": "code",
   "execution_count": 106,
   "metadata": {},
   "outputs": [
    {
     "data": {
      "text/plain": [
       "5.3522199538819315"
      ]
     },
     "execution_count": 106,
     "metadata": {},
     "output_type": "execute_result"
    }
   ],
   "source": [
    "mean_absolute_percentage_error(y_test,pred)"
   ]
  },
  {
   "cell_type": "code",
   "execution_count": 119,
   "metadata": {},
   "outputs": [
    {
     "data": {
      "text/plain": [
       "(11.0, 17.0)"
      ]
     },
     "execution_count": 119,
     "metadata": {},
     "output_type": "execute_result"
    },
    {
     "data": {
      "image/png": "[encoded data removed]",
      "text/plain": [
       "<Figure size 432x288 with 1 Axes>"
      ]
     },
     "metadata": {
      "needs_background": "light"
     },
     "output_type": "display_data"
    }
   ],
   "source": [
    "plt.scatter(y_test, pred)\n",
    "ax = plt.gca()\n",
    "ax.plot([0,1],[0,1], transform=ax.transAxes)\n",
    "plt.ylim(11,17)\n",
    "plt.xlim(11,17)"
   ]
  },
  {
   "cell_type": "code",
   "execution_count": 120,
   "metadata": {},
   "outputs": [],
   "source": [
    "labels = x_train.columns"
   ]
  },
  {
   "cell_type": "code",
   "execution_count": 121,
   "metadata": {},
   "outputs": [
    {
     "name": "stdout",
     "output_type": "stream",
     "text": [
      "Collecting package metadata (current_repodata.json): ...working... done\n",
      "Solving environment: ...working... done\n",
      "\n",
      "# All requested packages already installed.\n",
      "\n",
      "\n",
      "Note: you may need to restart the kernel to use updated packages.\n"
     ]
    }
   ],
   "source": [
    "conda install python-graphviz"
   ]
  },
  {
   "cell_type": "code",
   "execution_count": 122,
   "metadata": {},
   "outputs": [
    {
     "data": {
      "image/svg+xml": [
       "<svg xmlns=\"http://www.w3.org/2000/svg\" xmlns:xlink=\"http://www.w3.org/1999/xlink\" width=\"1846pt\" height=\"477pt\" viewBox=\"0.00 0.00 1846.00 477.00\">\n",
       "<g id=\"graph0\" class=\"graph\" transform=\"scale(1 1) rotate(0) translate(4 473)\">\n",
       "<title>Tree</title>\n",
       "<polygon fill=\"white\" stroke=\"none\" points=\"-4,4 -4,-473 1842,-473 1842,4 -4,4\"/>\n",
       "<!-- 0 -->\n",
       "<g id=\"node1\" class=\"node\"><title>0</title>\n",
       "<polygon fill=\"#f6d3b9\" stroke=\"black\" points=\"935,-469 777,-469 777,-401 935,-401 935,-469\"/>\n",
       "<text text-anchor=\"middle\" x=\"856\" y=\"-453.8\" font-family=\"Times New Roman,serif\" font-size=\"14.00\">Kira Getirisi &lt;= 1974.021</text>\n",
       "<text text-anchor=\"middle\" x=\"856\" y=\"-438.8\" font-family=\"Times New Roman,serif\" font-size=\"14.00\">mse = 0.558</text>\n",
       "<text text-anchor=\"middle\" x=\"856\" y=\"-423.8\" font-family=\"Times New Roman,serif\" font-size=\"14.00\">samples = 2097</text>\n",
       "<text text-anchor=\"middle\" x=\"856\" y=\"-408.8\" font-family=\"Times New Roman,serif\" font-size=\"14.00\">value = 12.887</text>\n",
       "</g>\n",
       "<!-- 1 -->\n",
       "<g id=\"node2\" class=\"node\"><title>1</title>\n",
       "<polygon fill=\"#f9e4d5\" stroke=\"black\" points=\"771,-365 613,-365 613,-297 771,-297 771,-365\"/>\n",
       "<text text-anchor=\"middle\" x=\"692\" y=\"-349.8\" font-family=\"Times New Roman,serif\" font-size=\"14.00\">Kira Getirisi &lt;= 1297.468</text>\n",
       "<text text-anchor=\"middle\" x=\"692\" y=\"-334.8\" font-family=\"Times New Roman,serif\" font-size=\"14.00\">mse = 0.184</text>\n",
       "<text text-anchor=\"middle\" x=\"692\" y=\"-319.8\" font-family=\"Times New Roman,serif\" font-size=\"14.00\">samples = 1304</text>\n",
       "<text text-anchor=\"middle\" x=\"692\" y=\"-304.8\" font-family=\"Times New Roman,serif\" font-size=\"14.00\">value = 12.558</text>\n",
       "</g>\n",
       "<!-- 0&#45;&gt;1 -->\n",
       "<g id=\"edge1\" class=\"edge\"><title>0-&gt;1</title>\n",
       "<path fill=\"none\" stroke=\"black\" d=\"M802.754,-400.884C787.208,-391.214 770.082,-380.563 754.042,-370.587\"/>\n",
       "<polygon fill=\"black\" stroke=\"black\" points=\"755.599,-367.434 745.259,-365.125 751.902,-373.378 755.599,-367.434\"/>\n",
       "<text text-anchor=\"middle\" x=\"750.934\" y=\"-385.772\" font-family=\"Times New Roman,serif\" font-size=\"14.00\">True</text>\n",
       "</g>\n",
       "<!-- 16 -->\n",
       "<g id=\"node17\" class=\"node\"><title>16</title>\n",
       "<polygon fill=\"#f0b68d\" stroke=\"black\" points=\"1241.5,-365 1058.5,-365 1058.5,-297 1241.5,-297 1241.5,-365\"/>\n",
       "<text text-anchor=\"middle\" x=\"1150\" y=\"-349.8\" font-family=\"Times New Roman,serif\" font-size=\"14.00\">Location2_Beylikdüzü &lt;= 0.5</text>\n",
       "<text text-anchor=\"middle\" x=\"1150\" y=\"-334.8\" font-family=\"Times New Roman,serif\" font-size=\"14.00\">mse = 0.702</text>\n",
       "<text text-anchor=\"middle\" x=\"1150\" y=\"-319.8\" font-family=\"Times New Roman,serif\" font-size=\"14.00\">samples = 793</text>\n",
       "<text text-anchor=\"middle\" x=\"1150\" y=\"-304.8\" font-family=\"Times New Roman,serif\" font-size=\"14.00\">value = 13.429</text>\n",
       "</g>\n",
       "<!-- 0&#45;&gt;16 -->\n",
       "<g id=\"edge16\" class=\"edge\"><title>0-&gt;16</title>\n",
       "<path fill=\"none\" stroke=\"black\" d=\"M935.173,-406.532C970.067,-394.426 1011.49,-380.054 1048.61,-367.177\"/>\n",
       "<polygon fill=\"black\" stroke=\"black\" points=\"1050.15,-370.347 1058.45,-363.763 1047.85,-363.734 1050.15,-370.347\"/>\n",
       "<text text-anchor=\"middle\" x=\"1047.54\" y=\"-382.558\" font-family=\"Times New Roman,serif\" font-size=\"14.00\">False</text>\n",
       "</g>\n",
       "<!-- 2 -->\n",
       "<g id=\"node3\" class=\"node\"><title>2</title>\n",
       "<polygon fill=\"#fceee5\" stroke=\"black\" points=\"452,-261 300,-261 300,-193 452,-193 452,-261\"/>\n",
       "<text text-anchor=\"middle\" x=\"376\" y=\"-245.8\" font-family=\"Times New Roman,serif\" font-size=\"14.00\">Kira Getirisi &lt;= 1043.16</text>\n",
       "<text text-anchor=\"middle\" x=\"376\" y=\"-230.8\" font-family=\"Times New Roman,serif\" font-size=\"14.00\">mse = 0.14</text>\n",
       "<text text-anchor=\"middle\" x=\"376\" y=\"-215.8\" font-family=\"Times New Roman,serif\" font-size=\"14.00\">samples = 723</text>\n",
       "<text text-anchor=\"middle\" x=\"376\" y=\"-200.8\" font-family=\"Times New Roman,serif\" font-size=\"14.00\">value = 12.36</text>\n",
       "</g>\n",
       "<!-- 1&#45;&gt;2 -->\n",
       "<g id=\"edge2\" class=\"edge\"><title>1-&gt;2</title>\n",
       "<path fill=\"none\" stroke=\"black\" d=\"M612.668,-304.393C566.658,-289.542 508.7,-270.833 461.655,-255.648\"/>\n",
       "<polygon fill=\"black\" stroke=\"black\" points=\"462.686,-252.303 452.094,-252.562 460.536,-258.965 462.686,-252.303\"/>\n",
       "</g>\n",
       "<!-- 9 -->\n",
       "<g id=\"node10\" class=\"node\"><title>9</title>\n",
       "<polygon fill=\"#f7d7c0\" stroke=\"black\" points=\"810,-261 574,-261 574,-193 810,-193 810,-261\"/>\n",
       "<text text-anchor=\"middle\" x=\"692\" y=\"-245.8\" font-family=\"Times New Roman,serif\" font-size=\"14.00\">Location1_Mustafa Kemal Paşa &lt;= 0.5</text>\n",
       "<text text-anchor=\"middle\" x=\"692\" y=\"-230.8\" font-family=\"Times New Roman,serif\" font-size=\"14.00\">mse = 0.129</text>\n",
       "<text text-anchor=\"middle\" x=\"692\" y=\"-215.8\" font-family=\"Times New Roman,serif\" font-size=\"14.00\">samples = 581</text>\n",
       "<text text-anchor=\"middle\" x=\"692\" y=\"-200.8\" font-family=\"Times New Roman,serif\" font-size=\"14.00\">value = 12.804</text>\n",
       "</g>\n",
       "<!-- 1&#45;&gt;9 -->\n",
       "<g id=\"edge9\" class=\"edge\"><title>1-&gt;9</title>\n",
       "<path fill=\"none\" stroke=\"black\" d=\"M692,-296.884C692,-288.778 692,-279.982 692,-271.472\"/>\n",
       "<polygon fill=\"black\" stroke=\"black\" points=\"695.5,-271.299 692,-261.299 688.5,-271.299 695.5,-271.299\"/>\n",
       "</g>\n",
       "<!-- 3 -->\n",
       "<g id=\"node4\" class=\"node\"><title>3</title>\n",
       "<polygon fill=\"#fdf4ee\" stroke=\"black\" points=\"252,-157 78,-157 78,-89 252,-89 252,-157\"/>\n",
       "<text text-anchor=\"middle\" x=\"165\" y=\"-141.8\" font-family=\"Times New Roman,serif\" font-size=\"14.00\">Konut Şekli_Ara Kat &lt;= 0.5</text>\n",
       "<text text-anchor=\"middle\" x=\"165\" y=\"-126.8\" font-family=\"Times New Roman,serif\" font-size=\"14.00\">mse = 0.116</text>\n",
       "<text text-anchor=\"middle\" x=\"165\" y=\"-111.8\" font-family=\"Times New Roman,serif\" font-size=\"14.00\">samples = 390</text>\n",
       "<text text-anchor=\"middle\" x=\"165\" y=\"-96.8\" font-family=\"Times New Roman,serif\" font-size=\"14.00\">value = 12.252</text>\n",
       "</g>\n",
       "<!-- 2&#45;&gt;3 -->\n",
       "<g id=\"edge3\" class=\"edge\"><title>2-&gt;3</title>\n",
       "<path fill=\"none\" stroke=\"black\" d=\"M307.494,-192.884C286.752,-182.856 263.825,-171.773 242.535,-161.482\"/>\n",
       "<polygon fill=\"black\" stroke=\"black\" points=\"244.049,-158.326 233.523,-157.125 241.003,-164.628 244.049,-158.326\"/>\n",
       "</g>\n",
       "<!-- 6 -->\n",
       "<g id=\"node7\" class=\"node\"><title>6</title>\n",
       "<polygon fill=\"#fae8db\" stroke=\"black\" points=\"461,-157 291,-157 291,-89 461,-89 461,-157\"/>\n",
       "<text text-anchor=\"middle\" x=\"376\" y=\"-141.8\" font-family=\"Times New Roman,serif\" font-size=\"14.00\">Location2_Esenyurt &lt;= 0.5</text>\n",
       "<text text-anchor=\"middle\" x=\"376\" y=\"-126.8\" font-family=\"Times New Roman,serif\" font-size=\"14.00\">mse = 0.138</text>\n",
       "<text text-anchor=\"middle\" x=\"376\" y=\"-111.8\" font-family=\"Times New Roman,serif\" font-size=\"14.00\">samples = 333</text>\n",
       "<text text-anchor=\"middle\" x=\"376\" y=\"-96.8\" font-family=\"Times New Roman,serif\" font-size=\"14.00\">value = 12.486</text>\n",
       "</g>\n",
       "<!-- 2&#45;&gt;6 -->\n",
       "<g id=\"edge6\" class=\"edge\"><title>2-&gt;6</title>\n",
       "<path fill=\"none\" stroke=\"black\" d=\"M376,-192.884C376,-184.778 376,-175.982 376,-167.472\"/>\n",
       "<polygon fill=\"black\" stroke=\"black\" points=\"379.5,-167.299 376,-157.299 372.5,-167.299 379.5,-167.299\"/>\n",
       "</g>\n",
       "<!-- 4 -->\n",
       "<g id=\"node5\" class=\"node\"><title>4</title>\n",
       "<polygon fill=\"#fefaf7\" stroke=\"black\" points=\"98,-53 0,-53 0,-0 98,-0 98,-53\"/>\n",
       "<text text-anchor=\"middle\" x=\"49\" y=\"-37.8\" font-family=\"Times New Roman,serif\" font-size=\"14.00\">mse = 0.097</text>\n",
       "<text text-anchor=\"middle\" x=\"49\" y=\"-22.8\" font-family=\"Times New Roman,serif\" font-size=\"14.00\">samples = 191</text>\n",
       "<text text-anchor=\"middle\" x=\"49\" y=\"-7.8\" font-family=\"Times New Roman,serif\" font-size=\"14.00\">value = 12.145</text>\n",
       "</g>\n",
       "<!-- 3&#45;&gt;4 -->\n",
       "<g id=\"edge4\" class=\"edge\"><title>3-&gt;4</title>\n",
       "<path fill=\"none\" stroke=\"black\" d=\"M124.429,-88.9485C112.75,-79.4346 100.033,-69.074 88.4247,-59.6175\"/>\n",
       "<polygon fill=\"black\" stroke=\"black\" points=\"90.5557,-56.8392 80.5921,-53.2367 86.1345,-62.2663 90.5557,-56.8392\"/>\n",
       "</g>\n",
       "<!-- 5 -->\n",
       "<g id=\"node6\" class=\"node\"><title>5</title>\n",
       "<polygon fill=\"#fcefe5\" stroke=\"black\" points=\"214,-53 116,-53 116,-0 214,-0 214,-53\"/>\n",
       "<text text-anchor=\"middle\" x=\"165\" y=\"-37.8\" font-family=\"Times New Roman,serif\" font-size=\"14.00\">mse = 0.113</text>\n",
       "<text text-anchor=\"middle\" x=\"165\" y=\"-22.8\" font-family=\"Times New Roman,serif\" font-size=\"14.00\">samples = 199</text>\n",
       "<text text-anchor=\"middle\" x=\"165\" y=\"-7.8\" font-family=\"Times New Roman,serif\" font-size=\"14.00\">value = 12.355</text>\n",
       "</g>\n",
       "<!-- 3&#45;&gt;5 -->\n",
       "<g id=\"edge5\" class=\"edge\"><title>3-&gt;5</title>\n",
       "<path fill=\"none\" stroke=\"black\" d=\"M165,-88.9485C165,-80.7153 165,-71.848 165,-63.4814\"/>\n",
       "<polygon fill=\"black\" stroke=\"black\" points=\"168.5,-63.2367 165,-53.2367 161.5,-63.2367 168.5,-63.2367\"/>\n",
       "</g>\n",
       "<!-- 7 -->\n",
       "<g id=\"node8\" class=\"node\"><title>7</title>\n",
       "<polygon fill=\"#fae6d7\" stroke=\"black\" points=\"330,-53 232,-53 232,-0 330,-0 330,-53\"/>\n",
       "<text text-anchor=\"middle\" x=\"281\" y=\"-37.8\" font-family=\"Times New Roman,serif\" font-size=\"14.00\">mse = 0.111</text>\n",
       "<text text-anchor=\"middle\" x=\"281\" y=\"-22.8\" font-family=\"Times New Roman,serif\" font-size=\"14.00\">samples = 303</text>\n",
       "<text text-anchor=\"middle\" x=\"281\" y=\"-7.8\" font-family=\"Times New Roman,serif\" font-size=\"14.00\">value = 12.529</text>\n",
       "</g>\n",
       "<!-- 6&#45;&gt;7 -->\n",
       "<g id=\"edge7\" class=\"edge\"><title>6-&gt;7</title>\n",
       "<path fill=\"none\" stroke=\"black\" d=\"M342.774,-88.9485C333.485,-79.709 323.394,-69.671 314.112,-60.4381\"/>\n",
       "<polygon fill=\"black\" stroke=\"black\" points=\"316.431,-57.8077 306.873,-53.2367 311.494,-62.7705 316.431,-57.8077\"/>\n",
       "</g>\n",
       "<!-- 8 -->\n",
       "<g id=\"node9\" class=\"node\"><title>8</title>\n",
       "<polygon fill=\"#ffffff\" stroke=\"black\" points=\"446,-53 348,-53 348,-0 446,-0 446,-53\"/>\n",
       "<text text-anchor=\"middle\" x=\"397\" y=\"-37.8\" font-family=\"Times New Roman,serif\" font-size=\"14.00\">mse = 0.193</text>\n",
       "<text text-anchor=\"middle\" x=\"397\" y=\"-22.8\" font-family=\"Times New Roman,serif\" font-size=\"14.00\">samples = 30</text>\n",
       "<text text-anchor=\"middle\" x=\"397\" y=\"-7.8\" font-family=\"Times New Roman,serif\" font-size=\"14.00\">value = 12.046</text>\n",
       "</g>\n",
       "<!-- 6&#45;&gt;8 -->\n",
       "<g id=\"edge8\" class=\"edge\"><title>6-&gt;8</title>\n",
       "<path fill=\"none\" stroke=\"black\" d=\"M383.345,-88.9485C385.195,-80.6238 387.189,-71.6509 389.066,-63.2027\"/>\n",
       "<polygon fill=\"black\" stroke=\"black\" points=\"392.528,-63.7579 391.281,-53.2367 385.695,-62.2393 392.528,-63.7579\"/>\n",
       "</g>\n",
       "<!-- 10 -->\n",
       "<g id=\"node11\" class=\"node\"><title>10</title>\n",
       "<polygon fill=\"#f7d6bf\" stroke=\"black\" points=\"683,-157 525,-157 525,-89 683,-89 683,-157\"/>\n",
       "<text text-anchor=\"middle\" x=\"604\" y=\"-141.8\" font-family=\"Times New Roman,serif\" font-size=\"14.00\">Kira Getirisi &lt;= 1531.561</text>\n",
       "<text text-anchor=\"middle\" x=\"604\" y=\"-126.8\" font-family=\"Times New Roman,serif\" font-size=\"14.00\">mse = 0.117</text>\n",
       "<text text-anchor=\"middle\" x=\"604\" y=\"-111.8\" font-family=\"Times New Roman,serif\" font-size=\"14.00\">samples = 563</text>\n",
       "<text text-anchor=\"middle\" x=\"604\" y=\"-96.8\" font-family=\"Times New Roman,serif\" font-size=\"14.00\">value = 12.824</text>\n",
       "</g>\n",
       "<!-- 9&#45;&gt;10 -->\n",
       "<g id=\"edge10\" class=\"edge\"><title>9-&gt;10</title>\n",
       "<path fill=\"none\" stroke=\"black\" d=\"M663.429,-192.884C655.744,-183.976 647.34,-174.235 639.335,-164.957\"/>\n",
       "<polygon fill=\"black\" stroke=\"black\" points=\"641.911,-162.585 632.729,-157.299 636.611,-167.157 641.911,-162.585\"/>\n",
       "</g>\n",
       "<!-- 13 -->\n",
       "<g id=\"node14\" class=\"node\"><title>13</title>\n",
       "<polygon fill=\"#fef8f4\" stroke=\"black\" points=\"859,-157 701,-157 701,-89 859,-89 859,-157\"/>\n",
       "<text text-anchor=\"middle\" x=\"780\" y=\"-141.8\" font-family=\"Times New Roman,serif\" font-size=\"14.00\">Kira Getirisi &lt;= 1755.937</text>\n",
       "<text text-anchor=\"middle\" x=\"780\" y=\"-126.8\" font-family=\"Times New Roman,serif\" font-size=\"14.00\">mse = 0.119</text>\n",
       "<text text-anchor=\"middle\" x=\"780\" y=\"-111.8\" font-family=\"Times New Roman,serif\" font-size=\"14.00\">samples = 18</text>\n",
       "<text text-anchor=\"middle\" x=\"780\" y=\"-96.8\" font-family=\"Times New Roman,serif\" font-size=\"14.00\">value = 12.177</text>\n",
       "</g>\n",
       "<!-- 9&#45;&gt;13 -->\n",
       "<g id=\"edge13\" class=\"edge\"><title>9-&gt;13</title>\n",
       "<path fill=\"none\" stroke=\"black\" d=\"M720.571,-192.884C728.256,-183.976 736.66,-174.235 744.665,-164.957\"/>\n",
       "<polygon fill=\"black\" stroke=\"black\" points=\"747.389,-167.157 751.271,-157.299 742.089,-162.585 747.389,-167.157\"/>\n",
       "</g>\n",
       "<!-- 11 -->\n",
       "<g id=\"node12\" class=\"node\"><title>11</title>\n",
       "<polygon fill=\"#f8dcc7\" stroke=\"black\" points=\"562,-53 464,-53 464,-0 562,-0 562,-53\"/>\n",
       "<text text-anchor=\"middle\" x=\"513\" y=\"-37.8\" font-family=\"Times New Roman,serif\" font-size=\"14.00\">mse = 0.083</text>\n",
       "<text text-anchor=\"middle\" x=\"513\" y=\"-22.8\" font-family=\"Times New Roman,serif\" font-size=\"14.00\">samples = 293</text>\n",
       "<text text-anchor=\"middle\" x=\"513\" y=\"-7.8\" font-family=\"Times New Roman,serif\" font-size=\"14.00\">value = 12.717</text>\n",
       "</g>\n",
       "<!-- 10&#45;&gt;11 -->\n",
       "<g id=\"edge11\" class=\"edge\"><title>10-&gt;11</title>\n",
       "<path fill=\"none\" stroke=\"black\" d=\"M572.173,-88.9485C563.363,-79.8005 553.8,-69.8697 544.982,-60.7126\"/>\n",
       "<polygon fill=\"black\" stroke=\"black\" points=\"547.241,-58.0122 537.783,-53.2367 542.199,-62.8677 547.241,-58.0122\"/>\n",
       "</g>\n",
       "<!-- 12 -->\n",
       "<g id=\"node13\" class=\"node\"><title>12</title>\n",
       "<polygon fill=\"#f5d0b5\" stroke=\"black\" points=\"678,-53 580,-53 580,-0 678,-0 678,-53\"/>\n",
       "<text text-anchor=\"middle\" x=\"629\" y=\"-37.8\" font-family=\"Times New Roman,serif\" font-size=\"14.00\">mse = 0.128</text>\n",
       "<text text-anchor=\"middle\" x=\"629\" y=\"-22.8\" font-family=\"Times New Roman,serif\" font-size=\"14.00\">samples = 270</text>\n",
       "<text text-anchor=\"middle\" x=\"629\" y=\"-7.8\" font-family=\"Times New Roman,serif\" font-size=\"14.00\">value = 12.939</text>\n",
       "</g>\n",
       "<!-- 10&#45;&gt;12 -->\n",
       "<g id=\"edge12\" class=\"edge\"><title>10-&gt;12</title>\n",
       "<path fill=\"none\" stroke=\"black\" d=\"M612.744,-88.9485C614.97,-80.5323 617.372,-71.4536 619.628,-62.9243\"/>\n",
       "<polygon fill=\"black\" stroke=\"black\" points=\"623.017,-63.7993 622.191,-53.2367 616.25,-62.009 623.017,-63.7993\"/>\n",
       "</g>\n",
       "<!-- 14 -->\n",
       "<g id=\"node15\" class=\"node\"><title>14</title>\n",
       "<polygon fill=\"#ffffff\" stroke=\"black\" points=\"794,-53 696,-53 696,-0 794,-0 794,-53\"/>\n",
       "<text text-anchor=\"middle\" x=\"745\" y=\"-37.8\" font-family=\"Times New Roman,serif\" font-size=\"14.00\">mse = 0.071</text>\n",
       "<text text-anchor=\"middle\" x=\"745\" y=\"-22.8\" font-family=\"Times New Roman,serif\" font-size=\"14.00\">samples = 14</text>\n",
       "<text text-anchor=\"middle\" x=\"745\" y=\"-7.8\" font-family=\"Times New Roman,serif\" font-size=\"14.00\">value = 12.051</text>\n",
       "</g>\n",
       "<!-- 13&#45;&gt;14 -->\n",
       "<g id=\"edge14\" class=\"edge\"><title>13-&gt;14</title>\n",
       "<path fill=\"none\" stroke=\"black\" d=\"M767.759,-88.9485C764.608,-80.4408 761.206,-71.2562 758.017,-62.6464\"/>\n",
       "<polygon fill=\"black\" stroke=\"black\" points=\"761.287,-61.3986 754.532,-53.2367 754.723,-63.8298 761.287,-61.3986\"/>\n",
       "</g>\n",
       "<!-- 15 -->\n",
       "<g id=\"node16\" class=\"node\"><title>15</title>\n",
       "<polygon fill=\"#f9e1d0\" stroke=\"black\" points=\"910,-53 812,-53 812,-0 910,-0 910,-53\"/>\n",
       "<text text-anchor=\"middle\" x=\"861\" y=\"-37.8\" font-family=\"Times New Roman,serif\" font-size=\"14.00\">mse = 0.039</text>\n",
       "<text text-anchor=\"middle\" x=\"861\" y=\"-22.8\" font-family=\"Times New Roman,serif\" font-size=\"14.00\">samples = 4</text>\n",
       "<text text-anchor=\"middle\" x=\"861\" y=\"-7.8\" font-family=\"Times New Roman,serif\" font-size=\"14.00\">value = 12.616</text>\n",
       "</g>\n",
       "<!-- 13&#45;&gt;15 -->\n",
       "<g id=\"edge15\" class=\"edge\"><title>13-&gt;15</title>\n",
       "<path fill=\"none\" stroke=\"black\" d=\"M808.33,-88.9485C816.093,-79.892 824.513,-70.0682 832.296,-60.9875\"/>\n",
       "<polygon fill=\"black\" stroke=\"black\" points=\"835.089,-63.1071 838.94,-53.2367 829.775,-58.5515 835.089,-63.1071\"/>\n",
       "</g>\n",
       "<!-- 17 -->\n",
       "<g id=\"node18\" class=\"node\"><title>17</title>\n",
       "<polygon fill=\"#eead7d\" stroke=\"black\" points=\"1229,-261 1071,-261 1071,-193 1229,-193 1229,-261\"/>\n",
       "<text text-anchor=\"middle\" x=\"1150\" y=\"-245.8\" font-family=\"Times New Roman,serif\" font-size=\"14.00\">Kira Getirisi &lt;= 3148.281</text>\n",
       "<text text-anchor=\"middle\" x=\"1150\" y=\"-230.8\" font-family=\"Times New Roman,serif\" font-size=\"14.00\">mse = 0.565</text>\n",
       "<text text-anchor=\"middle\" x=\"1150\" y=\"-215.8\" font-family=\"Times New Roman,serif\" font-size=\"14.00\">samples = 663</text>\n",
       "<text text-anchor=\"middle\" x=\"1150\" y=\"-200.8\" font-family=\"Times New Roman,serif\" font-size=\"14.00\">value = 13.611</text>\n",
       "</g>\n",
       "<!-- 16&#45;&gt;17 -->\n",
       "<g id=\"edge17\" class=\"edge\"><title>16-&gt;17</title>\n",
       "<path fill=\"none\" stroke=\"black\" d=\"M1150,-296.884C1150,-288.778 1150,-279.982 1150,-271.472\"/>\n",
       "<polygon fill=\"black\" stroke=\"black\" points=\"1153.5,-271.299 1150,-261.299 1146.5,-271.299 1153.5,-271.299\"/>\n",
       "</g>\n",
       "<!-- 24 -->\n",
       "<g id=\"node25\" class=\"node\"><title>24</title>\n",
       "<polygon fill=\"#fae7d9\" stroke=\"black\" points=\"1506,-261 1396,-261 1396,-193 1506,-193 1506,-261\"/>\n",
       "<text text-anchor=\"middle\" x=\"1451\" y=\"-245.8\" font-family=\"Times New Roman,serif\" font-size=\"14.00\">Net m² &lt;= 146.5</text>\n",
       "<text text-anchor=\"middle\" x=\"1451\" y=\"-230.8\" font-family=\"Times New Roman,serif\" font-size=\"14.00\">mse = 0.366</text>\n",
       "<text text-anchor=\"middle\" x=\"1451\" y=\"-215.8\" font-family=\"Times New Roman,serif\" font-size=\"14.00\">samples = 130</text>\n",
       "<text text-anchor=\"middle\" x=\"1451\" y=\"-200.8\" font-family=\"Times New Roman,serif\" font-size=\"14.00\">value = 12.5</text>\n",
       "</g>\n",
       "<!-- 16&#45;&gt;24 -->\n",
       "<g id=\"edge24\" class=\"edge\"><title>16-&gt;24</title>\n",
       "<path fill=\"none\" stroke=\"black\" d=\"M1241.54,-298.981C1288.23,-283.158 1343.92,-264.286 1386.14,-249.981\"/>\n",
       "<polygon fill=\"black\" stroke=\"black\" points=\"1387.4,-253.249 1395.74,-246.724 1385.15,-246.619 1387.4,-253.249\"/>\n",
       "</g>\n",
       "<!-- 18 -->\n",
       "<g id=\"node19\" class=\"node\"><title>18</title>\n",
       "<polygon fill=\"#f1bc96\" stroke=\"black\" points=\"1150,-157 1002,-157 1002,-89 1150,-89 1150,-157\"/>\n",
       "<text text-anchor=\"middle\" x=\"1076\" y=\"-141.8\" font-family=\"Times New Roman,serif\" font-size=\"14.00\">Banyo Sayısı_1 &lt;= 0.5</text>\n",
       "<text text-anchor=\"middle\" x=\"1076\" y=\"-126.8\" font-family=\"Times New Roman,serif\" font-size=\"14.00\">mse = 0.189</text>\n",
       "<text text-anchor=\"middle\" x=\"1076\" y=\"-111.8\" font-family=\"Times New Roman,serif\" font-size=\"14.00\">samples = 355</text>\n",
       "<text text-anchor=\"middle\" x=\"1076\" y=\"-96.8\" font-family=\"Times New Roman,serif\" font-size=\"14.00\">value = 13.317</text>\n",
       "</g>\n",
       "<!-- 17&#45;&gt;18 -->\n",
       "<g id=\"edge18\" class=\"edge\"><title>17-&gt;18</title>\n",
       "<path fill=\"none\" stroke=\"black\" d=\"M1125.97,-192.884C1119.64,-184.154 1112.73,-174.625 1106.12,-165.514\"/>\n",
       "<polygon fill=\"black\" stroke=\"black\" points=\"1108.86,-163.338 1100.16,-157.299 1103.2,-167.449 1108.86,-163.338\"/>\n",
       "</g>\n",
       "<!-- 21 -->\n",
       "<g id=\"node22\" class=\"node\"><title>21</title>\n",
       "<polygon fill=\"#ea9b61\" stroke=\"black\" points=\"1282,-157 1168,-157 1168,-89 1282,-89 1282,-157\"/>\n",
       "<text text-anchor=\"middle\" x=\"1225\" y=\"-141.8\" font-family=\"Times New Roman,serif\" font-size=\"14.00\">Brüt m² &lt;= 162.0</text>\n",
       "<text text-anchor=\"middle\" x=\"1225\" y=\"-126.8\" font-family=\"Times New Roman,serif\" font-size=\"14.00\">mse = 0.784</text>\n",
       "<text text-anchor=\"middle\" x=\"1225\" y=\"-111.8\" font-family=\"Times New Roman,serif\" font-size=\"14.00\">samples = 308</text>\n",
       "<text text-anchor=\"middle\" x=\"1225\" y=\"-96.8\" font-family=\"Times New Roman,serif\" font-size=\"14.00\">value = 13.95</text>\n",
       "</g>\n",
       "<!-- 17&#45;&gt;21 -->\n",
       "<g id=\"edge21\" class=\"edge\"><title>17-&gt;21</title>\n",
       "<path fill=\"none\" stroke=\"black\" d=\"M1174.35,-192.884C1180.77,-184.154 1187.78,-174.625 1194.48,-165.514\"/>\n",
       "<polygon fill=\"black\" stroke=\"black\" points=\"1197.41,-167.429 1200.52,-157.299 1191.77,-163.283 1197.41,-167.429\"/>\n",
       "</g>\n",
       "<!-- 19 -->\n",
       "<g id=\"node20\" class=\"node\"><title>19</title>\n",
       "<polygon fill=\"#f0b78e\" stroke=\"black\" points=\"1026,-53 928,-53 928,-0 1026,-0 1026,-53\"/>\n",
       "<text text-anchor=\"middle\" x=\"977\" y=\"-37.8\" font-family=\"Times New Roman,serif\" font-size=\"14.00\">mse = 0.181</text>\n",
       "<text text-anchor=\"middle\" x=\"977\" y=\"-22.8\" font-family=\"Times New Roman,serif\" font-size=\"14.00\">samples = 228</text>\n",
       "<text text-anchor=\"middle\" x=\"977\" y=\"-7.8\" font-family=\"Times New Roman,serif\" font-size=\"14.00\">value = 13.417</text>\n",
       "</g>\n",
       "<!-- 18&#45;&gt;19 -->\n",
       "<g id=\"edge19\" class=\"edge\"><title>18-&gt;19</title>\n",
       "<path fill=\"none\" stroke=\"black\" d=\"M1041.37,-88.9485C1031.6,-79.6175 1020.97,-69.4722 1011.22,-60.1641\"/>\n",
       "<polygon fill=\"black\" stroke=\"black\" points=\"1013.61,-57.6097 1003.96,-53.2367 1008.78,-62.6732 1013.61,-57.6097\"/>\n",
       "</g>\n",
       "<!-- 20 -->\n",
       "<g id=\"node21\" class=\"node\"><title>20</title>\n",
       "<polygon fill=\"#f3c6a5\" stroke=\"black\" points=\"1142,-53 1044,-53 1044,-0 1142,-0 1142,-53\"/>\n",
       "<text text-anchor=\"middle\" x=\"1093\" y=\"-37.8\" font-family=\"Times New Roman,serif\" font-size=\"14.00\">mse = 0.153</text>\n",
       "<text text-anchor=\"middle\" x=\"1093\" y=\"-22.8\" font-family=\"Times New Roman,serif\" font-size=\"14.00\">samples = 127</text>\n",
       "<text text-anchor=\"middle\" x=\"1093\" y=\"-7.8\" font-family=\"Times New Roman,serif\" font-size=\"14.00\">value = 13.138</text>\n",
       "</g>\n",
       "<!-- 18&#45;&gt;20 -->\n",
       "<g id=\"edge20\" class=\"edge\"><title>18-&gt;20</title>\n",
       "<path fill=\"none\" stroke=\"black\" d=\"M1081.95,-88.9485C1083.44,-80.6238 1085.06,-71.6509 1086.58,-63.2027\"/>\n",
       "<polygon fill=\"black\" stroke=\"black\" points=\"1090.04,-63.6984 1088.37,-53.2367 1083.15,-62.459 1090.04,-63.6984\"/>\n",
       "</g>\n",
       "<!-- 22 -->\n",
       "<g id=\"node23\" class=\"node\"><title>22</title>\n",
       "<polygon fill=\"#efb286\" stroke=\"black\" points=\"1258,-53 1160,-53 1160,-0 1258,-0 1258,-53\"/>\n",
       "<text text-anchor=\"middle\" x=\"1209\" y=\"-37.8\" font-family=\"Times New Roman,serif\" font-size=\"14.00\">mse = 0.491</text>\n",
       "<text text-anchor=\"middle\" x=\"1209\" y=\"-22.8\" font-family=\"Times New Roman,serif\" font-size=\"14.00\">samples = 161</text>\n",
       "<text text-anchor=\"middle\" x=\"1209\" y=\"-7.8\" font-family=\"Times New Roman,serif\" font-size=\"14.00\">value = 13.504</text>\n",
       "</g>\n",
       "<!-- 21&#45;&gt;22 -->\n",
       "<g id=\"edge22\" class=\"edge\"><title>21-&gt;22</title>\n",
       "<path fill=\"none\" stroke=\"black\" d=\"M1219.4,-88.9485C1217.99,-80.6238 1216.48,-71.6509 1215.04,-63.2027\"/>\n",
       "<polygon fill=\"black\" stroke=\"black\" points=\"1218.48,-62.5121 1213.36,-53.2367 1211.58,-63.6807 1218.48,-62.5121\"/>\n",
       "</g>\n",
       "<!-- 23 -->\n",
       "<g id=\"node24\" class=\"node\"><title>23</title>\n",
       "<polygon fill=\"#e58139\" stroke=\"black\" points=\"1374,-53 1276,-53 1276,-0 1374,-0 1374,-53\"/>\n",
       "<text text-anchor=\"middle\" x=\"1325\" y=\"-37.8\" font-family=\"Times New Roman,serif\" font-size=\"14.00\">mse = 0.648</text>\n",
       "<text text-anchor=\"middle\" x=\"1325\" y=\"-22.8\" font-family=\"Times New Roman,serif\" font-size=\"14.00\">samples = 147</text>\n",
       "<text text-anchor=\"middle\" x=\"1325\" y=\"-7.8\" font-family=\"Times New Roman,serif\" font-size=\"14.00\">value = 14.439</text>\n",
       "</g>\n",
       "<!-- 21&#45;&gt;23 -->\n",
       "<g id=\"edge23\" class=\"edge\"><title>21-&gt;23</title>\n",
       "<path fill=\"none\" stroke=\"black\" d=\"M1259.98,-88.9485C1269.85,-79.6175 1280.59,-69.4722 1290.43,-60.1641\"/>\n",
       "<polygon fill=\"black\" stroke=\"black\" points=\"1292.9,-62.649 1297.77,-53.2367 1288.09,-57.5613 1292.9,-62.649\"/>\n",
       "</g>\n",
       "<!-- 25 -->\n",
       "<g id=\"node26\" class=\"node\"><title>25</title>\n",
       "<polygon fill=\"#fcf2ea\" stroke=\"black\" points=\"1530,-157 1372,-157 1372,-89 1530,-89 1530,-157\"/>\n",
       "<text text-anchor=\"middle\" x=\"1451\" y=\"-141.8\" font-family=\"Times New Roman,serif\" font-size=\"14.00\">Kira Getirisi &lt;= 66136.75</text>\n",
       "<text text-anchor=\"middle\" x=\"1451\" y=\"-126.8\" font-family=\"Times New Roman,serif\" font-size=\"14.00\">mse = 0.196</text>\n",
       "<text text-anchor=\"middle\" x=\"1451\" y=\"-111.8\" font-family=\"Times New Roman,serif\" font-size=\"14.00\">samples = 104</text>\n",
       "<text text-anchor=\"middle\" x=\"1451\" y=\"-96.8\" font-family=\"Times New Roman,serif\" font-size=\"14.00\">value = 12.299</text>\n",
       "</g>\n",
       "<!-- 24&#45;&gt;25 -->\n",
       "<g id=\"edge25\" class=\"edge\"><title>24-&gt;25</title>\n",
       "<path fill=\"none\" stroke=\"black\" d=\"M1451,-192.884C1451,-184.778 1451,-175.982 1451,-167.472\"/>\n",
       "<polygon fill=\"black\" stroke=\"black\" points=\"1454.5,-167.299 1451,-157.299 1447.5,-167.299 1454.5,-167.299\"/>\n",
       "</g>\n",
       "<!-- 28 -->\n",
       "<g id=\"node29\" class=\"node\"><title>28</title>\n",
       "<polygon fill=\"#f1bd97\" stroke=\"black\" points=\"1788,-157 1558,-157 1558,-89 1788,-89 1788,-157\"/>\n",
       "<text text-anchor=\"middle\" x=\"1673\" y=\"-141.8\" font-family=\"Times New Roman,serif\" font-size=\"14.00\">Isıtma Tipi_Kombi (Doğalgaz) &lt;= 0.5</text>\n",
       "<text text-anchor=\"middle\" x=\"1673\" y=\"-126.8\" font-family=\"Times New Roman,serif\" font-size=\"14.00\">mse = 0.237</text>\n",
       "<text text-anchor=\"middle\" x=\"1673\" y=\"-111.8\" font-family=\"Times New Roman,serif\" font-size=\"14.00\">samples = 26</text>\n",
       "<text text-anchor=\"middle\" x=\"1673\" y=\"-96.8\" font-family=\"Times New Roman,serif\" font-size=\"14.00\">value = 13.304</text>\n",
       "</g>\n",
       "<!-- 24&#45;&gt;28 -->\n",
       "<g id=\"edge28\" class=\"edge\"><title>24-&gt;28</title>\n",
       "<path fill=\"none\" stroke=\"black\" d=\"M1506.16,-200.655C1532,-188.783 1563.3,-174.403 1591.78,-161.319\"/>\n",
       "<polygon fill=\"black\" stroke=\"black\" points=\"1593.29,-164.477 1600.91,-157.122 1590.36,-158.116 1593.29,-164.477\"/>\n",
       "</g>\n",
       "<!-- 26 -->\n",
       "<g id=\"node27\" class=\"node\"><title>26</title>\n",
       "<polygon fill=\"#f4c8a9\" stroke=\"black\" points=\"1490,-53 1392,-53 1392,-0 1490,-0 1490,-53\"/>\n",
       "<text text-anchor=\"middle\" x=\"1441\" y=\"-37.8\" font-family=\"Times New Roman,serif\" font-size=\"14.00\">mse = 0.095</text>\n",
       "<text text-anchor=\"middle\" x=\"1441\" y=\"-22.8\" font-family=\"Times New Roman,serif\" font-size=\"14.00\">samples = 8</text>\n",
       "<text text-anchor=\"middle\" x=\"1441\" y=\"-7.8\" font-family=\"Times New Roman,serif\" font-size=\"14.00\">value = 13.087</text>\n",
       "</g>\n",
       "<!-- 25&#45;&gt;26 -->\n",
       "<g id=\"edge26\" class=\"edge\"><title>25-&gt;26</title>\n",
       "<path fill=\"none\" stroke=\"black\" d=\"M1447.5,-88.9485C1446.62,-80.6238 1445.67,-71.6509 1444.78,-63.2027\"/>\n",
       "<polygon fill=\"black\" stroke=\"black\" points=\"1448.26,-62.8128 1443.72,-53.2367 1441.3,-63.5495 1448.26,-62.8128\"/>\n",
       "</g>\n",
       "<!-- 27 -->\n",
       "<g id=\"node28\" class=\"node\"><title>27</title>\n",
       "<polygon fill=\"#fdf5ef\" stroke=\"black\" points=\"1606,-53 1508,-53 1508,-0 1606,-0 1606,-53\"/>\n",
       "<text text-anchor=\"middle\" x=\"1557\" y=\"-37.8\" font-family=\"Times New Roman,serif\" font-size=\"14.00\">mse = 0.149</text>\n",
       "<text text-anchor=\"middle\" x=\"1557\" y=\"-22.8\" font-family=\"Times New Roman,serif\" font-size=\"14.00\">samples = 96</text>\n",
       "<text text-anchor=\"middle\" x=\"1557\" y=\"-7.8\" font-family=\"Times New Roman,serif\" font-size=\"14.00\">value = 12.234</text>\n",
       "</g>\n",
       "<!-- 25&#45;&gt;27 -->\n",
       "<g id=\"edge27\" class=\"edge\"><title>25-&gt;27</title>\n",
       "<path fill=\"none\" stroke=\"black\" d=\"M1488.07,-88.9485C1498.54,-79.6175 1509.92,-69.4722 1520.36,-60.1641\"/>\n",
       "<polygon fill=\"black\" stroke=\"black\" points=\"1523,-62.5038 1528.13,-53.2367 1518.34,-57.2788 1523,-62.5038\"/>\n",
       "</g>\n",
       "<!-- 29 -->\n",
       "<g id=\"node30\" class=\"node\"><title>29</title>\n",
       "<polygon fill=\"#eca571\" stroke=\"black\" points=\"1722,-53 1624,-53 1624,-0 1722,-0 1722,-53\"/>\n",
       "<text text-anchor=\"middle\" x=\"1673\" y=\"-37.8\" font-family=\"Times New Roman,serif\" font-size=\"14.00\">mse = 0.051</text>\n",
       "<text text-anchor=\"middle\" x=\"1673\" y=\"-22.8\" font-family=\"Times New Roman,serif\" font-size=\"14.00\">samples = 7</text>\n",
       "<text text-anchor=\"middle\" x=\"1673\" y=\"-7.8\" font-family=\"Times New Roman,serif\" font-size=\"14.00\">value = 13.758</text>\n",
       "</g>\n",
       "<!-- 28&#45;&gt;29 -->\n",
       "<g id=\"edge29\" class=\"edge\"><title>28-&gt;29</title>\n",
       "<path fill=\"none\" stroke=\"black\" d=\"M1673,-88.9485C1673,-80.7153 1673,-71.848 1673,-63.4814\"/>\n",
       "<polygon fill=\"black\" stroke=\"black\" points=\"1676.5,-63.2367 1673,-53.2367 1669.5,-63.2367 1676.5,-63.2367\"/>\n",
       "</g>\n",
       "<!-- 30 -->\n",
       "<g id=\"node31\" class=\"node\"><title>30</title>\n",
       "<polygon fill=\"#f3c6a5\" stroke=\"black\" points=\"1838,-53 1740,-53 1740,-0 1838,-0 1838,-53\"/>\n",
       "<text text-anchor=\"middle\" x=\"1789\" y=\"-37.8\" font-family=\"Times New Roman,serif\" font-size=\"14.00\">mse = 0.202</text>\n",
       "<text text-anchor=\"middle\" x=\"1789\" y=\"-22.8\" font-family=\"Times New Roman,serif\" font-size=\"14.00\">samples = 19</text>\n",
       "<text text-anchor=\"middle\" x=\"1789\" y=\"-7.8\" font-family=\"Times New Roman,serif\" font-size=\"14.00\">value = 13.136</text>\n",
       "</g>\n",
       "<!-- 28&#45;&gt;30 -->\n",
       "<g id=\"edge30\" class=\"edge\"><title>28-&gt;30</title>\n",
       "<path fill=\"none\" stroke=\"black\" d=\"M1713.57,-88.9485C1725.25,-79.4346 1737.97,-69.074 1749.58,-59.6175\"/>\n",
       "<polygon fill=\"black\" stroke=\"black\" points=\"1751.87,-62.2663 1757.41,-53.2367 1747.44,-56.8392 1751.87,-62.2663\"/>\n",
       "</g>\n",
       "</g>\n",
       "</svg>"
      ],
      "text/plain": [
       "<IPython.core.display.SVG object>"
      ]
     },
     "metadata": {},
     "output_type": "display_data"
    }
   ],
   "source": [
    "from graphviz import Source\n",
    "from sklearn import tree\n",
    "from IPython.display import SVG\n",
    "\n",
    "graph = Source(tree.export_graphviz(dtr ,feature_names = labels, max_depth = 4, filled = True))\n",
    "display(SVG(graph.pipe(format='svg')))"
   ]
  },
  {
   "cell_type": "code",
   "execution_count": 123,
   "metadata": {},
   "outputs": [],
   "source": [
    "from sklearn.tree import _tree\n",
    "\n",
    "def tree_to_code(tree, feature_names):\n",
    "    tree_ = tree.tree_\n",
    "    feature_name = [\n",
    "        feature_names[i] if i != _tree.TREE_UNDEFINED else \"undefined!\"\n",
    "        for i in tree_.feature\n",
    "    ]\n",
    "    feature_names = [f.replace(\" \", \"_\")[:-5] for f in feature_names]\n",
    "    print(\"def predict({}):\".format(\", \".join(feature_names)))\n",
    "\n",
    "    def recurse(node, depth):\n",
    "        indent = \"    \" * depth\n",
    "        if tree_.feature[node] != _tree.TREE_UNDEFINED:\n",
    "            name = feature_name[node]\n",
    "            threshold = tree_.threshold[node]\n",
    "            print(\"{}if {} <= {}:\".format(indent, name, np.round(threshold,2)))\n",
    "            recurse(tree_.children_left[node], depth + 1)\n",
    "            print(\"{}else:  # if {} > {}\".format(indent, name, np.round(threshold,2)))\n",
    "            recurse(tree_.children_right[node], depth + 1)\n",
    "        else:\n",
    "            print(\"{}return {}\".format(indent, tree_.value[node]))\n",
    "\n",
    "    recurse(0, 1)"
   ]
  },
  {
   "cell_type": "code",
   "execution_count": 124,
   "metadata": {},
   "outputs": [],
   "source": [
    "def get_rules(tree, feature_names, class_names):\n",
    "    tree_ = tree.tree_\n",
    "    feature_name = [\n",
    "        feature_names[i] if i != _tree.TREE_UNDEFINED else \"undefined!\"\n",
    "        for i in tree_.feature\n",
    "    ]\n",
    "\n",
    "    paths = []\n",
    "    path = []\n",
    "    \n",
    "    def recurse(node, path, paths):\n",
    "        \n",
    "        if tree_.feature[node] != _tree.TREE_UNDEFINED:\n",
    "            name = feature_name[node]\n",
    "            threshold = tree_.threshold[node]\n",
    "            p1, p2 = list(path), list(path)\n",
    "            p1 += [f\"({name} <= {np.round(threshold, 3)})\"]\n",
    "            recurse(tree_.children_left[node], p1, paths)\n",
    "            p2 += [f\"({name} > {np.round(threshold, 3)})\"]\n",
    "            recurse(tree_.children_right[node], p2, paths)\n",
    "        else:\n",
    "            path += [(tree_.value[node], tree_.n_node_samples[node])]\n",
    "            paths += [path]\n",
    "            \n",
    "    recurse(0, path, paths)\n",
    "\n",
    "    # sort by samples count\n",
    "    samples_count = [p[-1][1] for p in paths]\n",
    "    ii = list(np.argsort(samples_count))\n",
    "    paths = [paths[i] for i in reversed(ii)]\n",
    "    \n",
    "    rules = []\n",
    "    for path in paths:\n",
    "        rule = \"if \"\n",
    "        \n",
    "        for p in path[:-1]:\n",
    "            if rule != \"if \":\n",
    "                rule += \" and \"\n",
    "            rule += str(p)\n",
    "        rule += \" then \"\n",
    "        if class_names is None:\n",
    "            rule += \"response: \"+str(np.round(path[-1][0][0][0],3))\n",
    "        else:\n",
    "            classes = path[-1][0][0]\n",
    "            l = np.argmax(classes)\n",
    "            rule += f\"class: {class_names[l]} (proba: {np.round(100.0*classes[l]/np.sum(classes),2)}%)\"\n",
    "        rule += f\" | based on {path[-1][1]:,} samples\"\n",
    "        rules += [rule]\n",
    "        \n",
    "    return rules"
   ]
  },
  {
   "cell_type": "code",
   "execution_count": 125,
   "metadata": {},
   "outputs": [],
   "source": [
    "rules = get_rules(dtr, x_train.columns, None)"
   ]
  },
  {
   "cell_type": "code",
   "execution_count": 126,
   "metadata": {},
   "outputs": [
    {
     "name": "stdout",
     "output_type": "stream",
     "text": [
      "if (Kira Getirisi <= 1974.021) and (Kira Getirisi <= 1297.468) and (Kira Getirisi > 1043.16) and (Location2_Esenyurt <= 0.5) then response: 12.529 | based on 303 samples\n",
      "if (Kira Getirisi <= 1974.021) and (Kira Getirisi > 1297.468) and (Location1_Mustafa Kemal Paşa <= 0.5) and (Kira Getirisi <= 1531.561) then response: 12.717 | based on 293 samples\n",
      "if (Kira Getirisi <= 1974.021) and (Kira Getirisi > 1297.468) and (Location1_Mustafa Kemal Paşa <= 0.5) and (Kira Getirisi > 1531.561) then response: 12.939 | based on 270 samples\n",
      "if (Kira Getirisi > 1974.021) and (Location2_Beylikdüzü <= 0.5) and (Kira Getirisi <= 3148.281) and (Banyo Sayısı_1 <= 0.5) then response: 13.417 | based on 228 samples\n",
      "if (Kira Getirisi <= 1974.021) and (Kira Getirisi <= 1297.468) and (Kira Getirisi <= 1043.16) and (Konut Şekli_Ara Kat > 0.5) then response: 12.355 | based on 199 samples\n",
      "if (Kira Getirisi <= 1974.021) and (Kira Getirisi <= 1297.468) and (Kira Getirisi <= 1043.16) and (Konut Şekli_Ara Kat <= 0.5) then response: 12.145 | based on 191 samples\n",
      "if (Kira Getirisi > 1974.021) and (Location2_Beylikdüzü <= 0.5) and (Kira Getirisi > 3148.281) and (Brüt m² <= 162.0) then response: 13.504 | based on 161 samples\n",
      "if (Kira Getirisi > 1974.021) and (Location2_Beylikdüzü <= 0.5) and (Kira Getirisi > 3148.281) and (Brüt m² > 162.0) then response: 14.439 | based on 147 samples\n",
      "if (Kira Getirisi > 1974.021) and (Location2_Beylikdüzü <= 0.5) and (Kira Getirisi <= 3148.281) and (Banyo Sayısı_1 > 0.5) then response: 13.138 | based on 127 samples\n",
      "if (Kira Getirisi > 1974.021) and (Location2_Beylikdüzü > 0.5) and (Net m² <= 146.5) and (Kira Getirisi > 66136.75) then response: 12.234 | based on 96 samples\n",
      "if (Kira Getirisi <= 1974.021) and (Kira Getirisi <= 1297.468) and (Kira Getirisi > 1043.16) and (Location2_Esenyurt > 0.5) then response: 12.046 | based on 30 samples\n",
      "if (Kira Getirisi > 1974.021) and (Location2_Beylikdüzü > 0.5) and (Net m² > 146.5) and (Isıtma Tipi_Kombi (Doğalgaz) > 0.5) then response: 13.136 | based on 19 samples\n",
      "if (Kira Getirisi <= 1974.021) and (Kira Getirisi > 1297.468) and (Location1_Mustafa Kemal Paşa > 0.5) and (Kira Getirisi <= 1755.937) then response: 12.051 | based on 14 samples\n",
      "if (Kira Getirisi > 1974.021) and (Location2_Beylikdüzü > 0.5) and (Net m² <= 146.5) and (Kira Getirisi <= 66136.75) then response: 13.087 | based on 8 samples\n",
      "if (Kira Getirisi > 1974.021) and (Location2_Beylikdüzü > 0.5) and (Net m² > 146.5) and (Isıtma Tipi_Kombi (Doğalgaz) <= 0.5) then response: 13.758 | based on 7 samples\n",
      "if (Kira Getirisi <= 1974.021) and (Kira Getirisi > 1297.468) and (Location1_Mustafa Kemal Paşa > 0.5) and (Kira Getirisi > 1755.937) then response: 12.616 | based on 4 samples\n"
     ]
    }
   ],
   "source": [
    "for r in rules:\n",
    "    print(r)"
   ]
  },
  {
   "cell_type": "code",
   "execution_count": null,
   "metadata": {},
   "outputs": [],
   "source": []
  }
 ],
 "metadata": {
  "kernelspec": {
   "display_name": "Python 3",
   "language": "python",
   "name": "python3"
  },
  "language_info": {
   "codemirror_mode": {
    "name": "ipython",
    "version": 3
   },
   "file_extension": ".py",
   "mimetype": "text/x-python",
   "name": "python",
   "nbconvert_exporter": "python",
   "pygments_lexer": "ipython3",
   "version": "3.8.5"
  }
 },
 "nbformat": 4,
 "nbformat_minor": 4
}
