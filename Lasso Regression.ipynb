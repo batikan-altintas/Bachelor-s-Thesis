{
 "cells": [
  {
   "cell_type": "code",
   "execution_count": 1,
   "metadata": {},
   "outputs": [],
   "source": [
    "import numpy as np"
   ]
  },
  {
   "cell_type": "code",
   "execution_count": 2,
   "metadata": {},
   "outputs": [],
   "source": [
    "import matplotlib.pyplot as plt"
   ]
  },
  {
   "cell_type": "code",
   "execution_count": 3,
   "metadata": {},
   "outputs": [],
   "source": [
    "import pandas as pd"
   ]
  },
  {
   "cell_type": "code",
   "execution_count": 4,
   "metadata": {},
   "outputs": [],
   "source": [
    "df = pd.read_excel(r'C:\\Users\\pc\\Desktop\\Bitirme Tezi\\reduced house price data.xlsx')"
   ]
  },
  {
   "cell_type": "code",
   "execution_count": 5,
   "metadata": {},
   "outputs": [
    {
     "data": {
      "text/plain": [
       "(3000, 24)"
      ]
     },
     "execution_count": 5,
     "metadata": {},
     "output_type": "execute_result"
    }
   ],
   "source": [
    "df.shape"
   ]
  },
  {
   "cell_type": "code",
   "execution_count": 6,
   "metadata": {},
   "outputs": [
    {
     "data": {
      "text/plain": [
       "<bound method NDFrame.describe of          ID  Brüt m²  Net m² Oda Sayısı Banyo Sayısı Binadaki Kat Sayısı  \\\n",
       "0         4      100    85.0        2+1            1                 NaN   \n",
       "1        24      100    90.0        2+1            2                   4   \n",
       "2        26       80    75.0        1+1            1                   3   \n",
       "3        46       75    65.0        1+1            1                   4   \n",
       "4        54      187   150.0        3+1            2         10-20 arası   \n",
       "...     ...      ...     ...        ...          ...                 ...   \n",
       "2995  31285      160   159.0        3+1            2                   4   \n",
       "2996  31316      120   110.0        2+1            1                   3   \n",
       "2997  31320      100    85.0        2+1            1                   3   \n",
       "2998  31333       90    80.0        2+1            1                   4   \n",
       "2999  31349       98    92.0        2+1            1                   3   \n",
       "\n",
       "     Bulunduğu Kat    Bina Yaşı       Isıtma Tipi Mobilya Durumu  ...  \\\n",
       "0              NaN          NaN               NaN            NaN  ...   \n",
       "1                2  16-20 arası  Kombi (Doğalgaz)        Eşyasız  ...   \n",
       "2                3  21-25 arası  Kombi (Doğalgaz)        Eşyasız  ...   \n",
       "3     Yüksek Giriş   6-10 arası  Kombi (Doğalgaz)        Eşyasız  ...   \n",
       "4                3            2             Klima        Eşyasız  ...   \n",
       "...            ...          ...               ...            ...  ...   \n",
       "2995             1   6-10 arası  Kombi (Doğalgaz)        Eşyasız  ...   \n",
       "2996             2          NaN  Kombi (Doğalgaz)            NaN  ...   \n",
       "2997    Giriş Katı  26-30 arası               NaN        Eşyasız  ...   \n",
       "2998    Giriş Katı            0  Kombi (Doğalgaz)        Eşyasız  ...   \n",
       "2999  Yüksek Giriş            0             Klima        Eşyasız  ...   \n",
       "\n",
       "        Kimden Krediye Uygun    Price  Location Lat Location Lon  \\\n",
       "0          NaN         Hayır   350000     40.986524    28.901005   \n",
       "1          NaN          Evet   330000     40.988460    28.894923   \n",
       "2     Danışman         Hayır   230000     40.992217    28.900588   \n",
       "3     Danışman          Evet   268000     40.994774    28.897234   \n",
       "4          NaN          Evet  2000000     40.991810    28.893631   \n",
       "...        ...           ...      ...           ...          ...   \n",
       "2995       NaN          Evet  2300000     41.003304    28.882413   \n",
       "2996       NaN          Evet  1100000     40.996824    28.865574   \n",
       "2997  Danışman          Evet   370000     41.001634    28.860684   \n",
       "2998  Danışman          Evet   595000     41.006145    28.863885   \n",
       "2999  Danışman          Evet   950000     40.997227    28.865708   \n",
       "\n",
       "         Location1     Location2  Location3  Aidat Takasa Uygun  \n",
       "0         Nuripaşa   Zeytinburnu   İstanbul    NaN          NaN  \n",
       "1            Sümer   Zeytinburnu   İstanbul    0.0          NaN  \n",
       "2        Yeşiltepe   Zeytinburnu   İstanbul   25.0          NaN  \n",
       "3       Veliefendi   Zeytinburnu   İstanbul    NaN          NaN  \n",
       "4            Sümer   Zeytinburnu   İstanbul  550.0          NaN  \n",
       "...            ...           ...        ...    ...          ...  \n",
       "2995  Bahçelievler  Bahçelievler   İstanbul    0.0          NaN  \n",
       "2996  Bahçelievler  Bahçelievler   İstanbul    0.0          NaN  \n",
       "2997  Bahçelievler  Bahçelievler   İstanbul    NaN          NaN  \n",
       "2998  Bahçelievler  Bahçelievler   İstanbul    NaN          NaN  \n",
       "2999  Bahçelievler  Bahçelievler   İstanbul    0.0          NaN  \n",
       "\n",
       "[3000 rows x 24 columns]>"
      ]
     },
     "execution_count": 6,
     "metadata": {},
     "output_type": "execute_result"
    }
   ],
   "source": [
    "df.describe"
   ]
  },
  {
   "cell_type": "code",
   "execution_count": null,
   "metadata": {},
   "outputs": [],
   "source": []
  },
  {
   "cell_type": "code",
   "execution_count": 7,
   "metadata": {},
   "outputs": [
    {
     "data": {
      "text/plain": [
       "(3000, 24)"
      ]
     },
     "execution_count": 7,
     "metadata": {},
     "output_type": "execute_result"
    }
   ],
   "source": [
    "df.shape"
   ]
  },
  {
   "cell_type": "code",
   "execution_count": 8,
   "metadata": {},
   "outputs": [],
   "source": [
    "df[['Brüt m²', 'Net m²']] = df[['Brüt m²', 'Net m²']].interpolate(method=\"linear\")"
   ]
  },
  {
   "cell_type": "code",
   "execution_count": 9,
   "metadata": {},
   "outputs": [
    {
     "data": {
      "text/plain": [
       "ID                        0\n",
       "Brüt m²                   0\n",
       "Net m²                    0\n",
       "Oda Sayısı                0\n",
       "Banyo Sayısı              0\n",
       "Binadaki Kat Sayısı     123\n",
       "Bulunduğu Kat           112\n",
       "Bina Yaşı               124\n",
       "Isıtma Tipi             139\n",
       "Mobilya Durumu          288\n",
       "Kullanım Durumu         144\n",
       "Yapının Durumu         1118\n",
       "Konut Şekli             608\n",
       "Kira Getirisi           738\n",
       "Kimden                 1241\n",
       "Krediye Uygun             0\n",
       "Price                     0\n",
       "Location Lat             23\n",
       "Location Lon             23\n",
       "Location1                 0\n",
       "Location2                 0\n",
       "Location3                 0\n",
       "Aidat                   967\n",
       "Takasa Uygun           2205\n",
       "dtype: int64"
      ]
     },
     "execution_count": 9,
     "metadata": {},
     "output_type": "execute_result"
    }
   ],
   "source": [
    "df.isnull().sum()"
   ]
  },
  {
   "cell_type": "code",
   "execution_count": 10,
   "metadata": {},
   "outputs": [],
   "source": [
    "df = df[df['Location Lat'].notna()]"
   ]
  },
  {
   "cell_type": "code",
   "execution_count": 11,
   "metadata": {},
   "outputs": [
    {
     "data": {
      "text/plain": [
       "ID                        0\n",
       "Brüt m²                   0\n",
       "Net m²                    0\n",
       "Oda Sayısı                0\n",
       "Banyo Sayısı              0\n",
       "Binadaki Kat Sayısı     123\n",
       "Bulunduğu Kat           111\n",
       "Bina Yaşı               124\n",
       "Isıtma Tipi             137\n",
       "Mobilya Durumu          282\n",
       "Kullanım Durumu         143\n",
       "Yapının Durumu         1116\n",
       "Konut Şekli             604\n",
       "Kira Getirisi           720\n",
       "Kimden                 1231\n",
       "Krediye Uygun             0\n",
       "Price                     0\n",
       "Location Lat              0\n",
       "Location Lon              0\n",
       "Location1                 0\n",
       "Location2                 0\n",
       "Location3                 0\n",
       "Aidat                   948\n",
       "Takasa Uygun           2193\n",
       "dtype: int64"
      ]
     },
     "execution_count": 11,
     "metadata": {},
     "output_type": "execute_result"
    }
   ],
   "source": [
    "df.isnull().sum()"
   ]
  },
  {
   "cell_type": "code",
   "execution_count": 12,
   "metadata": {},
   "outputs": [
    {
     "data": {
      "text/plain": [
       "(2966, 24)"
      ]
     },
     "execution_count": 12,
     "metadata": {},
     "output_type": "execute_result"
    }
   ],
   "source": [
    "df = df[(df['Net m²'] > 10) & (df['Net m²'] < 1000) ]\n",
    "df.shape"
   ]
  },
  {
   "cell_type": "code",
   "execution_count": 13,
   "metadata": {},
   "outputs": [
    {
     "data": {
      "text/plain": [
       "Banyo Sayısı\n",
       "0             2.987600e+06\n",
       "1             3.518333e+05\n",
       "2             7.919997e+05\n",
       "3             2.359178e+06\n",
       "4             3.667500e+06\n",
       "5             4.131667e+06\n",
       "6 ve üzeri    4.700000e+05\n",
       "Name: Price, dtype: float64"
      ]
     },
     "execution_count": 13,
     "metadata": {},
     "output_type": "execute_result"
    }
   ],
   "source": [
    "df.groupby(\"Banyo Sayısı\")[\"Price\"].mean()"
   ]
  },
  {
   "cell_type": "code",
   "execution_count": 14,
   "metadata": {},
   "outputs": [],
   "source": [
    "df = df[df[\"Banyo Sayısı\"] != \"6 ve üzeri\"]"
   ]
  },
  {
   "cell_type": "code",
   "execution_count": 15,
   "metadata": {},
   "outputs": [],
   "source": [
    "df2 = df\n",
    "df2 = df2[df2['Binadaki Kat Sayısı'].notna()]"
   ]
  },
  {
   "cell_type": "code",
   "execution_count": 16,
   "metadata": {},
   "outputs": [],
   "source": [
    "df2 = df2[df2['Bulunduğu Kat'].notna()]"
   ]
  },
  {
   "cell_type": "code",
   "execution_count": 17,
   "metadata": {},
   "outputs": [
    {
     "data": {
      "text/plain": [
       "Binadaki Kat Sayısı  Isıtma Tipi                    \n",
       "1                    Kombi (Doğalgaz)                    5\n",
       "10                   Kombi (Doğalgaz)                   44\n",
       "                     Merkezi Sistem (Isı Payı Ölçer)    24\n",
       "                     Klima                              13\n",
       "                     Merkezi Sistem                      5\n",
       "                                                        ..\n",
       "9                    Merkezi Sistem (Isı Payı Ölçer)    23\n",
       "                     Klima                               9\n",
       "                     Merkezi Sistem                      3\n",
       "                     Yerden Isıtma                       3\n",
       "                     Kalorifer (Doğalgaz)                1\n",
       "Name: Isıtma Tipi, Length: 76, dtype: int64"
      ]
     },
     "execution_count": 17,
     "metadata": {},
     "output_type": "execute_result"
    }
   ],
   "source": [
    "df2['Isıtma Tipi'] = df2.groupby([\"Location2\",'Binadaki Kat Sayısı'])[\"Isıtma Tipi\"].transform(lambda x:x.fillna(x.value_counts().idxmax()))\n",
    "df2.groupby(\"Binadaki Kat Sayısı\")[\"Isıtma Tipi\"].value_counts()"
   ]
  },
  {
   "cell_type": "code",
   "execution_count": 18,
   "metadata": {},
   "outputs": [
    {
     "data": {
      "text/plain": [
       "ID                        0\n",
       "Brüt m²                   0\n",
       "Net m²                    0\n",
       "Oda Sayısı                0\n",
       "Banyo Sayısı              0\n",
       "Binadaki Kat Sayısı       0\n",
       "Bulunduğu Kat             0\n",
       "Bina Yaşı                37\n",
       "Isıtma Tipi               0\n",
       "Mobilya Durumu          187\n",
       "Kullanım Durumu          50\n",
       "Yapının Durumu         1017\n",
       "Konut Şekli             498\n",
       "Kira Getirisi           622\n",
       "Kimden                 1122\n",
       "Krediye Uygun             0\n",
       "Price                     0\n",
       "Location Lat              0\n",
       "Location Lon              0\n",
       "Location1                 0\n",
       "Location2                 0\n",
       "Location3                 0\n",
       "Aidat                   841\n",
       "Takasa Uygun           2060\n",
       "dtype: int64"
      ]
     },
     "execution_count": 18,
     "metadata": {},
     "output_type": "execute_result"
    }
   ],
   "source": [
    "df2.isnull().sum()"
   ]
  },
  {
   "cell_type": "code",
   "execution_count": 19,
   "metadata": {},
   "outputs": [],
   "source": [
    "df2.groupby([\"Location2\",\"Isıtma Tipi\"])[\"Bina Yaşı\"].value_counts()\n",
    "df2['Bina Yaşı'] = df2.groupby([\"Binadaki Kat Sayısı\",\"Isıtma Tipi\"])[\"Bina Yaşı\"].transform(lambda x:x.fillna(x.value_counts().idxmax()))"
   ]
  },
  {
   "cell_type": "code",
   "execution_count": 20,
   "metadata": {},
   "outputs": [
    {
     "data": {
      "text/plain": [
       "ID                        0\n",
       "Brüt m²                   0\n",
       "Net m²                    0\n",
       "Oda Sayısı                0\n",
       "Banyo Sayısı              0\n",
       "Binadaki Kat Sayısı       0\n",
       "Bulunduğu Kat             0\n",
       "Bina Yaşı                 0\n",
       "Isıtma Tipi               0\n",
       "Mobilya Durumu          187\n",
       "Kullanım Durumu          50\n",
       "Yapının Durumu         1017\n",
       "Konut Şekli             498\n",
       "Kira Getirisi           622\n",
       "Kimden                 1122\n",
       "Krediye Uygun             0\n",
       "Price                     0\n",
       "Location Lat              0\n",
       "Location Lon              0\n",
       "Location1                 0\n",
       "Location2                 0\n",
       "Location3                 0\n",
       "Aidat                   841\n",
       "Takasa Uygun           2060\n",
       "dtype: int64"
      ]
     },
     "execution_count": 20,
     "metadata": {},
     "output_type": "execute_result"
    }
   ],
   "source": [
    "df2.isnull().sum()"
   ]
  },
  {
   "cell_type": "code",
   "execution_count": 21,
   "metadata": {},
   "outputs": [],
   "source": [
    "df2[\"Takasa Uygun\"].fillna(\"Belirtilmemiş\", inplace = True)"
   ]
  },
  {
   "cell_type": "code",
   "execution_count": 22,
   "metadata": {},
   "outputs": [
    {
     "data": {
      "text/plain": [
       "array(['Belirtilmemiş', 'Evet'], dtype=object)"
      ]
     },
     "execution_count": 22,
     "metadata": {},
     "output_type": "execute_result"
    }
   ],
   "source": [
    "df2[\"Takasa Uygun\"].unique()"
   ]
  },
  {
   "cell_type": "code",
   "execution_count": 23,
   "metadata": {},
   "outputs": [
    {
     "data": {
      "text/plain": [
       "ID                        0\n",
       "Brüt m²                   0\n",
       "Net m²                    0\n",
       "Oda Sayısı                0\n",
       "Banyo Sayısı              0\n",
       "Binadaki Kat Sayısı       0\n",
       "Bulunduğu Kat             0\n",
       "Bina Yaşı                 0\n",
       "Isıtma Tipi               0\n",
       "Mobilya Durumu          187\n",
       "Kullanım Durumu          50\n",
       "Yapının Durumu         1017\n",
       "Konut Şekli             498\n",
       "Kira Getirisi           622\n",
       "Kimden                 1122\n",
       "Krediye Uygun             0\n",
       "Price                     0\n",
       "Location Lat              0\n",
       "Location Lon              0\n",
       "Location1                 0\n",
       "Location2                 0\n",
       "Location3                 0\n",
       "Aidat                   841\n",
       "Takasa Uygun              0\n",
       "dtype: int64"
      ]
     },
     "execution_count": 23,
     "metadata": {},
     "output_type": "execute_result"
    }
   ],
   "source": [
    "df2.isnull().sum()"
   ]
  },
  {
   "cell_type": "code",
   "execution_count": 24,
   "metadata": {},
   "outputs": [],
   "source": [
    "df2.groupby(\"Binadaki Kat Sayısı\")[\"Aidat\"].mean()\n",
    "df2['Aidat'] = df2.groupby([\"Location2\",'Binadaki Kat Sayısı'])[\"Aidat\"].transform(lambda x:x.fillna(x.mean()))"
   ]
  },
  {
   "cell_type": "code",
   "execution_count": 25,
   "metadata": {},
   "outputs": [
    {
     "data": {
      "text/plain": [
       "ID                        0\n",
       "Brüt m²                   0\n",
       "Net m²                    0\n",
       "Oda Sayısı                0\n",
       "Banyo Sayısı              0\n",
       "Binadaki Kat Sayısı       0\n",
       "Bulunduğu Kat             0\n",
       "Bina Yaşı                 0\n",
       "Isıtma Tipi               0\n",
       "Mobilya Durumu          187\n",
       "Kullanım Durumu          50\n",
       "Yapının Durumu         1017\n",
       "Konut Şekli             498\n",
       "Kira Getirisi           622\n",
       "Kimden                 1122\n",
       "Krediye Uygun             0\n",
       "Price                     0\n",
       "Location Lat              0\n",
       "Location Lon              0\n",
       "Location1                 0\n",
       "Location2                 0\n",
       "Location3                 0\n",
       "Aidat                    20\n",
       "Takasa Uygun              0\n",
       "dtype: int64"
      ]
     },
     "execution_count": 25,
     "metadata": {},
     "output_type": "execute_result"
    }
   ],
   "source": [
    "df2.isnull().sum()"
   ]
  },
  {
   "cell_type": "code",
   "execution_count": 26,
   "metadata": {},
   "outputs": [
    {
     "data": {
      "text/plain": [
       "Mobilya Durumu\n",
       "Eşyalı (Mobilyalı)    5.597500e+05\n",
       "Eşyasız               4.746634e+05\n",
       "Sadece Beyaz Eşya     1.573250e+06\n",
       "Sadece Mutfak         9.134737e+05\n",
       "Name: Price, dtype: float64"
      ]
     },
     "execution_count": 26,
     "metadata": {},
     "output_type": "execute_result"
    }
   ],
   "source": [
    "df2[\"Mobilya Durumu\"].fillna(\"Sadece Mutfak\", inplace = True)\n",
    "df2.groupby(\"Mobilya Durumu\")[\"Price\"].mean()"
   ]
  },
  {
   "cell_type": "code",
   "execution_count": 27,
   "metadata": {},
   "outputs": [
    {
     "data": {
      "text/plain": [
       "ID                        0\n",
       "Brüt m²                   0\n",
       "Net m²                    0\n",
       "Oda Sayısı                0\n",
       "Banyo Sayısı              0\n",
       "Binadaki Kat Sayısı       0\n",
       "Bulunduğu Kat             0\n",
       "Bina Yaşı                 0\n",
       "Isıtma Tipi               0\n",
       "Mobilya Durumu            0\n",
       "Kullanım Durumu           0\n",
       "Yapının Durumu         1017\n",
       "Konut Şekli             498\n",
       "Kira Getirisi           622\n",
       "Kimden                 1122\n",
       "Krediye Uygun             0\n",
       "Price                     0\n",
       "Location Lat              0\n",
       "Location Lon              0\n",
       "Location1                 0\n",
       "Location2                 0\n",
       "Location3                 0\n",
       "Aidat                    20\n",
       "Takasa Uygun              0\n",
       "dtype: int64"
      ]
     },
     "execution_count": 27,
     "metadata": {},
     "output_type": "execute_result"
    }
   ],
   "source": [
    "df2.groupby(\"Mobilya Durumu\")[\"Kullanım Durumu\"].value_counts()\n",
    "df2['Kullanım Durumu'] = df2.groupby([\"Bina Yaşı\",'Mobilya Durumu'])[\"Kullanım Durumu\"].transform(lambda x:x.fillna(x.value_counts().idxmax()))\n",
    "df2.isnull().sum()"
   ]
  },
  {
   "cell_type": "code",
   "execution_count": 28,
   "metadata": {},
   "outputs": [
    {
     "data": {
      "text/plain": [
       "ID                        0\n",
       "Brüt m²                   0\n",
       "Net m²                    0\n",
       "Oda Sayısı                0\n",
       "Banyo Sayısı              0\n",
       "Binadaki Kat Sayısı       0\n",
       "Bulunduğu Kat             0\n",
       "Bina Yaşı                 0\n",
       "Isıtma Tipi               0\n",
       "Mobilya Durumu            0\n",
       "Kullanım Durumu           0\n",
       "Yapının Durumu            0\n",
       "Konut Şekli             498\n",
       "Kira Getirisi           622\n",
       "Kimden                 1122\n",
       "Krediye Uygun             0\n",
       "Price                     0\n",
       "Location Lat              0\n",
       "Location Lon              0\n",
       "Location1                 0\n",
       "Location2                 0\n",
       "Location3                 0\n",
       "Aidat                    20\n",
       "Takasa Uygun              0\n",
       "dtype: int64"
      ]
     },
     "execution_count": 28,
     "metadata": {},
     "output_type": "execute_result"
    }
   ],
   "source": [
    "df2.groupby(\"Bina Yaşı\")[\"Yapının Durumu\"].value_counts()\n",
    "df2['Yapının Durumu'] = df2.groupby(['Bina Yaşı',\"Kullanım Durumu\"])[\"Yapının Durumu\"].transform(lambda x:x.fillna(x.value_counts().idxmax()))\n",
    "df2.isnull().sum()"
   ]
  },
  {
   "cell_type": "code",
   "execution_count": 29,
   "metadata": {},
   "outputs": [
    {
     "data": {
      "text/plain": [
       "ID                        0\n",
       "Brüt m²                   0\n",
       "Net m²                    0\n",
       "Oda Sayısı                0\n",
       "Banyo Sayısı              0\n",
       "Binadaki Kat Sayısı       0\n",
       "Bulunduğu Kat             0\n",
       "Bina Yaşı                 0\n",
       "Isıtma Tipi               0\n",
       "Mobilya Durumu            0\n",
       "Kullanım Durumu           0\n",
       "Yapının Durumu            0\n",
       "Konut Şekli               0\n",
       "Kira Getirisi           622\n",
       "Kimden                 1122\n",
       "Krediye Uygun             0\n",
       "Price                     0\n",
       "Location Lat              0\n",
       "Location Lon              0\n",
       "Location1                 0\n",
       "Location2                 0\n",
       "Location3                 0\n",
       "Aidat                    20\n",
       "Takasa Uygun              0\n",
       "dtype: int64"
      ]
     },
     "execution_count": 29,
     "metadata": {},
     "output_type": "execute_result"
    }
   ],
   "source": [
    "df2[\"Konut Şekli\"].fillna(\"Belirtilmemiş\", inplace = True)\n",
    "df2.isnull().sum()"
   ]
  },
  {
   "cell_type": "code",
   "execution_count": 30,
   "metadata": {},
   "outputs": [
    {
     "data": {
      "text/plain": [
       "ID                       0\n",
       "Brüt m²                  0\n",
       "Net m²                   0\n",
       "Oda Sayısı               0\n",
       "Banyo Sayısı             0\n",
       "Binadaki Kat Sayısı      0\n",
       "Bulunduğu Kat            0\n",
       "Bina Yaşı                0\n",
       "Isıtma Tipi              0\n",
       "Mobilya Durumu           0\n",
       "Kullanım Durumu          0\n",
       "Yapının Durumu           0\n",
       "Konut Şekli              0\n",
       "Kira Getirisi          622\n",
       "Kimden                   0\n",
       "Krediye Uygun            0\n",
       "Price                    0\n",
       "Location Lat             0\n",
       "Location Lon             0\n",
       "Location1                0\n",
       "Location2                0\n",
       "Location3                0\n",
       "Aidat                   20\n",
       "Takasa Uygun             0\n",
       "dtype: int64"
      ]
     },
     "execution_count": 30,
     "metadata": {},
     "output_type": "execute_result"
    }
   ],
   "source": [
    "df2[\"Kimden\"].fillna(\"Belirtilmemiş\", inplace = True)\n",
    "df2.isnull().sum()\n"
   ]
  },
  {
   "cell_type": "code",
   "execution_count": 31,
   "metadata": {},
   "outputs": [],
   "source": [
    "df2[\"Bulunduğu Kat\"].replace([\"9\",\"10\",\"11\",\"12\"],\"9-12 Kat\", inplace = True)\n",
    "df2[\"Bulunduğu Kat\"].replace([\"6\",\"7\",\"8\"],\"Kat : 6-8\", inplace = True)\n",
    "df2[\"Bulunduğu Kat\"].replace([\"13\",\"14\"],\"Kat : 13-14\", inplace = True)\n",
    "df2[\"Bulunduğu Kat\"].replace([\"15\",\"16\",\"17\"],\"Kat : 15-17\", inplace = True)"
   ]
  },
  {
   "cell_type": "code",
   "execution_count": 32,
   "metadata": {},
   "outputs": [
    {
     "data": {
      "text/plain": [
       "1    1705.041580\n",
       "2    1300.000000\n",
       "3    1100.000000\n",
       "4    2841.735967\n",
       "5    1420.867983\n",
       "Name: Kira Getirisi, dtype: float64"
      ]
     },
     "execution_count": 32,
     "metadata": {},
     "output_type": "execute_result"
    }
   ],
   "source": [
    "df2[\"Kira Getirisi\"] = df2[\"Kira Getirisi\"].fillna(value=0)\n",
    "s = df2.loc[df2[\"Kira Getirisi\"].ne(0)].groupby(\"Location2\").sum()\n",
    "df2.loc[df2[\"Kira Getirisi\"].eq(0), \"Kira Getirisi\"] = df2[\"Location2\"].map(s[\"Kira Getirisi\"]/s[\"Net m²\"])*df2[\"Net m²\"]\n",
    "df2[\"Kira Getirisi\"].head()"
   ]
  },
  {
   "cell_type": "code",
   "execution_count": 33,
   "metadata": {},
   "outputs": [
    {
     "data": {
      "text/plain": [
       "ID                      0\n",
       "Brüt m²                 0\n",
       "Net m²                  0\n",
       "Oda Sayısı              0\n",
       "Banyo Sayısı            0\n",
       "Binadaki Kat Sayısı     0\n",
       "Bulunduğu Kat           0\n",
       "Bina Yaşı               0\n",
       "Isıtma Tipi             0\n",
       "Mobilya Durumu          0\n",
       "Kullanım Durumu         0\n",
       "Yapının Durumu          0\n",
       "Konut Şekli             0\n",
       "Kira Getirisi           5\n",
       "Kimden                  0\n",
       "Krediye Uygun           0\n",
       "Price                   0\n",
       "Location Lat            0\n",
       "Location Lon            0\n",
       "Location1               0\n",
       "Location2               0\n",
       "Location3               0\n",
       "Aidat                  20\n",
       "Takasa Uygun            0\n",
       "dtype: int64"
      ]
     },
     "execution_count": 33,
     "metadata": {},
     "output_type": "execute_result"
    }
   ],
   "source": [
    "df2.isnull().sum()"
   ]
  },
  {
   "cell_type": "code",
   "execution_count": 34,
   "metadata": {},
   "outputs": [],
   "source": [
    "df = df2"
   ]
  },
  {
   "cell_type": "code",
   "execution_count": 35,
   "metadata": {},
   "outputs": [
    {
     "data": {
      "text/html": [
       "<div>\n",
       "<style scoped>\n",
       "    .dataframe tbody tr th:only-of-type {\n",
       "        vertical-align: middle;\n",
       "    }\n",
       "\n",
       "    .dataframe tbody tr th {\n",
       "        vertical-align: top;\n",
       "    }\n",
       "\n",
       "    .dataframe thead th {\n",
       "        text-align: right;\n",
       "    }\n",
       "</style>\n",
       "<table border=\"1\" class=\"dataframe\">\n",
       "  <thead>\n",
       "    <tr style=\"text-align: right;\">\n",
       "      <th></th>\n",
       "      <th>ID</th>\n",
       "      <th>Brüt m²</th>\n",
       "      <th>Net m²</th>\n",
       "      <th>Oda Sayısı</th>\n",
       "      <th>Banyo Sayısı</th>\n",
       "      <th>Binadaki Kat Sayısı</th>\n",
       "      <th>Bulunduğu Kat</th>\n",
       "      <th>Bina Yaşı</th>\n",
       "      <th>Isıtma Tipi</th>\n",
       "      <th>Mobilya Durumu</th>\n",
       "      <th>...</th>\n",
       "      <th>Kimden</th>\n",
       "      <th>Krediye Uygun</th>\n",
       "      <th>Price</th>\n",
       "      <th>Location Lat</th>\n",
       "      <th>Location Lon</th>\n",
       "      <th>Location1</th>\n",
       "      <th>Location2</th>\n",
       "      <th>Location3</th>\n",
       "      <th>Aidat</th>\n",
       "      <th>Takasa Uygun</th>\n",
       "    </tr>\n",
       "  </thead>\n",
       "  <tbody>\n",
       "    <tr>\n",
       "      <th>1</th>\n",
       "      <td>24</td>\n",
       "      <td>100</td>\n",
       "      <td>90.0</td>\n",
       "      <td>2+1</td>\n",
       "      <td>2</td>\n",
       "      <td>4</td>\n",
       "      <td>2</td>\n",
       "      <td>16-20 arası</td>\n",
       "      <td>Kombi (Doğalgaz)</td>\n",
       "      <td>Eşyasız</td>\n",
       "      <td>...</td>\n",
       "      <td>Belirtilmemiş</td>\n",
       "      <td>Evet</td>\n",
       "      <td>330000</td>\n",
       "      <td>40.988460</td>\n",
       "      <td>28.894923</td>\n",
       "      <td>Sümer</td>\n",
       "      <td>Zeytinburnu</td>\n",
       "      <td>İstanbul</td>\n",
       "      <td>0.000000</td>\n",
       "      <td>Belirtilmemiş</td>\n",
       "    </tr>\n",
       "    <tr>\n",
       "      <th>2</th>\n",
       "      <td>26</td>\n",
       "      <td>80</td>\n",
       "      <td>75.0</td>\n",
       "      <td>1+1</td>\n",
       "      <td>1</td>\n",
       "      <td>3</td>\n",
       "      <td>3</td>\n",
       "      <td>21-25 arası</td>\n",
       "      <td>Kombi (Doğalgaz)</td>\n",
       "      <td>Eşyasız</td>\n",
       "      <td>...</td>\n",
       "      <td>Danışman</td>\n",
       "      <td>Hayır</td>\n",
       "      <td>230000</td>\n",
       "      <td>40.992217</td>\n",
       "      <td>28.900588</td>\n",
       "      <td>Yeşiltepe</td>\n",
       "      <td>Zeytinburnu</td>\n",
       "      <td>İstanbul</td>\n",
       "      <td>25.000000</td>\n",
       "      <td>Belirtilmemiş</td>\n",
       "    </tr>\n",
       "    <tr>\n",
       "      <th>3</th>\n",
       "      <td>46</td>\n",
       "      <td>75</td>\n",
       "      <td>65.0</td>\n",
       "      <td>1+1</td>\n",
       "      <td>1</td>\n",
       "      <td>4</td>\n",
       "      <td>Yüksek Giriş</td>\n",
       "      <td>6-10 arası</td>\n",
       "      <td>Kombi (Doğalgaz)</td>\n",
       "      <td>Eşyasız</td>\n",
       "      <td>...</td>\n",
       "      <td>Danışman</td>\n",
       "      <td>Evet</td>\n",
       "      <td>268000</td>\n",
       "      <td>40.994774</td>\n",
       "      <td>28.897234</td>\n",
       "      <td>Veliefendi</td>\n",
       "      <td>Zeytinburnu</td>\n",
       "      <td>İstanbul</td>\n",
       "      <td>5.357143</td>\n",
       "      <td>Belirtilmemiş</td>\n",
       "    </tr>\n",
       "    <tr>\n",
       "      <th>4</th>\n",
       "      <td>54</td>\n",
       "      <td>187</td>\n",
       "      <td>150.0</td>\n",
       "      <td>3+1</td>\n",
       "      <td>2</td>\n",
       "      <td>10-20 arası</td>\n",
       "      <td>3</td>\n",
       "      <td>2</td>\n",
       "      <td>Klima</td>\n",
       "      <td>Eşyasız</td>\n",
       "      <td>...</td>\n",
       "      <td>Belirtilmemiş</td>\n",
       "      <td>Evet</td>\n",
       "      <td>2000000</td>\n",
       "      <td>40.991810</td>\n",
       "      <td>28.893631</td>\n",
       "      <td>Sümer</td>\n",
       "      <td>Zeytinburnu</td>\n",
       "      <td>İstanbul</td>\n",
       "      <td>550.000000</td>\n",
       "      <td>Belirtilmemiş</td>\n",
       "    </tr>\n",
       "    <tr>\n",
       "      <th>5</th>\n",
       "      <td>56</td>\n",
       "      <td>85</td>\n",
       "      <td>75.0</td>\n",
       "      <td>2+1</td>\n",
       "      <td>1</td>\n",
       "      <td>4</td>\n",
       "      <td>Bodrum Kat</td>\n",
       "      <td>11-15 arası</td>\n",
       "      <td>Kombi (Doğalgaz)</td>\n",
       "      <td>Eşyasız</td>\n",
       "      <td>...</td>\n",
       "      <td>Danışman</td>\n",
       "      <td>Evet</td>\n",
       "      <td>220000</td>\n",
       "      <td>40.987131</td>\n",
       "      <td>28.898133</td>\n",
       "      <td>Sümer</td>\n",
       "      <td>Zeytinburnu</td>\n",
       "      <td>İstanbul</td>\n",
       "      <td>0.000000</td>\n",
       "      <td>Belirtilmemiş</td>\n",
       "    </tr>\n",
       "    <tr>\n",
       "      <th>...</th>\n",
       "      <td>...</td>\n",
       "      <td>...</td>\n",
       "      <td>...</td>\n",
       "      <td>...</td>\n",
       "      <td>...</td>\n",
       "      <td>...</td>\n",
       "      <td>...</td>\n",
       "      <td>...</td>\n",
       "      <td>...</td>\n",
       "      <td>...</td>\n",
       "      <td>...</td>\n",
       "      <td>...</td>\n",
       "      <td>...</td>\n",
       "      <td>...</td>\n",
       "      <td>...</td>\n",
       "      <td>...</td>\n",
       "      <td>...</td>\n",
       "      <td>...</td>\n",
       "      <td>...</td>\n",
       "      <td>...</td>\n",
       "      <td>...</td>\n",
       "    </tr>\n",
       "    <tr>\n",
       "      <th>2995</th>\n",
       "      <td>31285</td>\n",
       "      <td>160</td>\n",
       "      <td>159.0</td>\n",
       "      <td>3+1</td>\n",
       "      <td>2</td>\n",
       "      <td>4</td>\n",
       "      <td>1</td>\n",
       "      <td>6-10 arası</td>\n",
       "      <td>Kombi (Doğalgaz)</td>\n",
       "      <td>Eşyasız</td>\n",
       "      <td>...</td>\n",
       "      <td>Belirtilmemiş</td>\n",
       "      <td>Evet</td>\n",
       "      <td>2300000</td>\n",
       "      <td>41.003304</td>\n",
       "      <td>28.882413</td>\n",
       "      <td>Bahçelievler</td>\n",
       "      <td>Bahçelievler</td>\n",
       "      <td>İstanbul</td>\n",
       "      <td>0.000000</td>\n",
       "      <td>Belirtilmemiş</td>\n",
       "    </tr>\n",
       "    <tr>\n",
       "      <th>2996</th>\n",
       "      <td>31316</td>\n",
       "      <td>120</td>\n",
       "      <td>110.0</td>\n",
       "      <td>2+1</td>\n",
       "      <td>1</td>\n",
       "      <td>3</td>\n",
       "      <td>2</td>\n",
       "      <td>0</td>\n",
       "      <td>Kombi (Doğalgaz)</td>\n",
       "      <td>Sadece Mutfak</td>\n",
       "      <td>...</td>\n",
       "      <td>Belirtilmemiş</td>\n",
       "      <td>Evet</td>\n",
       "      <td>1100000</td>\n",
       "      <td>40.996824</td>\n",
       "      <td>28.865574</td>\n",
       "      <td>Bahçelievler</td>\n",
       "      <td>Bahçelievler</td>\n",
       "      <td>İstanbul</td>\n",
       "      <td>0.000000</td>\n",
       "      <td>Belirtilmemiş</td>\n",
       "    </tr>\n",
       "    <tr>\n",
       "      <th>2997</th>\n",
       "      <td>31320</td>\n",
       "      <td>100</td>\n",
       "      <td>85.0</td>\n",
       "      <td>2+1</td>\n",
       "      <td>1</td>\n",
       "      <td>3</td>\n",
       "      <td>Giriş Katı</td>\n",
       "      <td>26-30 arası</td>\n",
       "      <td>Kombi (Doğalgaz)</td>\n",
       "      <td>Eşyasız</td>\n",
       "      <td>...</td>\n",
       "      <td>Danışman</td>\n",
       "      <td>Evet</td>\n",
       "      <td>370000</td>\n",
       "      <td>41.001634</td>\n",
       "      <td>28.860684</td>\n",
       "      <td>Bahçelievler</td>\n",
       "      <td>Bahçelievler</td>\n",
       "      <td>İstanbul</td>\n",
       "      <td>24.666667</td>\n",
       "      <td>Belirtilmemiş</td>\n",
       "    </tr>\n",
       "    <tr>\n",
       "      <th>2998</th>\n",
       "      <td>31333</td>\n",
       "      <td>90</td>\n",
       "      <td>80.0</td>\n",
       "      <td>2+1</td>\n",
       "      <td>1</td>\n",
       "      <td>4</td>\n",
       "      <td>Giriş Katı</td>\n",
       "      <td>0</td>\n",
       "      <td>Kombi (Doğalgaz)</td>\n",
       "      <td>Eşyasız</td>\n",
       "      <td>...</td>\n",
       "      <td>Danışman</td>\n",
       "      <td>Evet</td>\n",
       "      <td>595000</td>\n",
       "      <td>41.006145</td>\n",
       "      <td>28.863885</td>\n",
       "      <td>Bahçelievler</td>\n",
       "      <td>Bahçelievler</td>\n",
       "      <td>İstanbul</td>\n",
       "      <td>21.764706</td>\n",
       "      <td>Belirtilmemiş</td>\n",
       "    </tr>\n",
       "    <tr>\n",
       "      <th>2999</th>\n",
       "      <td>31349</td>\n",
       "      <td>98</td>\n",
       "      <td>92.0</td>\n",
       "      <td>2+1</td>\n",
       "      <td>1</td>\n",
       "      <td>3</td>\n",
       "      <td>Yüksek Giriş</td>\n",
       "      <td>0</td>\n",
       "      <td>Klima</td>\n",
       "      <td>Eşyasız</td>\n",
       "      <td>...</td>\n",
       "      <td>Danışman</td>\n",
       "      <td>Evet</td>\n",
       "      <td>950000</td>\n",
       "      <td>40.997227</td>\n",
       "      <td>28.865708</td>\n",
       "      <td>Bahçelievler</td>\n",
       "      <td>Bahçelievler</td>\n",
       "      <td>İstanbul</td>\n",
       "      <td>0.000000</td>\n",
       "      <td>Belirtilmemiş</td>\n",
       "    </tr>\n",
       "  </tbody>\n",
       "</table>\n",
       "<p>2826 rows × 24 columns</p>\n",
       "</div>"
      ],
      "text/plain": [
       "         ID  Brüt m²  Net m² Oda Sayısı Banyo Sayısı Binadaki Kat Sayısı  \\\n",
       "1        24      100    90.0        2+1            2                   4   \n",
       "2        26       80    75.0        1+1            1                   3   \n",
       "3        46       75    65.0        1+1            1                   4   \n",
       "4        54      187   150.0        3+1            2         10-20 arası   \n",
       "5        56       85    75.0        2+1            1                   4   \n",
       "...     ...      ...     ...        ...          ...                 ...   \n",
       "2995  31285      160   159.0        3+1            2                   4   \n",
       "2996  31316      120   110.0        2+1            1                   3   \n",
       "2997  31320      100    85.0        2+1            1                   3   \n",
       "2998  31333       90    80.0        2+1            1                   4   \n",
       "2999  31349       98    92.0        2+1            1                   3   \n",
       "\n",
       "     Bulunduğu Kat    Bina Yaşı       Isıtma Tipi Mobilya Durumu  ...  \\\n",
       "1                2  16-20 arası  Kombi (Doğalgaz)        Eşyasız  ...   \n",
       "2                3  21-25 arası  Kombi (Doğalgaz)        Eşyasız  ...   \n",
       "3     Yüksek Giriş   6-10 arası  Kombi (Doğalgaz)        Eşyasız  ...   \n",
       "4                3            2             Klima        Eşyasız  ...   \n",
       "5       Bodrum Kat  11-15 arası  Kombi (Doğalgaz)        Eşyasız  ...   \n",
       "...            ...          ...               ...            ...  ...   \n",
       "2995             1   6-10 arası  Kombi (Doğalgaz)        Eşyasız  ...   \n",
       "2996             2            0  Kombi (Doğalgaz)  Sadece Mutfak  ...   \n",
       "2997    Giriş Katı  26-30 arası  Kombi (Doğalgaz)        Eşyasız  ...   \n",
       "2998    Giriş Katı            0  Kombi (Doğalgaz)        Eşyasız  ...   \n",
       "2999  Yüksek Giriş            0             Klima        Eşyasız  ...   \n",
       "\n",
       "             Kimden Krediye Uygun    Price  Location Lat Location Lon  \\\n",
       "1     Belirtilmemiş          Evet   330000     40.988460    28.894923   \n",
       "2          Danışman         Hayır   230000     40.992217    28.900588   \n",
       "3          Danışman          Evet   268000     40.994774    28.897234   \n",
       "4     Belirtilmemiş          Evet  2000000     40.991810    28.893631   \n",
       "5          Danışman          Evet   220000     40.987131    28.898133   \n",
       "...             ...           ...      ...           ...          ...   \n",
       "2995  Belirtilmemiş          Evet  2300000     41.003304    28.882413   \n",
       "2996  Belirtilmemiş          Evet  1100000     40.996824    28.865574   \n",
       "2997       Danışman          Evet   370000     41.001634    28.860684   \n",
       "2998       Danışman          Evet   595000     41.006145    28.863885   \n",
       "2999       Danışman          Evet   950000     40.997227    28.865708   \n",
       "\n",
       "         Location1     Location2  Location3       Aidat   Takasa Uygun  \n",
       "1            Sümer   Zeytinburnu   İstanbul    0.000000  Belirtilmemiş  \n",
       "2        Yeşiltepe   Zeytinburnu   İstanbul   25.000000  Belirtilmemiş  \n",
       "3       Veliefendi   Zeytinburnu   İstanbul    5.357143  Belirtilmemiş  \n",
       "4            Sümer   Zeytinburnu   İstanbul  550.000000  Belirtilmemiş  \n",
       "5            Sümer   Zeytinburnu   İstanbul    0.000000  Belirtilmemiş  \n",
       "...            ...           ...        ...         ...            ...  \n",
       "2995  Bahçelievler  Bahçelievler   İstanbul    0.000000  Belirtilmemiş  \n",
       "2996  Bahçelievler  Bahçelievler   İstanbul    0.000000  Belirtilmemiş  \n",
       "2997  Bahçelievler  Bahçelievler   İstanbul   24.666667  Belirtilmemiş  \n",
       "2998  Bahçelievler  Bahçelievler   İstanbul   21.764706  Belirtilmemiş  \n",
       "2999  Bahçelievler  Bahçelievler   İstanbul    0.000000  Belirtilmemiş  \n",
       "\n",
       "[2826 rows x 24 columns]"
      ]
     },
     "execution_count": 35,
     "metadata": {},
     "output_type": "execute_result"
    }
   ],
   "source": [
    "df"
   ]
  },
  {
   "cell_type": "code",
   "execution_count": 36,
   "metadata": {},
   "outputs": [],
   "source": [
    "df = df[df['Aidat'].notna()]"
   ]
  },
  {
   "cell_type": "code",
   "execution_count": 37,
   "metadata": {},
   "outputs": [
    {
     "data": {
      "text/plain": [
       "ID                     0\n",
       "Brüt m²                0\n",
       "Net m²                 0\n",
       "Oda Sayısı             0\n",
       "Banyo Sayısı           0\n",
       "Binadaki Kat Sayısı    0\n",
       "Bulunduğu Kat          0\n",
       "Bina Yaşı              0\n",
       "Isıtma Tipi            0\n",
       "Mobilya Durumu         0\n",
       "Kullanım Durumu        0\n",
       "Yapının Durumu         0\n",
       "Konut Şekli            0\n",
       "Kira Getirisi          5\n",
       "Kimden                 0\n",
       "Krediye Uygun          0\n",
       "Price                  0\n",
       "Location Lat           0\n",
       "Location Lon           0\n",
       "Location1              0\n",
       "Location2              0\n",
       "Location3              0\n",
       "Aidat                  0\n",
       "Takasa Uygun           0\n",
       "dtype: int64"
      ]
     },
     "execution_count": 37,
     "metadata": {},
     "output_type": "execute_result"
    }
   ],
   "source": [
    "df.isnull().sum()"
   ]
  },
  {
   "cell_type": "code",
   "execution_count": 38,
   "metadata": {},
   "outputs": [
    {
     "data": {
      "text/plain": [
       "1         0.000000\n",
       "2        25.000000\n",
       "3         5.357143\n",
       "4       550.000000\n",
       "5         0.000000\n",
       "           ...    \n",
       "2995      0.000000\n",
       "2996      0.000000\n",
       "2997     24.666667\n",
       "2998     21.764706\n",
       "2999      0.000000\n",
       "Name: Aidat, Length: 2806, dtype: float64"
      ]
     },
     "execution_count": 38,
     "metadata": {},
     "output_type": "execute_result"
    }
   ],
   "source": [
    "df['Aidat']"
   ]
  },
  {
   "cell_type": "code",
   "execution_count": 39,
   "metadata": {},
   "outputs": [],
   "source": [
    "df = df[df['Kira Getirisi'].notna()]"
   ]
  },
  {
   "cell_type": "code",
   "execution_count": 40,
   "metadata": {},
   "outputs": [
    {
     "data": {
      "text/plain": [
       "1       1705.041580\n",
       "2       1300.000000\n",
       "3       1100.000000\n",
       "4       2841.735967\n",
       "5       1420.867983\n",
       "           ...     \n",
       "2995    2720.499662\n",
       "2996    1882.106685\n",
       "2997    1454.355165\n",
       "2998    2500.000000\n",
       "2999    1574.125591\n",
       "Name: Kira Getirisi, Length: 2801, dtype: float64"
      ]
     },
     "execution_count": 40,
     "metadata": {},
     "output_type": "execute_result"
    }
   ],
   "source": [
    "df['Kira Getirisi']"
   ]
  },
  {
   "cell_type": "code",
   "execution_count": 41,
   "metadata": {},
   "outputs": [
    {
     "data": {
      "text/plain": [
       "ID                     0\n",
       "Brüt m²                0\n",
       "Net m²                 0\n",
       "Oda Sayısı             0\n",
       "Banyo Sayısı           0\n",
       "Binadaki Kat Sayısı    0\n",
       "Bulunduğu Kat          0\n",
       "Bina Yaşı              0\n",
       "Isıtma Tipi            0\n",
       "Mobilya Durumu         0\n",
       "Kullanım Durumu        0\n",
       "Yapının Durumu         0\n",
       "Konut Şekli            0\n",
       "Kira Getirisi          0\n",
       "Kimden                 0\n",
       "Krediye Uygun          0\n",
       "Price                  0\n",
       "Location Lat           0\n",
       "Location Lon           0\n",
       "Location1              0\n",
       "Location2              0\n",
       "Location3              0\n",
       "Aidat                  0\n",
       "Takasa Uygun           0\n",
       "dtype: int64"
      ]
     },
     "execution_count": 41,
     "metadata": {},
     "output_type": "execute_result"
    }
   ],
   "source": [
    "df.isnull().sum()"
   ]
  },
  {
   "cell_type": "code",
   "execution_count": 42,
   "metadata": {},
   "outputs": [
    {
     "data": {
      "text/html": [
       "<div>\n",
       "<style scoped>\n",
       "    .dataframe tbody tr th:only-of-type {\n",
       "        vertical-align: middle;\n",
       "    }\n",
       "\n",
       "    .dataframe tbody tr th {\n",
       "        vertical-align: top;\n",
       "    }\n",
       "\n",
       "    .dataframe thead th {\n",
       "        text-align: right;\n",
       "    }\n",
       "</style>\n",
       "<table border=\"1\" class=\"dataframe\">\n",
       "  <thead>\n",
       "    <tr style=\"text-align: right;\">\n",
       "      <th></th>\n",
       "      <th>ID</th>\n",
       "      <th>Brüt m²</th>\n",
       "      <th>Net m²</th>\n",
       "      <th>Oda Sayısı</th>\n",
       "      <th>Banyo Sayısı</th>\n",
       "      <th>Binadaki Kat Sayısı</th>\n",
       "      <th>Bulunduğu Kat</th>\n",
       "      <th>Bina Yaşı</th>\n",
       "      <th>Isıtma Tipi</th>\n",
       "      <th>Mobilya Durumu</th>\n",
       "      <th>...</th>\n",
       "      <th>Kimden</th>\n",
       "      <th>Krediye Uygun</th>\n",
       "      <th>Price</th>\n",
       "      <th>Location Lat</th>\n",
       "      <th>Location Lon</th>\n",
       "      <th>Location1</th>\n",
       "      <th>Location2</th>\n",
       "      <th>Location3</th>\n",
       "      <th>Aidat</th>\n",
       "      <th>Takasa Uygun</th>\n",
       "    </tr>\n",
       "  </thead>\n",
       "  <tbody>\n",
       "    <tr>\n",
       "      <th>1</th>\n",
       "      <td>24</td>\n",
       "      <td>100</td>\n",
       "      <td>90.0</td>\n",
       "      <td>2+1</td>\n",
       "      <td>2</td>\n",
       "      <td>4</td>\n",
       "      <td>2</td>\n",
       "      <td>16-20 arası</td>\n",
       "      <td>Kombi (Doğalgaz)</td>\n",
       "      <td>Eşyasız</td>\n",
       "      <td>...</td>\n",
       "      <td>Belirtilmemiş</td>\n",
       "      <td>Evet</td>\n",
       "      <td>330000</td>\n",
       "      <td>40.988460</td>\n",
       "      <td>28.894923</td>\n",
       "      <td>Sümer</td>\n",
       "      <td>Zeytinburnu</td>\n",
       "      <td>İstanbul</td>\n",
       "      <td>0.000000</td>\n",
       "      <td>Belirtilmemiş</td>\n",
       "    </tr>\n",
       "    <tr>\n",
       "      <th>2</th>\n",
       "      <td>26</td>\n",
       "      <td>80</td>\n",
       "      <td>75.0</td>\n",
       "      <td>1+1</td>\n",
       "      <td>1</td>\n",
       "      <td>3</td>\n",
       "      <td>3</td>\n",
       "      <td>21-25 arası</td>\n",
       "      <td>Kombi (Doğalgaz)</td>\n",
       "      <td>Eşyasız</td>\n",
       "      <td>...</td>\n",
       "      <td>Danışman</td>\n",
       "      <td>Hayır</td>\n",
       "      <td>230000</td>\n",
       "      <td>40.992217</td>\n",
       "      <td>28.900588</td>\n",
       "      <td>Yeşiltepe</td>\n",
       "      <td>Zeytinburnu</td>\n",
       "      <td>İstanbul</td>\n",
       "      <td>25.000000</td>\n",
       "      <td>Belirtilmemiş</td>\n",
       "    </tr>\n",
       "    <tr>\n",
       "      <th>3</th>\n",
       "      <td>46</td>\n",
       "      <td>75</td>\n",
       "      <td>65.0</td>\n",
       "      <td>1+1</td>\n",
       "      <td>1</td>\n",
       "      <td>4</td>\n",
       "      <td>Yüksek Giriş</td>\n",
       "      <td>6-10 arası</td>\n",
       "      <td>Kombi (Doğalgaz)</td>\n",
       "      <td>Eşyasız</td>\n",
       "      <td>...</td>\n",
       "      <td>Danışman</td>\n",
       "      <td>Evet</td>\n",
       "      <td>268000</td>\n",
       "      <td>40.994774</td>\n",
       "      <td>28.897234</td>\n",
       "      <td>Veliefendi</td>\n",
       "      <td>Zeytinburnu</td>\n",
       "      <td>İstanbul</td>\n",
       "      <td>5.357143</td>\n",
       "      <td>Belirtilmemiş</td>\n",
       "    </tr>\n",
       "    <tr>\n",
       "      <th>4</th>\n",
       "      <td>54</td>\n",
       "      <td>187</td>\n",
       "      <td>150.0</td>\n",
       "      <td>3+1</td>\n",
       "      <td>2</td>\n",
       "      <td>10-20 arası</td>\n",
       "      <td>3</td>\n",
       "      <td>2</td>\n",
       "      <td>Klima</td>\n",
       "      <td>Eşyasız</td>\n",
       "      <td>...</td>\n",
       "      <td>Belirtilmemiş</td>\n",
       "      <td>Evet</td>\n",
       "      <td>2000000</td>\n",
       "      <td>40.991810</td>\n",
       "      <td>28.893631</td>\n",
       "      <td>Sümer</td>\n",
       "      <td>Zeytinburnu</td>\n",
       "      <td>İstanbul</td>\n",
       "      <td>550.000000</td>\n",
       "      <td>Belirtilmemiş</td>\n",
       "    </tr>\n",
       "    <tr>\n",
       "      <th>5</th>\n",
       "      <td>56</td>\n",
       "      <td>85</td>\n",
       "      <td>75.0</td>\n",
       "      <td>2+1</td>\n",
       "      <td>1</td>\n",
       "      <td>4</td>\n",
       "      <td>Bodrum Kat</td>\n",
       "      <td>11-15 arası</td>\n",
       "      <td>Kombi (Doğalgaz)</td>\n",
       "      <td>Eşyasız</td>\n",
       "      <td>...</td>\n",
       "      <td>Danışman</td>\n",
       "      <td>Evet</td>\n",
       "      <td>220000</td>\n",
       "      <td>40.987131</td>\n",
       "      <td>28.898133</td>\n",
       "      <td>Sümer</td>\n",
       "      <td>Zeytinburnu</td>\n",
       "      <td>İstanbul</td>\n",
       "      <td>0.000000</td>\n",
       "      <td>Belirtilmemiş</td>\n",
       "    </tr>\n",
       "    <tr>\n",
       "      <th>6</th>\n",
       "      <td>62</td>\n",
       "      <td>90</td>\n",
       "      <td>85.0</td>\n",
       "      <td>2+1</td>\n",
       "      <td>1</td>\n",
       "      <td>3</td>\n",
       "      <td>2</td>\n",
       "      <td>21-25 arası</td>\n",
       "      <td>Kombi (Doğalgaz)</td>\n",
       "      <td>Eşyasız</td>\n",
       "      <td>...</td>\n",
       "      <td>Danışman</td>\n",
       "      <td>Evet</td>\n",
       "      <td>340000</td>\n",
       "      <td>40.988071</td>\n",
       "      <td>28.894828</td>\n",
       "      <td>Sümer</td>\n",
       "      <td>Zeytinburnu</td>\n",
       "      <td>İstanbul</td>\n",
       "      <td>20.000000</td>\n",
       "      <td>Belirtilmemiş</td>\n",
       "    </tr>\n",
       "    <tr>\n",
       "      <th>7</th>\n",
       "      <td>66</td>\n",
       "      <td>110</td>\n",
       "      <td>95.0</td>\n",
       "      <td>2+1</td>\n",
       "      <td>1</td>\n",
       "      <td>5</td>\n",
       "      <td>5</td>\n",
       "      <td>16-20 arası</td>\n",
       "      <td>Kombi (Doğalgaz)</td>\n",
       "      <td>Eşyasız</td>\n",
       "      <td>...</td>\n",
       "      <td>Danışman</td>\n",
       "      <td>Hayır</td>\n",
       "      <td>350000</td>\n",
       "      <td>40.987909</td>\n",
       "      <td>28.896931</td>\n",
       "      <td>Sümer</td>\n",
       "      <td>Zeytinburnu</td>\n",
       "      <td>İstanbul</td>\n",
       "      <td>0.000000</td>\n",
       "      <td>Belirtilmemiş</td>\n",
       "    </tr>\n",
       "    <tr>\n",
       "      <th>8</th>\n",
       "      <td>88</td>\n",
       "      <td>110</td>\n",
       "      <td>95.0</td>\n",
       "      <td>2+1</td>\n",
       "      <td>1</td>\n",
       "      <td>3</td>\n",
       "      <td>2</td>\n",
       "      <td>4</td>\n",
       "      <td>Kombi (Doğalgaz)</td>\n",
       "      <td>Eşyasız</td>\n",
       "      <td>...</td>\n",
       "      <td>Danışman</td>\n",
       "      <td>Evet</td>\n",
       "      <td>490000</td>\n",
       "      <td>41.000056</td>\n",
       "      <td>28.899843</td>\n",
       "      <td>Çırpıcı</td>\n",
       "      <td>Zeytinburnu</td>\n",
       "      <td>İstanbul</td>\n",
       "      <td>15.000000</td>\n",
       "      <td>Belirtilmemiş</td>\n",
       "    </tr>\n",
       "    <tr>\n",
       "      <th>9</th>\n",
       "      <td>92</td>\n",
       "      <td>170</td>\n",
       "      <td>160.0</td>\n",
       "      <td>3+2</td>\n",
       "      <td>2</td>\n",
       "      <td>3</td>\n",
       "      <td>3</td>\n",
       "      <td>16-20 arası</td>\n",
       "      <td>Kombi (Doğalgaz)</td>\n",
       "      <td>Eşyasız</td>\n",
       "      <td>...</td>\n",
       "      <td>Belirtilmemiş</td>\n",
       "      <td>Evet</td>\n",
       "      <td>450000</td>\n",
       "      <td>40.984020</td>\n",
       "      <td>28.893897</td>\n",
       "      <td>Sümer</td>\n",
       "      <td>Zeytinburnu</td>\n",
       "      <td>İstanbul</td>\n",
       "      <td>0.000000</td>\n",
       "      <td>Belirtilmemiş</td>\n",
       "    </tr>\n",
       "    <tr>\n",
       "      <th>10</th>\n",
       "      <td>99</td>\n",
       "      <td>150</td>\n",
       "      <td>140.0</td>\n",
       "      <td>3+1</td>\n",
       "      <td>1</td>\n",
       "      <td>4</td>\n",
       "      <td>4</td>\n",
       "      <td>21-25 arası</td>\n",
       "      <td>Kombi (Doğalgaz)</td>\n",
       "      <td>Eşyasız</td>\n",
       "      <td>...</td>\n",
       "      <td>Belirtilmemiş</td>\n",
       "      <td>Evet</td>\n",
       "      <td>599000</td>\n",
       "      <td>40.985337</td>\n",
       "      <td>28.899637</td>\n",
       "      <td>Nuripaşa</td>\n",
       "      <td>Zeytinburnu</td>\n",
       "      <td>İstanbul</td>\n",
       "      <td>0.000000</td>\n",
       "      <td>Belirtilmemiş</td>\n",
       "    </tr>\n",
       "    <tr>\n",
       "      <th>11</th>\n",
       "      <td>101</td>\n",
       "      <td>85</td>\n",
       "      <td>80.0</td>\n",
       "      <td>2+1</td>\n",
       "      <td>1</td>\n",
       "      <td>4</td>\n",
       "      <td>Bahçe katı</td>\n",
       "      <td>16-20 arası</td>\n",
       "      <td>Kombi (Doğalgaz)</td>\n",
       "      <td>Eşyasız</td>\n",
       "      <td>...</td>\n",
       "      <td>Danışman</td>\n",
       "      <td>Evet</td>\n",
       "      <td>255000</td>\n",
       "      <td>41.000367</td>\n",
       "      <td>28.896093</td>\n",
       "      <td>Çırpıcı</td>\n",
       "      <td>Zeytinburnu</td>\n",
       "      <td>İstanbul</td>\n",
       "      <td>5.357143</td>\n",
       "      <td>Belirtilmemiş</td>\n",
       "    </tr>\n",
       "    <tr>\n",
       "      <th>12</th>\n",
       "      <td>102</td>\n",
       "      <td>125</td>\n",
       "      <td>120.0</td>\n",
       "      <td>3+1</td>\n",
       "      <td>1</td>\n",
       "      <td>4</td>\n",
       "      <td>2</td>\n",
       "      <td>16-20 arası</td>\n",
       "      <td>Kombi (Doğalgaz)</td>\n",
       "      <td>Eşyasız</td>\n",
       "      <td>...</td>\n",
       "      <td>Belirtilmemiş</td>\n",
       "      <td>Evet</td>\n",
       "      <td>380000</td>\n",
       "      <td>40.984127</td>\n",
       "      <td>28.899633</td>\n",
       "      <td>Nuripaşa</td>\n",
       "      <td>Zeytinburnu</td>\n",
       "      <td>İstanbul</td>\n",
       "      <td>0.000000</td>\n",
       "      <td>Belirtilmemiş</td>\n",
       "    </tr>\n",
       "    <tr>\n",
       "      <th>13</th>\n",
       "      <td>118</td>\n",
       "      <td>95</td>\n",
       "      <td>85.0</td>\n",
       "      <td>2+1</td>\n",
       "      <td>1</td>\n",
       "      <td>4</td>\n",
       "      <td>3</td>\n",
       "      <td>21-25 arası</td>\n",
       "      <td>Kombi (Doğalgaz)</td>\n",
       "      <td>Eşyasız</td>\n",
       "      <td>...</td>\n",
       "      <td>Belirtilmemiş</td>\n",
       "      <td>Evet</td>\n",
       "      <td>365000</td>\n",
       "      <td>40.996329</td>\n",
       "      <td>28.902966</td>\n",
       "      <td>Veliefendi</td>\n",
       "      <td>Zeytinburnu</td>\n",
       "      <td>İstanbul</td>\n",
       "      <td>0.000000</td>\n",
       "      <td>Belirtilmemiş</td>\n",
       "    </tr>\n",
       "    <tr>\n",
       "      <th>15</th>\n",
       "      <td>134</td>\n",
       "      <td>85</td>\n",
       "      <td>80.0</td>\n",
       "      <td>2+1</td>\n",
       "      <td>1</td>\n",
       "      <td>4</td>\n",
       "      <td>1</td>\n",
       "      <td>16-20 arası</td>\n",
       "      <td>Kombi (Doğalgaz)</td>\n",
       "      <td>Eşyasız</td>\n",
       "      <td>...</td>\n",
       "      <td>Danışman</td>\n",
       "      <td>Hayır</td>\n",
       "      <td>290000</td>\n",
       "      <td>40.997652</td>\n",
       "      <td>28.895306</td>\n",
       "      <td>Veliefendi</td>\n",
       "      <td>Zeytinburnu</td>\n",
       "      <td>İstanbul</td>\n",
       "      <td>5.357143</td>\n",
       "      <td>Belirtilmemiş</td>\n",
       "    </tr>\n",
       "    <tr>\n",
       "      <th>16</th>\n",
       "      <td>135</td>\n",
       "      <td>95</td>\n",
       "      <td>90.0</td>\n",
       "      <td>2+1</td>\n",
       "      <td>1</td>\n",
       "      <td>10-20 arası</td>\n",
       "      <td>3</td>\n",
       "      <td>0</td>\n",
       "      <td>Kombi (Doğalgaz)</td>\n",
       "      <td>Eşyasız</td>\n",
       "      <td>...</td>\n",
       "      <td>Danışman</td>\n",
       "      <td>Evet</td>\n",
       "      <td>510000</td>\n",
       "      <td>40.990788</td>\n",
       "      <td>28.895412</td>\n",
       "      <td>Sümer</td>\n",
       "      <td>Zeytinburnu</td>\n",
       "      <td>İstanbul</td>\n",
       "      <td>70.000000</td>\n",
       "      <td>Belirtilmemiş</td>\n",
       "    </tr>\n",
       "    <tr>\n",
       "      <th>17</th>\n",
       "      <td>140</td>\n",
       "      <td>187</td>\n",
       "      <td>138.0</td>\n",
       "      <td>3+1</td>\n",
       "      <td>2</td>\n",
       "      <td>10-20 arası</td>\n",
       "      <td>Kat : 6-8</td>\n",
       "      <td>4</td>\n",
       "      <td>Klima</td>\n",
       "      <td>Eşyasız</td>\n",
       "      <td>...</td>\n",
       "      <td>Belirtilmemiş</td>\n",
       "      <td>Evet</td>\n",
       "      <td>2250000</td>\n",
       "      <td>40.990477</td>\n",
       "      <td>28.895385</td>\n",
       "      <td>Sümer</td>\n",
       "      <td>Zeytinburnu</td>\n",
       "      <td>İstanbul</td>\n",
       "      <td>0.000000</td>\n",
       "      <td>Belirtilmemiş</td>\n",
       "    </tr>\n",
       "    <tr>\n",
       "      <th>18</th>\n",
       "      <td>141</td>\n",
       "      <td>140</td>\n",
       "      <td>130.0</td>\n",
       "      <td>4+1</td>\n",
       "      <td>2</td>\n",
       "      <td>4</td>\n",
       "      <td>4</td>\n",
       "      <td>1</td>\n",
       "      <td>Klima</td>\n",
       "      <td>Eşyasız</td>\n",
       "      <td>...</td>\n",
       "      <td>Belirtilmemiş</td>\n",
       "      <td>Evet</td>\n",
       "      <td>565000</td>\n",
       "      <td>40.990229</td>\n",
       "      <td>28.902347</td>\n",
       "      <td>Yeşiltepe</td>\n",
       "      <td>Zeytinburnu</td>\n",
       "      <td>İstanbul</td>\n",
       "      <td>0.000000</td>\n",
       "      <td>Belirtilmemiş</td>\n",
       "    </tr>\n",
       "    <tr>\n",
       "      <th>19</th>\n",
       "      <td>176</td>\n",
       "      <td>170</td>\n",
       "      <td>160.0</td>\n",
       "      <td>3+1</td>\n",
       "      <td>2</td>\n",
       "      <td>4</td>\n",
       "      <td>4</td>\n",
       "      <td>0</td>\n",
       "      <td>Kombi (Doğalgaz)</td>\n",
       "      <td>Eşyasız</td>\n",
       "      <td>...</td>\n",
       "      <td>Belirtilmemiş</td>\n",
       "      <td>Evet</td>\n",
       "      <td>590000</td>\n",
       "      <td>40.989380</td>\n",
       "      <td>28.900663</td>\n",
       "      <td>Nuripaşa</td>\n",
       "      <td>Zeytinburnu</td>\n",
       "      <td>İstanbul</td>\n",
       "      <td>0.000000</td>\n",
       "      <td>Belirtilmemiş</td>\n",
       "    </tr>\n",
       "    <tr>\n",
       "      <th>20</th>\n",
       "      <td>214</td>\n",
       "      <td>80</td>\n",
       "      <td>70.0</td>\n",
       "      <td>2+1</td>\n",
       "      <td>1</td>\n",
       "      <td>5</td>\n",
       "      <td>5</td>\n",
       "      <td>26-30 arası</td>\n",
       "      <td>Soba (Doğalgaz)</td>\n",
       "      <td>Sadece Mutfak</td>\n",
       "      <td>...</td>\n",
       "      <td>Danışman</td>\n",
       "      <td>Evet</td>\n",
       "      <td>196000</td>\n",
       "      <td>40.984969</td>\n",
       "      <td>28.901219</td>\n",
       "      <td>Nuripaşa</td>\n",
       "      <td>Zeytinburnu</td>\n",
       "      <td>İstanbul</td>\n",
       "      <td>0.000000</td>\n",
       "      <td>Belirtilmemiş</td>\n",
       "    </tr>\n",
       "    <tr>\n",
       "      <th>22</th>\n",
       "      <td>239</td>\n",
       "      <td>200</td>\n",
       "      <td>190.0</td>\n",
       "      <td>3+2</td>\n",
       "      <td>2</td>\n",
       "      <td>4</td>\n",
       "      <td>Kot 4</td>\n",
       "      <td>21-25 arası</td>\n",
       "      <td>Soba (Doğalgaz)</td>\n",
       "      <td>Eşyasız</td>\n",
       "      <td>...</td>\n",
       "      <td>Danışman</td>\n",
       "      <td>Evet</td>\n",
       "      <td>580000</td>\n",
       "      <td>40.992630</td>\n",
       "      <td>28.907162</td>\n",
       "      <td>Gökalp</td>\n",
       "      <td>Zeytinburnu</td>\n",
       "      <td>İstanbul</td>\n",
       "      <td>5.357143</td>\n",
       "      <td>Belirtilmemiş</td>\n",
       "    </tr>\n",
       "  </tbody>\n",
       "</table>\n",
       "<p>20 rows × 24 columns</p>\n",
       "</div>"
      ],
      "text/plain": [
       "     ID  Brüt m²  Net m² Oda Sayısı Banyo Sayısı Binadaki Kat Sayısı  \\\n",
       "1    24      100    90.0        2+1            2                   4   \n",
       "2    26       80    75.0        1+1            1                   3   \n",
       "3    46       75    65.0        1+1            1                   4   \n",
       "4    54      187   150.0        3+1            2         10-20 arası   \n",
       "5    56       85    75.0        2+1            1                   4   \n",
       "6    62       90    85.0        2+1            1                   3   \n",
       "7    66      110    95.0        2+1            1                   5   \n",
       "8    88      110    95.0        2+1            1                   3   \n",
       "9    92      170   160.0        3+2            2                   3   \n",
       "10   99      150   140.0        3+1            1                   4   \n",
       "11  101       85    80.0        2+1            1                   4   \n",
       "12  102      125   120.0        3+1            1                   4   \n",
       "13  118       95    85.0        2+1            1                   4   \n",
       "15  134       85    80.0        2+1            1                   4   \n",
       "16  135       95    90.0        2+1            1         10-20 arası   \n",
       "17  140      187   138.0        3+1            2         10-20 arası   \n",
       "18  141      140   130.0        4+1            2                   4   \n",
       "19  176      170   160.0        3+1            2                   4   \n",
       "20  214       80    70.0        2+1            1                   5   \n",
       "22  239      200   190.0        3+2            2                   4   \n",
       "\n",
       "   Bulunduğu Kat    Bina Yaşı       Isıtma Tipi Mobilya Durumu  ...  \\\n",
       "1              2  16-20 arası  Kombi (Doğalgaz)        Eşyasız  ...   \n",
       "2              3  21-25 arası  Kombi (Doğalgaz)        Eşyasız  ...   \n",
       "3   Yüksek Giriş   6-10 arası  Kombi (Doğalgaz)        Eşyasız  ...   \n",
       "4              3            2             Klima        Eşyasız  ...   \n",
       "5     Bodrum Kat  11-15 arası  Kombi (Doğalgaz)        Eşyasız  ...   \n",
       "6              2  21-25 arası  Kombi (Doğalgaz)        Eşyasız  ...   \n",
       "7              5  16-20 arası  Kombi (Doğalgaz)        Eşyasız  ...   \n",
       "8              2            4  Kombi (Doğalgaz)        Eşyasız  ...   \n",
       "9              3  16-20 arası  Kombi (Doğalgaz)        Eşyasız  ...   \n",
       "10             4  21-25 arası  Kombi (Doğalgaz)        Eşyasız  ...   \n",
       "11    Bahçe katı  16-20 arası  Kombi (Doğalgaz)        Eşyasız  ...   \n",
       "12             2  16-20 arası  Kombi (Doğalgaz)        Eşyasız  ...   \n",
       "13             3  21-25 arası  Kombi (Doğalgaz)        Eşyasız  ...   \n",
       "15             1  16-20 arası  Kombi (Doğalgaz)        Eşyasız  ...   \n",
       "16             3            0  Kombi (Doğalgaz)        Eşyasız  ...   \n",
       "17     Kat : 6-8            4             Klima        Eşyasız  ...   \n",
       "18             4            1             Klima        Eşyasız  ...   \n",
       "19             4            0  Kombi (Doğalgaz)        Eşyasız  ...   \n",
       "20             5  26-30 arası   Soba (Doğalgaz)  Sadece Mutfak  ...   \n",
       "22         Kot 4  21-25 arası   Soba (Doğalgaz)        Eşyasız  ...   \n",
       "\n",
       "           Kimden Krediye Uygun    Price  Location Lat Location Lon  \\\n",
       "1   Belirtilmemiş          Evet   330000     40.988460    28.894923   \n",
       "2        Danışman         Hayır   230000     40.992217    28.900588   \n",
       "3        Danışman          Evet   268000     40.994774    28.897234   \n",
       "4   Belirtilmemiş          Evet  2000000     40.991810    28.893631   \n",
       "5        Danışman          Evet   220000     40.987131    28.898133   \n",
       "6        Danışman          Evet   340000     40.988071    28.894828   \n",
       "7        Danışman         Hayır   350000     40.987909    28.896931   \n",
       "8        Danışman          Evet   490000     41.000056    28.899843   \n",
       "9   Belirtilmemiş          Evet   450000     40.984020    28.893897   \n",
       "10  Belirtilmemiş          Evet   599000     40.985337    28.899637   \n",
       "11       Danışman          Evet   255000     41.000367    28.896093   \n",
       "12  Belirtilmemiş          Evet   380000     40.984127    28.899633   \n",
       "13  Belirtilmemiş          Evet   365000     40.996329    28.902966   \n",
       "15       Danışman         Hayır   290000     40.997652    28.895306   \n",
       "16       Danışman          Evet   510000     40.990788    28.895412   \n",
       "17  Belirtilmemiş          Evet  2250000     40.990477    28.895385   \n",
       "18  Belirtilmemiş          Evet   565000     40.990229    28.902347   \n",
       "19  Belirtilmemiş          Evet   590000     40.989380    28.900663   \n",
       "20       Danışman          Evet   196000     40.984969    28.901219   \n",
       "22       Danışman          Evet   580000     40.992630    28.907162   \n",
       "\n",
       "     Location1    Location2  Location3       Aidat   Takasa Uygun  \n",
       "1        Sümer  Zeytinburnu   İstanbul    0.000000  Belirtilmemiş  \n",
       "2    Yeşiltepe  Zeytinburnu   İstanbul   25.000000  Belirtilmemiş  \n",
       "3   Veliefendi  Zeytinburnu   İstanbul    5.357143  Belirtilmemiş  \n",
       "4        Sümer  Zeytinburnu   İstanbul  550.000000  Belirtilmemiş  \n",
       "5        Sümer  Zeytinburnu   İstanbul    0.000000  Belirtilmemiş  \n",
       "6        Sümer  Zeytinburnu   İstanbul   20.000000  Belirtilmemiş  \n",
       "7        Sümer  Zeytinburnu   İstanbul    0.000000  Belirtilmemiş  \n",
       "8      Çırpıcı  Zeytinburnu   İstanbul   15.000000  Belirtilmemiş  \n",
       "9        Sümer  Zeytinburnu   İstanbul    0.000000  Belirtilmemiş  \n",
       "10    Nuripaşa  Zeytinburnu   İstanbul    0.000000  Belirtilmemiş  \n",
       "11     Çırpıcı  Zeytinburnu   İstanbul    5.357143  Belirtilmemiş  \n",
       "12    Nuripaşa  Zeytinburnu   İstanbul    0.000000  Belirtilmemiş  \n",
       "13  Veliefendi  Zeytinburnu   İstanbul    0.000000  Belirtilmemiş  \n",
       "15  Veliefendi  Zeytinburnu   İstanbul    5.357143  Belirtilmemiş  \n",
       "16       Sümer  Zeytinburnu   İstanbul   70.000000  Belirtilmemiş  \n",
       "17       Sümer  Zeytinburnu   İstanbul    0.000000  Belirtilmemiş  \n",
       "18   Yeşiltepe  Zeytinburnu   İstanbul    0.000000  Belirtilmemiş  \n",
       "19    Nuripaşa  Zeytinburnu   İstanbul    0.000000  Belirtilmemiş  \n",
       "20    Nuripaşa  Zeytinburnu   İstanbul    0.000000  Belirtilmemiş  \n",
       "22      Gökalp  Zeytinburnu   İstanbul    5.357143  Belirtilmemiş  \n",
       "\n",
       "[20 rows x 24 columns]"
      ]
     },
     "execution_count": 42,
     "metadata": {},
     "output_type": "execute_result"
    }
   ],
   "source": [
    "df.head(20)"
   ]
  },
  {
   "cell_type": "code",
   "execution_count": 43,
   "metadata": {},
   "outputs": [
    {
     "data": {
      "text/plain": [
       "(2801, 24)"
      ]
     },
     "execution_count": 43,
     "metadata": {},
     "output_type": "execute_result"
    }
   ],
   "source": [
    "df.shape"
   ]
  },
  {
   "cell_type": "code",
   "execution_count": 44,
   "metadata": {},
   "outputs": [
    {
     "data": {
      "text/plain": [
       "Index(['ID', 'Brüt m²', 'Net m²', 'Oda Sayısı', 'Banyo Sayısı',\n",
       "       'Binadaki Kat Sayısı', 'Bulunduğu Kat', 'Bina Yaşı', 'Isıtma Tipi',\n",
       "       'Mobilya Durumu', 'Kullanım Durumu', 'Yapının Durumu', 'Konut Şekli',\n",
       "       'Kira Getirisi', 'Kimden', 'Krediye Uygun', 'Price', 'Location Lat',\n",
       "       'Location Lon', 'Location1', 'Location2', 'Location3', 'Aidat',\n",
       "       'Takasa Uygun'],\n",
       "      dtype='object')"
      ]
     },
     "execution_count": 44,
     "metadata": {},
     "output_type": "execute_result"
    }
   ],
   "source": [
    "df.columns"
   ]
  },
  {
   "cell_type": "code",
   "execution_count": 45,
   "metadata": {},
   "outputs": [
    {
     "data": {
      "text/plain": [
       "count    2.801000e+03\n",
       "mean     5.876000e+05\n",
       "std      1.029427e+06\n",
       "min      4.800000e+04\n",
       "25%      2.450000e+05\n",
       "50%      3.500000e+05\n",
       "75%      5.500000e+05\n",
       "max      1.600000e+07\n",
       "Name: Price, dtype: float64"
      ]
     },
     "execution_count": 45,
     "metadata": {},
     "output_type": "execute_result"
    }
   ],
   "source": [
    "df['Price'].describe()"
   ]
  },
  {
   "cell_type": "code",
   "execution_count": 46,
   "metadata": {},
   "outputs": [],
   "source": [
    "import seaborn as sns"
   ]
  },
  {
   "cell_type": "code",
   "execution_count": 47,
   "metadata": {},
   "outputs": [
    {
     "name": "stderr",
     "output_type": "stream",
     "text": [
      "C:\\Users\\pc\\anaconda3\\lib\\site-packages\\seaborn\\distributions.py:2551: FutureWarning: `distplot` is a deprecated function and will be removed in a future version. Please adapt your code to use either `displot` (a figure-level function with similar flexibility) or `histplot` (an axes-level function for histograms).\n",
      "  warnings.warn(msg, FutureWarning)\n"
     ]
    },
    {
     "data": {
      "text/plain": [
       "<AxesSubplot:xlabel='Price', ylabel='Density'>"
      ]
     },
     "execution_count": 47,
     "metadata": {},
     "output_type": "execute_result"
    },
    {
     "data": {
      "image/png": "[encoded data removed]",
      "text/plain": [
       "<Figure size 432x288 with 1 Axes>"
      ]
     },
     "metadata": {
      "needs_background": "light"
     },
     "output_type": "display_data"
    }
   ],
   "source": [
    "sns.distplot(df['Price'])"
   ]
  },
  {
   "cell_type": "code",
   "execution_count": 48,
   "metadata": {},
   "outputs": [
    {
     "name": "stdout",
     "output_type": "stream",
     "text": [
      "Skewness: 8.199766\n",
      "Kurtosis: 86.606327\n"
     ]
    }
   ],
   "source": [
    "print(\"Skewness: %f\" % df['Price'].skew())\n",
    "print(\"Kurtosis: %f\" % df['Price'].kurt())"
   ]
  },
  {
   "cell_type": "code",
   "execution_count": 49,
   "metadata": {},
   "outputs": [
    {
     "data": {
      "image/png": "[encoded data removed]",
      "text/plain": [
       "<Figure size 432x288 with 1 Axes>"
      ]
     },
     "metadata": {
      "needs_background": "light"
     },
     "output_type": "display_data"
    }
   ],
   "source": [
    "var = 'Net m²'\n",
    "data = pd.concat([df['Price'], df[var]], axis=1)\n",
    "data.plot.scatter(x=var, y='Price', ylim=(0,50*10**5));"
   ]
  },
  {
   "cell_type": "code",
   "execution_count": 50,
   "metadata": {},
   "outputs": [
    {
     "data": {
      "image/png": "[encoded data removed]",
      "text/plain": [
       "<Figure size 432x288 with 1 Axes>"
      ]
     },
     "metadata": {
      "needs_background": "light"
     },
     "output_type": "display_data"
    }
   ],
   "source": [
    "var = 'Brüt m²'\n",
    "data = pd.concat([df['Price'], df[var]], axis=1)\n",
    "data.plot.scatter(x=var, y='Price', ylim=(0,50*10**5) , xlim=(0,1500));\n"
   ]
  },
  {
   "cell_type": "code",
   "execution_count": 51,
   "metadata": {},
   "outputs": [
    {
     "data": {
      "text/plain": [
       "<AxesSubplot:xlabel='Kira Getirisi', ylabel='Price'>"
      ]
     },
     "execution_count": 51,
     "metadata": {},
     "output_type": "execute_result"
    },
    {
     "data": {
      "image/png": "[encoded data removed]",
      "text/plain": [
       "<Figure size 432x288 with 1 Axes>"
      ]
     },
     "metadata": {
      "needs_background": "light"
     },
     "output_type": "display_data"
    }
   ],
   "source": [
    "var = 'Kira Getirisi'\n",
    "data = pd.concat([df['Price'], df[var]], axis=1)\n",
    "data.plot.scatter(x=var, y='Price', ylim=(0,50*10**5) , xlim=(0,5*10**5))"
   ]
  },
  {
   "cell_type": "code",
   "execution_count": 52,
   "metadata": {},
   "outputs": [
    {
     "data": {
      "image/png": "[encoded data removed]",
      "text/plain": [
       "<Figure size 576x432 with 1 Axes>"
      ]
     },
     "metadata": {
      "needs_background": "light"
     },
     "output_type": "display_data"
    }
   ],
   "source": [
    "var = 'Bulunduğu Kat'\n",
    "data = pd.concat([df['Price'], df[var]], axis=1)\n",
    "f, ax = plt.subplots(figsize=(8, 6))\n",
    "fig = sns.boxplot(x=var, y=\"Price\", data=data)\n",
    "fig.axis(ymin=0, ymax=50*10**5);"
   ]
  },
  {
   "cell_type": "code",
   "execution_count": 53,
   "metadata": {},
   "outputs": [
    {
     "data": {
      "image/png": "[encoded data removed]",
      "text/plain": [
       "<Figure size 1152x576 with 1 Axes>"
      ]
     },
     "metadata": {
      "needs_background": "light"
     },
     "output_type": "display_data"
    }
   ],
   "source": [
    "var = 'Bina Yaşı'\n",
    "data = pd.concat([df['Price'], df[var]], axis=1)\n",
    "f, ax = plt.subplots(figsize=(16, 8))\n",
    "fig = sns.boxplot(x=var, y=\"Price\", data=data)\n",
    "fig.axis(ymin=0, );\n",
    "plt.xticks(rotation=90);"
   ]
  },
  {
   "cell_type": "code",
   "execution_count": 54,
   "metadata": {},
   "outputs": [
    {
     "data": {
      "image/png": "[encoded data removed]",
      "text/plain": [
       "<Figure size 864x648 with 2 Axes>"
      ]
     },
     "metadata": {
      "needs_background": "light"
     },
     "output_type": "display_data"
    }
   ],
   "source": [
    "corrmat = df.corr()\n",
    "f, ax = plt.subplots(figsize=(12, 9))\n",
    "sns.heatmap(corrmat, vmax=.8, square=True);"
   ]
  },
  {
   "cell_type": "code",
   "execution_count": null,
   "metadata": {},
   "outputs": [],
   "source": [
    "sns.set()\n",
    "cols = ['Price', 'Brüt m²', 'Net m²', 'Kira Getirisi']\n",
    "sns.pairplot(df[cols], height = 2.5)\n",
    "plt.show();"
   ]
  },
  {
   "cell_type": "code",
   "execution_count": 55,
   "metadata": {},
   "outputs": [],
   "source": [
    "from sklearn.preprocessing import StandardScaler"
   ]
  },
  {
   "cell_type": "code",
   "execution_count": 56,
   "metadata": {},
   "outputs": [
    {
     "name": "stdout",
     "output_type": "stream",
     "text": [
      "outer range (low) of the distribution:\n",
      "[[-0.52426858]\n",
      " [-0.50775159]\n",
      " [-0.50775159]\n",
      " [-0.49803572]\n",
      " [-0.49803572]\n",
      " [-0.49512096]\n",
      " [-0.49327494]\n",
      " [-0.48831985]\n",
      " [-0.48831985]\n",
      " [-0.48540508]]\n",
      "\n",
      "outer range (high) of the distribution:\n",
      "[[ 9.04781033]\n",
      " [ 9.63076276]\n",
      " [11.08814384]\n",
      " [11.08814384]\n",
      " [11.08814384]\n",
      " [11.57393753]\n",
      " [11.61280103]\n",
      " [12.54552492]\n",
      " [14.00290599]\n",
      " [14.97449338]]\n"
     ]
    },
    {
     "name": "stderr",
     "output_type": "stream",
     "text": [
      "<ipython-input-56-2553c2e877d6>:1: FutureWarning: Support for multi-dimensional indexing (e.g. `obj[:, None]`) is deprecated and will be removed in a future version.  Convert to a numpy array before indexing instead.\n",
      "  saleprice_scaled = StandardScaler().fit_transform(df['Price'][:,np.newaxis]);\n"
     ]
    }
   ],
   "source": [
    "saleprice_scaled = StandardScaler().fit_transform(df['Price'][:,np.newaxis]);\n",
    "low_range = saleprice_scaled[saleprice_scaled[:,0].argsort()][:10]\n",
    "high_range= saleprice_scaled[saleprice_scaled[:,0].argsort()][-10:]\n",
    "print('outer range (low) of the distribution:')\n",
    "print(low_range)\n",
    "print('\\nouter range (high) of the distribution:')\n",
    "print(high_range)"
   ]
  },
  {
   "cell_type": "code",
   "execution_count": 57,
   "metadata": {},
   "outputs": [
    {
     "data": {
      "text/plain": [
       "<AxesSubplot:xlabel='Kira Getirisi', ylabel='Price'>"
      ]
     },
     "execution_count": 57,
     "metadata": {},
     "output_type": "execute_result"
    },
    {
     "data": {
      "image/png": "[encoded data removed]",
      "text/plain": [
       "<Figure size 432x288 with 1 Axes>"
      ]
     },
     "metadata": {
      "needs_background": "light"
     },
     "output_type": "display_data"
    }
   ],
   "source": [
    "var = 'Kira Getirisi'\n",
    "data = pd.concat([df['Price'], df[var]], axis=1)\n",
    "data.plot.scatter(x=var, y='Price')"
   ]
  },
  {
   "cell_type": "code",
   "execution_count": 58,
   "metadata": {},
   "outputs": [
    {
     "data": {
      "text/html": [
       "<div>\n",
       "<style scoped>\n",
       "    .dataframe tbody tr th:only-of-type {\n",
       "        vertical-align: middle;\n",
       "    }\n",
       "\n",
       "    .dataframe tbody tr th {\n",
       "        vertical-align: top;\n",
       "    }\n",
       "\n",
       "    .dataframe thead th {\n",
       "        text-align: right;\n",
       "    }\n",
       "</style>\n",
       "<table border=\"1\" class=\"dataframe\">\n",
       "  <thead>\n",
       "    <tr style=\"text-align: right;\">\n",
       "      <th></th>\n",
       "      <th>ID</th>\n",
       "      <th>Brüt m²</th>\n",
       "      <th>Net m²</th>\n",
       "      <th>Oda Sayısı</th>\n",
       "      <th>Banyo Sayısı</th>\n",
       "      <th>Binadaki Kat Sayısı</th>\n",
       "      <th>Bulunduğu Kat</th>\n",
       "      <th>Bina Yaşı</th>\n",
       "      <th>Isıtma Tipi</th>\n",
       "      <th>Mobilya Durumu</th>\n",
       "      <th>...</th>\n",
       "      <th>Kimden</th>\n",
       "      <th>Krediye Uygun</th>\n",
       "      <th>Price</th>\n",
       "      <th>Location Lat</th>\n",
       "      <th>Location Lon</th>\n",
       "      <th>Location1</th>\n",
       "      <th>Location2</th>\n",
       "      <th>Location3</th>\n",
       "      <th>Aidat</th>\n",
       "      <th>Takasa Uygun</th>\n",
       "    </tr>\n",
       "  </thead>\n",
       "  <tbody>\n",
       "    <tr>\n",
       "      <th>681</th>\n",
       "      <td>6493</td>\n",
       "      <td>100</td>\n",
       "      <td>99.0</td>\n",
       "      <td>3+1</td>\n",
       "      <td>1</td>\n",
       "      <td>4</td>\n",
       "      <td>3</td>\n",
       "      <td>6-10 arası</td>\n",
       "      <td>Kalorifer (Doğalgaz)</td>\n",
       "      <td>Eşyasız</td>\n",
       "      <td>...</td>\n",
       "      <td>İnşaat Geliştirici</td>\n",
       "      <td>Evet</td>\n",
       "      <td>2024000</td>\n",
       "      <td>41.141685</td>\n",
       "      <td>29.047663</td>\n",
       "      <td>Tarabya</td>\n",
       "      <td>Sarıyer</td>\n",
       "      <td>İstanbul</td>\n",
       "      <td>150.0</td>\n",
       "      <td>Belirtilmemiş</td>\n",
       "    </tr>\n",
       "    <tr>\n",
       "      <th>2448</th>\n",
       "      <td>25901</td>\n",
       "      <td>95</td>\n",
       "      <td>88.0</td>\n",
       "      <td>1+1</td>\n",
       "      <td>1</td>\n",
       "      <td>10</td>\n",
       "      <td>Kat : 6-8</td>\n",
       "      <td>21-25 arası</td>\n",
       "      <td>Kombi (Doğalgaz)</td>\n",
       "      <td>Eşyasız</td>\n",
       "      <td>...</td>\n",
       "      <td>Belirtilmemiş</td>\n",
       "      <td>Hayır</td>\n",
       "      <td>200000</td>\n",
       "      <td>41.010080</td>\n",
       "      <td>28.639852</td>\n",
       "      <td>Cumhuriyet</td>\n",
       "      <td>Beylikdüzü</td>\n",
       "      <td>İstanbul</td>\n",
       "      <td>15.0</td>\n",
       "      <td>Belirtilmemiş</td>\n",
       "    </tr>\n",
       "  </tbody>\n",
       "</table>\n",
       "<p>2 rows × 24 columns</p>\n",
       "</div>"
      ],
      "text/plain": [
       "         ID  Brüt m²  Net m² Oda Sayısı Banyo Sayısı Binadaki Kat Sayısı  \\\n",
       "681    6493      100    99.0        3+1            1                   4   \n",
       "2448  25901       95    88.0        1+1            1                  10   \n",
       "\n",
       "     Bulunduğu Kat    Bina Yaşı           Isıtma Tipi Mobilya Durumu  ...  \\\n",
       "681              3   6-10 arası  Kalorifer (Doğalgaz)        Eşyasız  ...   \n",
       "2448     Kat : 6-8  21-25 arası      Kombi (Doğalgaz)        Eşyasız  ...   \n",
       "\n",
       "                  Kimden Krediye Uygun    Price  Location Lat Location Lon  \\\n",
       "681   İnşaat Geliştirici          Evet  2024000     41.141685    29.047663   \n",
       "2448       Belirtilmemiş         Hayır   200000     41.010080    28.639852   \n",
       "\n",
       "       Location1   Location2  Location3  Aidat   Takasa Uygun  \n",
       "681      Tarabya     Sarıyer   İstanbul  150.0  Belirtilmemiş  \n",
       "2448  Cumhuriyet  Beylikdüzü   İstanbul   15.0  Belirtilmemiş  \n",
       "\n",
       "[2 rows x 24 columns]"
      ]
     },
     "execution_count": 58,
     "metadata": {},
     "output_type": "execute_result"
    }
   ],
   "source": [
    "df.sort_values(by = 'Kira Getirisi', ascending = False)[:2]"
   ]
  },
  {
   "cell_type": "code",
   "execution_count": 59,
   "metadata": {},
   "outputs": [],
   "source": [
    "df = df.drop(df[df['ID'] == 6493].index)"
   ]
  },
  {
   "cell_type": "code",
   "execution_count": 60,
   "metadata": {},
   "outputs": [
    {
     "data": {
      "text/plain": [
       "(2800, 24)"
      ]
     },
     "execution_count": 60,
     "metadata": {},
     "output_type": "execute_result"
    }
   ],
   "source": [
    "df.shape"
   ]
  },
  {
   "cell_type": "code",
   "execution_count": 61,
   "metadata": {},
   "outputs": [
    {
     "data": {
      "image/png": "[encoded data removed]",
      "text/plain": [
       "<Figure size 432x288 with 1 Axes>"
      ]
     },
     "metadata": {
      "needs_background": "light"
     },
     "output_type": "display_data"
    }
   ],
   "source": [
    "var = 'Net m²'\n",
    "data = pd.concat([df['Price'], df[var]], axis=1)\n",
    "data.plot.scatter(x=var, y='Price');"
   ]
  },
  {
   "cell_type": "code",
   "execution_count": 62,
   "metadata": {},
   "outputs": [
    {
     "data": {
      "text/html": [
       "<div>\n",
       "<style scoped>\n",
       "    .dataframe tbody tr th:only-of-type {\n",
       "        vertical-align: middle;\n",
       "    }\n",
       "\n",
       "    .dataframe tbody tr th {\n",
       "        vertical-align: top;\n",
       "    }\n",
       "\n",
       "    .dataframe thead th {\n",
       "        text-align: right;\n",
       "    }\n",
       "</style>\n",
       "<table border=\"1\" class=\"dataframe\">\n",
       "  <thead>\n",
       "    <tr style=\"text-align: right;\">\n",
       "      <th></th>\n",
       "      <th>ID</th>\n",
       "      <th>Brüt m²</th>\n",
       "      <th>Net m²</th>\n",
       "      <th>Oda Sayısı</th>\n",
       "      <th>Banyo Sayısı</th>\n",
       "      <th>Binadaki Kat Sayısı</th>\n",
       "      <th>Bulunduğu Kat</th>\n",
       "      <th>Bina Yaşı</th>\n",
       "      <th>Isıtma Tipi</th>\n",
       "      <th>Mobilya Durumu</th>\n",
       "      <th>...</th>\n",
       "      <th>Kimden</th>\n",
       "      <th>Krediye Uygun</th>\n",
       "      <th>Price</th>\n",
       "      <th>Location Lat</th>\n",
       "      <th>Location Lon</th>\n",
       "      <th>Location1</th>\n",
       "      <th>Location2</th>\n",
       "      <th>Location3</th>\n",
       "      <th>Aidat</th>\n",
       "      <th>Takasa Uygun</th>\n",
       "    </tr>\n",
       "  </thead>\n",
       "  <tbody>\n",
       "    <tr>\n",
       "      <th>2509</th>\n",
       "      <td>26589</td>\n",
       "      <td>690</td>\n",
       "      <td>650.0</td>\n",
       "      <td>3+1</td>\n",
       "      <td>3</td>\n",
       "      <td>3</td>\n",
       "      <td>3</td>\n",
       "      <td>6-10 arası</td>\n",
       "      <td>Kalorifer (Doğalgaz)</td>\n",
       "      <td>Sadece Mutfak</td>\n",
       "      <td>...</td>\n",
       "      <td>Danışman</td>\n",
       "      <td>Evet</td>\n",
       "      <td>2500000</td>\n",
       "      <td>41.116987</td>\n",
       "      <td>29.115622</td>\n",
       "      <td>İncirköy</td>\n",
       "      <td>Beykoz</td>\n",
       "      <td>İstanbul</td>\n",
       "      <td>8.333333</td>\n",
       "      <td>Belirtilmemiş</td>\n",
       "    </tr>\n",
       "    <tr>\n",
       "      <th>93</th>\n",
       "      <td>1009</td>\n",
       "      <td>550</td>\n",
       "      <td>500.0</td>\n",
       "      <td>6+2</td>\n",
       "      <td>5</td>\n",
       "      <td>5</td>\n",
       "      <td>5</td>\n",
       "      <td>16-20 arası</td>\n",
       "      <td>Kombi (Doğalgaz)</td>\n",
       "      <td>Eşyasız</td>\n",
       "      <td>...</td>\n",
       "      <td>Danışman</td>\n",
       "      <td>Evet</td>\n",
       "      <td>9500000</td>\n",
       "      <td>41.014767</td>\n",
       "      <td>29.050753</td>\n",
       "      <td>Altunizade</td>\n",
       "      <td>Üsküdar</td>\n",
       "      <td>İstanbul</td>\n",
       "      <td>800.000000</td>\n",
       "      <td>Belirtilmemiş</td>\n",
       "    </tr>\n",
       "  </tbody>\n",
       "</table>\n",
       "<p>2 rows × 24 columns</p>\n",
       "</div>"
      ],
      "text/plain": [
       "         ID  Brüt m²  Net m² Oda Sayısı Banyo Sayısı Binadaki Kat Sayısı  \\\n",
       "2509  26589      690   650.0        3+1            3                   3   \n",
       "93     1009      550   500.0        6+2            5                   5   \n",
       "\n",
       "     Bulunduğu Kat    Bina Yaşı           Isıtma Tipi Mobilya Durumu  ...  \\\n",
       "2509             3   6-10 arası  Kalorifer (Doğalgaz)  Sadece Mutfak  ...   \n",
       "93               5  16-20 arası      Kombi (Doğalgaz)        Eşyasız  ...   \n",
       "\n",
       "        Kimden Krediye Uygun    Price  Location Lat Location Lon   Location1  \\\n",
       "2509  Danışman          Evet  2500000     41.116987    29.115622    İncirköy   \n",
       "93    Danışman          Evet  9500000     41.014767    29.050753  Altunizade   \n",
       "\n",
       "      Location2  Location3       Aidat   Takasa Uygun  \n",
       "2509     Beykoz   İstanbul    8.333333  Belirtilmemiş  \n",
       "93      Üsküdar   İstanbul  800.000000  Belirtilmemiş  \n",
       "\n",
       "[2 rows x 24 columns]"
      ]
     },
     "execution_count": 62,
     "metadata": {},
     "output_type": "execute_result"
    }
   ],
   "source": [
    "df.sort_values(by = 'Net m²', ascending = False)[:2]"
   ]
  },
  {
   "cell_type": "code",
   "execution_count": 63,
   "metadata": {},
   "outputs": [],
   "source": [
    "df = df.drop(df[df['ID'] == 26589].index)"
   ]
  },
  {
   "cell_type": "code",
   "execution_count": 64,
   "metadata": {},
   "outputs": [
    {
     "data": {
      "text/plain": [
       "(2799, 24)"
      ]
     },
     "execution_count": 64,
     "metadata": {},
     "output_type": "execute_result"
    }
   ],
   "source": [
    "df.shape"
   ]
  },
  {
   "cell_type": "code",
   "execution_count": 65,
   "metadata": {},
   "outputs": [],
   "source": [
    "df = df.drop(df[df['ID'] == 1009].index)"
   ]
  },
  {
   "cell_type": "code",
   "execution_count": 66,
   "metadata": {},
   "outputs": [
    {
     "data": {
      "text/plain": [
       "(2798, 24)"
      ]
     },
     "execution_count": 66,
     "metadata": {},
     "output_type": "execute_result"
    }
   ],
   "source": [
    "df.shape"
   ]
  },
  {
   "cell_type": "code",
   "execution_count": 67,
   "metadata": {},
   "outputs": [
    {
     "data": {
      "text/plain": [
       "<AxesSubplot:xlabel='Brüt m²', ylabel='Price'>"
      ]
     },
     "execution_count": 67,
     "metadata": {},
     "output_type": "execute_result"
    },
    {
     "data": {
      "image/png": "[encoded data removed]",
      "text/plain": [
       "<Figure size 432x288 with 1 Axes>"
      ]
     },
     "metadata": {
      "needs_background": "light"
     },
     "output_type": "display_data"
    }
   ],
   "source": [
    "var = 'Brüt m²'\n",
    "data = pd.concat([df['Price'], df[var]], axis=1)\n",
    "data.plot.scatter(x=var, y='Price')"
   ]
  },
  {
   "cell_type": "code",
   "execution_count": 68,
   "metadata": {},
   "outputs": [
    {
     "data": {
      "text/html": [
       "<div>\n",
       "<style scoped>\n",
       "    .dataframe tbody tr th:only-of-type {\n",
       "        vertical-align: middle;\n",
       "    }\n",
       "\n",
       "    .dataframe tbody tr th {\n",
       "        vertical-align: top;\n",
       "    }\n",
       "\n",
       "    .dataframe thead th {\n",
       "        text-align: right;\n",
       "    }\n",
       "</style>\n",
       "<table border=\"1\" class=\"dataframe\">\n",
       "  <thead>\n",
       "    <tr style=\"text-align: right;\">\n",
       "      <th></th>\n",
       "      <th>ID</th>\n",
       "      <th>Brüt m²</th>\n",
       "      <th>Net m²</th>\n",
       "      <th>Oda Sayısı</th>\n",
       "      <th>Banyo Sayısı</th>\n",
       "      <th>Binadaki Kat Sayısı</th>\n",
       "      <th>Bulunduğu Kat</th>\n",
       "      <th>Bina Yaşı</th>\n",
       "      <th>Isıtma Tipi</th>\n",
       "      <th>Mobilya Durumu</th>\n",
       "      <th>...</th>\n",
       "      <th>Kimden</th>\n",
       "      <th>Krediye Uygun</th>\n",
       "      <th>Price</th>\n",
       "      <th>Location Lat</th>\n",
       "      <th>Location Lon</th>\n",
       "      <th>Location1</th>\n",
       "      <th>Location2</th>\n",
       "      <th>Location3</th>\n",
       "      <th>Aidat</th>\n",
       "      <th>Takasa Uygun</th>\n",
       "    </tr>\n",
       "  </thead>\n",
       "  <tbody>\n",
       "    <tr>\n",
       "      <th>1721</th>\n",
       "      <td>17848</td>\n",
       "      <td>300000</td>\n",
       "      <td>80.0</td>\n",
       "      <td>3+1</td>\n",
       "      <td>1</td>\n",
       "      <td>4</td>\n",
       "      <td>Kot 2</td>\n",
       "      <td>11-15 arası</td>\n",
       "      <td>Soba (Doğalgaz)</td>\n",
       "      <td>Eşyasız</td>\n",
       "      <td>...</td>\n",
       "      <td>Belirtilmemiş</td>\n",
       "      <td>Evet</td>\n",
       "      <td>300000</td>\n",
       "      <td>41.058656</td>\n",
       "      <td>28.913498</td>\n",
       "      <td>Sarıgöl</td>\n",
       "      <td>Gaziosmanpaşa</td>\n",
       "      <td>İstanbul</td>\n",
       "      <td>45.0</td>\n",
       "      <td>Belirtilmemiş</td>\n",
       "    </tr>\n",
       "    <tr>\n",
       "      <th>1114</th>\n",
       "      <td>11275</td>\n",
       "      <td>1250</td>\n",
       "      <td>110.0</td>\n",
       "      <td>3+1</td>\n",
       "      <td>1</td>\n",
       "      <td>5</td>\n",
       "      <td>5</td>\n",
       "      <td>6-10 arası</td>\n",
       "      <td>Kombi (Doğalgaz)</td>\n",
       "      <td>Eşyasız</td>\n",
       "      <td>...</td>\n",
       "      <td>Belirtilmemiş</td>\n",
       "      <td>Evet</td>\n",
       "      <td>385000</td>\n",
       "      <td>40.883412</td>\n",
       "      <td>29.220468</td>\n",
       "      <td>Sapan Bağları</td>\n",
       "      <td>Pendik</td>\n",
       "      <td>İstanbul</td>\n",
       "      <td>0.0</td>\n",
       "      <td>Belirtilmemiş</td>\n",
       "    </tr>\n",
       "  </tbody>\n",
       "</table>\n",
       "<p>2 rows × 24 columns</p>\n",
       "</div>"
      ],
      "text/plain": [
       "         ID  Brüt m²  Net m² Oda Sayısı Banyo Sayısı Binadaki Kat Sayısı  \\\n",
       "1721  17848   300000    80.0        3+1            1                   4   \n",
       "1114  11275     1250   110.0        3+1            1                   5   \n",
       "\n",
       "     Bulunduğu Kat    Bina Yaşı       Isıtma Tipi Mobilya Durumu  ...  \\\n",
       "1721         Kot 2  11-15 arası   Soba (Doğalgaz)        Eşyasız  ...   \n",
       "1114             5   6-10 arası  Kombi (Doğalgaz)        Eşyasız  ...   \n",
       "\n",
       "             Kimden Krediye Uygun   Price  Location Lat Location Lon  \\\n",
       "1721  Belirtilmemiş          Evet  300000     41.058656    28.913498   \n",
       "1114  Belirtilmemiş          Evet  385000     40.883412    29.220468   \n",
       "\n",
       "          Location1      Location2  Location3  Aidat   Takasa Uygun  \n",
       "1721        Sarıgöl  Gaziosmanpaşa   İstanbul   45.0  Belirtilmemiş  \n",
       "1114  Sapan Bağları         Pendik   İstanbul    0.0  Belirtilmemiş  \n",
       "\n",
       "[2 rows x 24 columns]"
      ]
     },
     "execution_count": 68,
     "metadata": {},
     "output_type": "execute_result"
    }
   ],
   "source": [
    "df.sort_values(by = 'Brüt m²', ascending = False)[:2]"
   ]
  },
  {
   "cell_type": "code",
   "execution_count": 69,
   "metadata": {},
   "outputs": [],
   "source": [
    "df = df.drop(df[df['ID'] == 17848].index)"
   ]
  },
  {
   "cell_type": "code",
   "execution_count": 70,
   "metadata": {},
   "outputs": [
    {
     "data": {
      "text/plain": [
       "(2797, 24)"
      ]
     },
     "execution_count": 70,
     "metadata": {},
     "output_type": "execute_result"
    }
   ],
   "source": [
    "df.shape"
   ]
  },
  {
   "cell_type": "code",
   "execution_count": 71,
   "metadata": {},
   "outputs": [
    {
     "name": "stderr",
     "output_type": "stream",
     "text": [
      "C:\\Users\\pc\\anaconda3\\lib\\site-packages\\seaborn\\distributions.py:2551: FutureWarning: `distplot` is a deprecated function and will be removed in a future version. Please adapt your code to use either `displot` (a figure-level function with similar flexibility) or `histplot` (an axes-level function for histograms).\n",
      "  warnings.warn(msg, FutureWarning)\n"
     ]
    },
    {
     "data": {
      "image/png": "[encoded data removed]",
      "text/plain": [
       "<Figure size 432x288 with 1 Axes>"
      ]
     },
     "metadata": {
      "needs_background": "light"
     },
     "output_type": "display_data"
    },
    {
     "data": {
      "image/png": "[encoded data removed]",
      "text/plain": [
       "<Figure size 432x288 with 1 Axes>"
      ]
     },
     "metadata": {
      "needs_background": "light"
     },
     "output_type": "display_data"
    }
   ],
   "source": [
    "from scipy.stats import norm\n",
    "from scipy import stats\n",
    "sns.distplot(df['Price'], fit=norm);\n",
    "fig = plt.figure()\n",
    "res = stats.probplot(df['Price'], plot=plt)"
   ]
  },
  {
   "cell_type": "code",
   "execution_count": 72,
   "metadata": {},
   "outputs": [],
   "source": [
    "df['Price'] = np.log(df['Price'])"
   ]
  },
  {
   "cell_type": "code",
   "execution_count": 73,
   "metadata": {},
   "outputs": [
    {
     "name": "stderr",
     "output_type": "stream",
     "text": [
      "C:\\Users\\pc\\anaconda3\\lib\\site-packages\\seaborn\\distributions.py:2551: FutureWarning: `distplot` is a deprecated function and will be removed in a future version. Please adapt your code to use either `displot` (a figure-level function with similar flexibility) or `histplot` (an axes-level function for histograms).\n",
      "  warnings.warn(msg, FutureWarning)\n"
     ]
    },
    {
     "data": {
      "image/png": "[encoded data removed]",
      "text/plain": [
       "<Figure size 432x288 with 1 Axes>"
      ]
     },
     "metadata": {
      "needs_background": "light"
     },
     "output_type": "display_data"
    },
    {
     "data": {
      "image/png": "[encoded data removed]",
      "text/plain": [
       "<Figure size 432x288 with 1 Axes>"
      ]
     },
     "metadata": {
      "needs_background": "light"
     },
     "output_type": "display_data"
    }
   ],
   "source": [
    "sns.distplot(df['Price'], fit=norm);\n",
    "fig = plt.figure()\n",
    "res = stats.probplot(df['Price'], plot=plt)"
   ]
  },
  {
   "cell_type": "code",
   "execution_count": 74,
   "metadata": {},
   "outputs": [
    {
     "name": "stderr",
     "output_type": "stream",
     "text": [
      "C:\\Users\\pc\\anaconda3\\lib\\site-packages\\seaborn\\distributions.py:2551: FutureWarning: `distplot` is a deprecated function and will be removed in a future version. Please adapt your code to use either `displot` (a figure-level function with similar flexibility) or `histplot` (an axes-level function for histograms).\n",
      "  warnings.warn(msg, FutureWarning)\n"
     ]
    },
    {
     "data": {
      "image/png": "[encoded data removed]",
      "text/plain": [
       "<Figure size 432x288 with 1 Axes>"
      ]
     },
     "metadata": {
      "needs_background": "light"
     },
     "output_type": "display_data"
    },
    {
     "data": {
      "image/png": "[encoded data removed]",
      "text/plain": [
       "<Figure size 432x288 with 1 Axes>"
      ]
     },
     "metadata": {
      "needs_background": "light"
     },
     "output_type": "display_data"
    }
   ],
   "source": [
    "sns.distplot(df['Kira Getirisi'], fit=norm);\n",
    "fig = plt.figure()\n",
    "res = stats.probplot(df['Kira Getirisi'], plot=plt)"
   ]
  },
  {
   "cell_type": "code",
   "execution_count": 75,
   "metadata": {},
   "outputs": [
    {
     "name": "stderr",
     "output_type": "stream",
     "text": [
      "C:\\Users\\pc\\anaconda3\\lib\\site-packages\\seaborn\\distributions.py:2551: FutureWarning: `distplot` is a deprecated function and will be removed in a future version. Please adapt your code to use either `displot` (a figure-level function with similar flexibility) or `histplot` (an axes-level function for histograms).\n",
      "  warnings.warn(msg, FutureWarning)\n"
     ]
    },
    {
     "data": {
      "image/png": "[encoded data removed]",
      "text/plain": [
       "<Figure size 432x288 with 1 Axes>"
      ]
     },
     "metadata": {
      "needs_background": "light"
     },
     "output_type": "display_data"
    },
    {
     "data": {
      "image/png": "[encoded data removed]",
      "text/plain": [
       "<Figure size 432x288 with 1 Axes>"
      ]
     },
     "metadata": {
      "needs_background": "light"
     },
     "output_type": "display_data"
    }
   ],
   "source": [
    "sns.distplot(df['Net m²'], fit=norm);\n",
    "fig = plt.figure()\n",
    "res = stats.probplot(df['Net m²'], plot=plt)"
   ]
  },
  {
   "cell_type": "code",
   "execution_count": 76,
   "metadata": {},
   "outputs": [
    {
     "data": {
      "text/plain": [
       "<matplotlib.collections.PathCollection at 0x17701265a90>"
      ]
     },
     "execution_count": 76,
     "metadata": {},
     "output_type": "execute_result"
    },
    {
     "data": {
      "image/png": "[encoded data removed]",
      "text/plain": [
       "<Figure size 432x288 with 1 Axes>"
      ]
     },
     "metadata": {
      "needs_background": "light"
     },
     "output_type": "display_data"
    }
   ],
   "source": [
    "plt.scatter(df['Net m²'], df['Price'])"
   ]
  },
  {
   "cell_type": "code",
   "execution_count": 77,
   "metadata": {},
   "outputs": [
    {
     "data": {
      "text/plain": [
       "<matplotlib.collections.PathCollection at 0x177012c4bb0>"
      ]
     },
     "execution_count": 77,
     "metadata": {},
     "output_type": "execute_result"
    },
    {
     "data": {
      "image/png": "[encoded data removed]",
      "text/plain": [
       "<Figure size 432x288 with 1 Axes>"
      ]
     },
     "metadata": {
      "needs_background": "light"
     },
     "output_type": "display_data"
    }
   ],
   "source": [
    "plt.scatter(df['Kira Getirisi'], df['Price'])"
   ]
  },
  {
   "cell_type": "code",
   "execution_count": 78,
   "metadata": {},
   "outputs": [
    {
     "data": {
      "text/plain": [
       "<matplotlib.collections.PathCollection at 0x1770132b370>"
      ]
     },
     "execution_count": 78,
     "metadata": {},
     "output_type": "execute_result"
    },
    {
     "data": {
      "image/png": "[encoded data removed]",
      "text/plain": [
       "<Figure size 432x288 with 1 Axes>"
      ]
     },
     "metadata": {
      "needs_background": "light"
     },
     "output_type": "display_data"
    }
   ],
   "source": [
    "plt.scatter(df['Brüt m²'], df['Price'])"
   ]
  },
  {
   "cell_type": "code",
   "execution_count": 79,
   "metadata": {},
   "outputs": [],
   "source": [
    "df.drop(columns = \"ID\" , inplace=True)"
   ]
  },
  {
   "cell_type": "code",
   "execution_count": 80,
   "metadata": {},
   "outputs": [],
   "source": [
    "df.drop([\"Location Lat\", \"Location Lon\"], axis=1 , inplace=True)"
   ]
  },
  {
   "cell_type": "code",
   "execution_count": 81,
   "metadata": {},
   "outputs": [
    {
     "data": {
      "text/plain": [
       "Index(['Brüt m²', 'Net m²', 'Oda Sayısı', 'Banyo Sayısı',\n",
       "       'Binadaki Kat Sayısı', 'Bulunduğu Kat', 'Bina Yaşı', 'Isıtma Tipi',\n",
       "       'Mobilya Durumu', 'Kullanım Durumu', 'Yapının Durumu', 'Konut Şekli',\n",
       "       'Kira Getirisi', 'Kimden', 'Krediye Uygun', 'Price', 'Location1',\n",
       "       'Location2', 'Location3', 'Aidat', 'Takasa Uygun'],\n",
       "      dtype='object')"
      ]
     },
     "execution_count": 81,
     "metadata": {},
     "output_type": "execute_result"
    }
   ],
   "source": [
    "df.columns"
   ]
  },
  {
   "cell_type": "code",
   "execution_count": 82,
   "metadata": {},
   "outputs": [],
   "source": [
    "num_cols = df.columns[df.dtypes.apply(lambda c: np.issubdtype(c, np.number))]"
   ]
  },
  {
   "cell_type": "code",
   "execution_count": 83,
   "metadata": {},
   "outputs": [
    {
     "data": {
      "text/plain": [
       "Index(['Brüt m²', 'Net m²', 'Kira Getirisi', 'Price', 'Aidat'], dtype='object')"
      ]
     },
     "execution_count": 83,
     "metadata": {},
     "output_type": "execute_result"
    }
   ],
   "source": [
    "num_cols"
   ]
  },
  {
   "cell_type": "code",
   "execution_count": 84,
   "metadata": {},
   "outputs": [
    {
     "data": {
      "text/html": [
       "<div>\n",
       "<style scoped>\n",
       "    .dataframe tbody tr th:only-of-type {\n",
       "        vertical-align: middle;\n",
       "    }\n",
       "\n",
       "    .dataframe tbody tr th {\n",
       "        vertical-align: top;\n",
       "    }\n",
       "\n",
       "    .dataframe thead th {\n",
       "        text-align: right;\n",
       "    }\n",
       "</style>\n",
       "<table border=\"1\" class=\"dataframe\">\n",
       "  <thead>\n",
       "    <tr style=\"text-align: right;\">\n",
       "      <th></th>\n",
       "      <th>Brüt m²</th>\n",
       "      <th>Net m²</th>\n",
       "      <th>Kira Getirisi</th>\n",
       "      <th>Price</th>\n",
       "      <th>Aidat</th>\n",
       "    </tr>\n",
       "  </thead>\n",
       "  <tbody>\n",
       "    <tr>\n",
       "      <th>1</th>\n",
       "      <td>100</td>\n",
       "      <td>90.0</td>\n",
       "      <td>1705.041580</td>\n",
       "      <td>12.706848</td>\n",
       "      <td>0.000000</td>\n",
       "    </tr>\n",
       "    <tr>\n",
       "      <th>2</th>\n",
       "      <td>80</td>\n",
       "      <td>75.0</td>\n",
       "      <td>1300.000000</td>\n",
       "      <td>12.345835</td>\n",
       "      <td>25.000000</td>\n",
       "    </tr>\n",
       "    <tr>\n",
       "      <th>3</th>\n",
       "      <td>75</td>\n",
       "      <td>65.0</td>\n",
       "      <td>1100.000000</td>\n",
       "      <td>12.498742</td>\n",
       "      <td>5.357143</td>\n",
       "    </tr>\n",
       "    <tr>\n",
       "      <th>4</th>\n",
       "      <td>187</td>\n",
       "      <td>150.0</td>\n",
       "      <td>2841.735967</td>\n",
       "      <td>14.508658</td>\n",
       "      <td>550.000000</td>\n",
       "    </tr>\n",
       "    <tr>\n",
       "      <th>5</th>\n",
       "      <td>85</td>\n",
       "      <td>75.0</td>\n",
       "      <td>1420.867983</td>\n",
       "      <td>12.301383</td>\n",
       "      <td>0.000000</td>\n",
       "    </tr>\n",
       "    <tr>\n",
       "      <th>...</th>\n",
       "      <td>...</td>\n",
       "      <td>...</td>\n",
       "      <td>...</td>\n",
       "      <td>...</td>\n",
       "      <td>...</td>\n",
       "    </tr>\n",
       "    <tr>\n",
       "      <th>2995</th>\n",
       "      <td>160</td>\n",
       "      <td>159.0</td>\n",
       "      <td>2720.499662</td>\n",
       "      <td>14.648420</td>\n",
       "      <td>0.000000</td>\n",
       "    </tr>\n",
       "    <tr>\n",
       "      <th>2996</th>\n",
       "      <td>120</td>\n",
       "      <td>110.0</td>\n",
       "      <td>1882.106685</td>\n",
       "      <td>13.910821</td>\n",
       "      <td>0.000000</td>\n",
       "    </tr>\n",
       "    <tr>\n",
       "      <th>2997</th>\n",
       "      <td>100</td>\n",
       "      <td>85.0</td>\n",
       "      <td>1454.355165</td>\n",
       "      <td>12.821258</td>\n",
       "      <td>24.666667</td>\n",
       "    </tr>\n",
       "    <tr>\n",
       "      <th>2998</th>\n",
       "      <td>90</td>\n",
       "      <td>80.0</td>\n",
       "      <td>2500.000000</td>\n",
       "      <td>13.296317</td>\n",
       "      <td>21.764706</td>\n",
       "    </tr>\n",
       "    <tr>\n",
       "      <th>2999</th>\n",
       "      <td>98</td>\n",
       "      <td>92.0</td>\n",
       "      <td>1574.125591</td>\n",
       "      <td>13.764217</td>\n",
       "      <td>0.000000</td>\n",
       "    </tr>\n",
       "  </tbody>\n",
       "</table>\n",
       "<p>2797 rows × 5 columns</p>\n",
       "</div>"
      ],
      "text/plain": [
       "      Brüt m²  Net m²  Kira Getirisi      Price       Aidat\n",
       "1         100    90.0    1705.041580  12.706848    0.000000\n",
       "2          80    75.0    1300.000000  12.345835   25.000000\n",
       "3          75    65.0    1100.000000  12.498742    5.357143\n",
       "4         187   150.0    2841.735967  14.508658  550.000000\n",
       "5          85    75.0    1420.867983  12.301383    0.000000\n",
       "...       ...     ...            ...        ...         ...\n",
       "2995      160   159.0    2720.499662  14.648420    0.000000\n",
       "2996      120   110.0    1882.106685  13.910821    0.000000\n",
       "2997      100    85.0    1454.355165  12.821258   24.666667\n",
       "2998       90    80.0    2500.000000  13.296317   21.764706\n",
       "2999       98    92.0    1574.125591  13.764217    0.000000\n",
       "\n",
       "[2797 rows x 5 columns]"
      ]
     },
     "execution_count": 84,
     "metadata": {},
     "output_type": "execute_result"
    }
   ],
   "source": [
    "df[num_cols]"
   ]
  },
  {
   "cell_type": "code",
   "execution_count": 85,
   "metadata": {},
   "outputs": [],
   "source": [
    "x2 = pd.get_dummies(df[[\"Konut Şekli\",'Oda Sayısı', 'Banyo Sayısı',\n",
    "       'Binadaki Kat Sayısı', 'Bulunduğu Kat', 'Bina Yaşı', 'Isıtma Tipi',\n",
    "       'Mobilya Durumu', 'Kullanım Durumu', 'Yapının Durumu', 'Kimden',\n",
    "       'Krediye Uygun', 'Location2' , 'Takasa Uygun' , 'Location3' , 'Location1' , ]], drop_first = True)"
   ]
  },
  {
   "cell_type": "code",
   "execution_count": 86,
   "metadata": {},
   "outputs": [],
   "source": [
    "X1 = pd.DataFrame(df, columns = [ \"Brüt m²\", 'Net m²',\"Kira Getirisi\" ,])"
   ]
  },
  {
   "cell_type": "code",
   "execution_count": 87,
   "metadata": {},
   "outputs": [],
   "source": [
    "X1.reset_index(drop=True, inplace=True)\n",
    "x2.reset_index(drop=True, inplace=True)"
   ]
  },
  {
   "cell_type": "code",
   "execution_count": 88,
   "metadata": {},
   "outputs": [],
   "source": [
    "X = pd.concat([X1,x2], axis = 1)"
   ]
  },
  {
   "cell_type": "code",
   "execution_count": 89,
   "metadata": {},
   "outputs": [
    {
     "data": {
      "text/html": [
       "<div>\n",
       "<style scoped>\n",
       "    .dataframe tbody tr th:only-of-type {\n",
       "        vertical-align: middle;\n",
       "    }\n",
       "\n",
       "    .dataframe tbody tr th {\n",
       "        vertical-align: top;\n",
       "    }\n",
       "\n",
       "    .dataframe thead th {\n",
       "        text-align: right;\n",
       "    }\n",
       "</style>\n",
       "<table border=\"1\" class=\"dataframe\">\n",
       "  <thead>\n",
       "    <tr style=\"text-align: right;\">\n",
       "      <th></th>\n",
       "      <th>Brüt m²</th>\n",
       "      <th>Net m²</th>\n",
       "      <th>Kira Getirisi</th>\n",
       "      <th>Konut Şekli_Ara Kat</th>\n",
       "      <th>Konut Şekli_Bahçe Dubleksi</th>\n",
       "      <th>Konut Şekli_Bahçe Katı</th>\n",
       "      <th>Konut Şekli_Belirtilmemiş</th>\n",
       "      <th>Konut Şekli_Dubleks</th>\n",
       "      <th>Konut Şekli_En Üst Kat</th>\n",
       "      <th>Konut Şekli_Giriş Kat</th>\n",
       "      <th>...</th>\n",
       "      <th>Location1_İçmeler</th>\n",
       "      <th>Location1_Şahkulu</th>\n",
       "      <th>Location1_Şamlar</th>\n",
       "      <th>Location1_Şehremini</th>\n",
       "      <th>Location1_Şemsipaşa</th>\n",
       "      <th>Location1_Şenlikköy</th>\n",
       "      <th>Location1_Şerifali</th>\n",
       "      <th>Location1_Şeyhli</th>\n",
       "      <th>Location1_Şirinevler</th>\n",
       "      <th>Location1_Şirintepe</th>\n",
       "    </tr>\n",
       "  </thead>\n",
       "  <tbody>\n",
       "    <tr>\n",
       "      <th>0</th>\n",
       "      <td>100</td>\n",
       "      <td>90.0</td>\n",
       "      <td>1705.041580</td>\n",
       "      <td>0</td>\n",
       "      <td>0</td>\n",
       "      <td>0</td>\n",
       "      <td>1</td>\n",
       "      <td>0</td>\n",
       "      <td>0</td>\n",
       "      <td>0</td>\n",
       "      <td>...</td>\n",
       "      <td>0</td>\n",
       "      <td>0</td>\n",
       "      <td>0</td>\n",
       "      <td>0</td>\n",
       "      <td>0</td>\n",
       "      <td>0</td>\n",
       "      <td>0</td>\n",
       "      <td>0</td>\n",
       "      <td>0</td>\n",
       "      <td>0</td>\n",
       "    </tr>\n",
       "    <tr>\n",
       "      <th>1</th>\n",
       "      <td>80</td>\n",
       "      <td>75.0</td>\n",
       "      <td>1300.000000</td>\n",
       "      <td>0</td>\n",
       "      <td>0</td>\n",
       "      <td>0</td>\n",
       "      <td>0</td>\n",
       "      <td>0</td>\n",
       "      <td>1</td>\n",
       "      <td>0</td>\n",
       "      <td>...</td>\n",
       "      <td>0</td>\n",
       "      <td>0</td>\n",
       "      <td>0</td>\n",
       "      <td>0</td>\n",
       "      <td>0</td>\n",
       "      <td>0</td>\n",
       "      <td>0</td>\n",
       "      <td>0</td>\n",
       "      <td>0</td>\n",
       "      <td>0</td>\n",
       "    </tr>\n",
       "    <tr>\n",
       "      <th>2</th>\n",
       "      <td>75</td>\n",
       "      <td>65.0</td>\n",
       "      <td>1100.000000</td>\n",
       "      <td>0</td>\n",
       "      <td>0</td>\n",
       "      <td>0</td>\n",
       "      <td>0</td>\n",
       "      <td>0</td>\n",
       "      <td>0</td>\n",
       "      <td>1</td>\n",
       "      <td>...</td>\n",
       "      <td>0</td>\n",
       "      <td>0</td>\n",
       "      <td>0</td>\n",
       "      <td>0</td>\n",
       "      <td>0</td>\n",
       "      <td>0</td>\n",
       "      <td>0</td>\n",
       "      <td>0</td>\n",
       "      <td>0</td>\n",
       "      <td>0</td>\n",
       "    </tr>\n",
       "    <tr>\n",
       "      <th>3</th>\n",
       "      <td>187</td>\n",
       "      <td>150.0</td>\n",
       "      <td>2841.735967</td>\n",
       "      <td>1</td>\n",
       "      <td>0</td>\n",
       "      <td>0</td>\n",
       "      <td>0</td>\n",
       "      <td>0</td>\n",
       "      <td>0</td>\n",
       "      <td>0</td>\n",
       "      <td>...</td>\n",
       "      <td>0</td>\n",
       "      <td>0</td>\n",
       "      <td>0</td>\n",
       "      <td>0</td>\n",
       "      <td>0</td>\n",
       "      <td>0</td>\n",
       "      <td>0</td>\n",
       "      <td>0</td>\n",
       "      <td>0</td>\n",
       "      <td>0</td>\n",
       "    </tr>\n",
       "    <tr>\n",
       "      <th>4</th>\n",
       "      <td>85</td>\n",
       "      <td>75.0</td>\n",
       "      <td>1420.867983</td>\n",
       "      <td>0</td>\n",
       "      <td>0</td>\n",
       "      <td>1</td>\n",
       "      <td>0</td>\n",
       "      <td>0</td>\n",
       "      <td>0</td>\n",
       "      <td>0</td>\n",
       "      <td>...</td>\n",
       "      <td>0</td>\n",
       "      <td>0</td>\n",
       "      <td>0</td>\n",
       "      <td>0</td>\n",
       "      <td>0</td>\n",
       "      <td>0</td>\n",
       "      <td>0</td>\n",
       "      <td>0</td>\n",
       "      <td>0</td>\n",
       "      <td>0</td>\n",
       "    </tr>\n",
       "  </tbody>\n",
       "</table>\n",
       "<p>5 rows × 548 columns</p>\n",
       "</div>"
      ],
      "text/plain": [
       "   Brüt m²  Net m²  Kira Getirisi  Konut Şekli_Ara Kat  \\\n",
       "0      100    90.0    1705.041580                    0   \n",
       "1       80    75.0    1300.000000                    0   \n",
       "2       75    65.0    1100.000000                    0   \n",
       "3      187   150.0    2841.735967                    1   \n",
       "4       85    75.0    1420.867983                    0   \n",
       "\n",
       "   Konut Şekli_Bahçe Dubleksi  Konut Şekli_Bahçe Katı  \\\n",
       "0                           0                       0   \n",
       "1                           0                       0   \n",
       "2                           0                       0   \n",
       "3                           0                       0   \n",
       "4                           0                       1   \n",
       "\n",
       "   Konut Şekli_Belirtilmemiş  Konut Şekli_Dubleks  Konut Şekli_En Üst Kat  \\\n",
       "0                          1                    0                       0   \n",
       "1                          0                    0                       1   \n",
       "2                          0                    0                       0   \n",
       "3                          0                    0                       0   \n",
       "4                          0                    0                       0   \n",
       "\n",
       "   Konut Şekli_Giriş Kat  ...  Location1_İçmeler  Location1_Şahkulu  \\\n",
       "0                      0  ...                  0                  0   \n",
       "1                      0  ...                  0                  0   \n",
       "2                      1  ...                  0                  0   \n",
       "3                      0  ...                  0                  0   \n",
       "4                      0  ...                  0                  0   \n",
       "\n",
       "   Location1_Şamlar  Location1_Şehremini  Location1_Şemsipaşa  \\\n",
       "0                 0                    0                    0   \n",
       "1                 0                    0                    0   \n",
       "2                 0                    0                    0   \n",
       "3                 0                    0                    0   \n",
       "4                 0                    0                    0   \n",
       "\n",
       "   Location1_Şenlikköy  Location1_Şerifali  Location1_Şeyhli  \\\n",
       "0                    0                   0                 0   \n",
       "1                    0                   0                 0   \n",
       "2                    0                   0                 0   \n",
       "3                    0                   0                 0   \n",
       "4                    0                   0                 0   \n",
       "\n",
       "   Location1_Şirinevler  Location1_Şirintepe  \n",
       "0                     0                    0  \n",
       "1                     0                    0  \n",
       "2                     0                    0  \n",
       "3                     0                    0  \n",
       "4                     0                    0  \n",
       "\n",
       "[5 rows x 548 columns]"
      ]
     },
     "execution_count": 89,
     "metadata": {},
     "output_type": "execute_result"
    }
   ],
   "source": [
    "X.head(5)"
   ]
  },
  {
   "cell_type": "code",
   "execution_count": 90,
   "metadata": {},
   "outputs": [
    {
     "data": {
      "text/plain": [
       "(2797, 548)"
      ]
     },
     "execution_count": 90,
     "metadata": {},
     "output_type": "execute_result"
    }
   ],
   "source": [
    "X.shape"
   ]
  },
  {
   "cell_type": "code",
   "execution_count": 91,
   "metadata": {},
   "outputs": [],
   "source": [
    "Y = pd.DataFrame(df[\"Price\"], columns = [\"Price\"])"
   ]
  },
  {
   "cell_type": "code",
   "execution_count": 92,
   "metadata": {},
   "outputs": [
    {
     "data": {
      "text/html": [
       "<div>\n",
       "<style scoped>\n",
       "    .dataframe tbody tr th:only-of-type {\n",
       "        vertical-align: middle;\n",
       "    }\n",
       "\n",
       "    .dataframe tbody tr th {\n",
       "        vertical-align: top;\n",
       "    }\n",
       "\n",
       "    .dataframe thead th {\n",
       "        text-align: right;\n",
       "    }\n",
       "</style>\n",
       "<table border=\"1\" class=\"dataframe\">\n",
       "  <thead>\n",
       "    <tr style=\"text-align: right;\">\n",
       "      <th></th>\n",
       "      <th>Price</th>\n",
       "    </tr>\n",
       "  </thead>\n",
       "  <tbody>\n",
       "    <tr>\n",
       "      <th>1</th>\n",
       "      <td>12.706848</td>\n",
       "    </tr>\n",
       "    <tr>\n",
       "      <th>2</th>\n",
       "      <td>12.345835</td>\n",
       "    </tr>\n",
       "    <tr>\n",
       "      <th>3</th>\n",
       "      <td>12.498742</td>\n",
       "    </tr>\n",
       "    <tr>\n",
       "      <th>4</th>\n",
       "      <td>14.508658</td>\n",
       "    </tr>\n",
       "    <tr>\n",
       "      <th>5</th>\n",
       "      <td>12.301383</td>\n",
       "    </tr>\n",
       "    <tr>\n",
       "      <th>...</th>\n",
       "      <td>...</td>\n",
       "    </tr>\n",
       "    <tr>\n",
       "      <th>2995</th>\n",
       "      <td>14.648420</td>\n",
       "    </tr>\n",
       "    <tr>\n",
       "      <th>2996</th>\n",
       "      <td>13.910821</td>\n",
       "    </tr>\n",
       "    <tr>\n",
       "      <th>2997</th>\n",
       "      <td>12.821258</td>\n",
       "    </tr>\n",
       "    <tr>\n",
       "      <th>2998</th>\n",
       "      <td>13.296317</td>\n",
       "    </tr>\n",
       "    <tr>\n",
       "      <th>2999</th>\n",
       "      <td>13.764217</td>\n",
       "    </tr>\n",
       "  </tbody>\n",
       "</table>\n",
       "<p>2797 rows × 1 columns</p>\n",
       "</div>"
      ],
      "text/plain": [
       "          Price\n",
       "1     12.706848\n",
       "2     12.345835\n",
       "3     12.498742\n",
       "4     14.508658\n",
       "5     12.301383\n",
       "...         ...\n",
       "2995  14.648420\n",
       "2996  13.910821\n",
       "2997  12.821258\n",
       "2998  13.296317\n",
       "2999  13.764217\n",
       "\n",
       "[2797 rows x 1 columns]"
      ]
     },
     "execution_count": 92,
     "metadata": {},
     "output_type": "execute_result"
    }
   ],
   "source": [
    "Y"
   ]
  },
  {
   "cell_type": "code",
   "execution_count": 93,
   "metadata": {},
   "outputs": [],
   "source": [
    "from sklearn.model_selection import train_test_split\n",
    "x_train, x_test, y_train, y_test = train_test_split(X,Y,test_size = 0.25, random_state = 0)"
   ]
  },
  {
   "cell_type": "code",
   "execution_count": 94,
   "metadata": {},
   "outputs": [
    {
     "data": {
      "text/html": [
       "<div>\n",
       "<style scoped>\n",
       "    .dataframe tbody tr th:only-of-type {\n",
       "        vertical-align: middle;\n",
       "    }\n",
       "\n",
       "    .dataframe tbody tr th {\n",
       "        vertical-align: top;\n",
       "    }\n",
       "\n",
       "    .dataframe thead th {\n",
       "        text-align: right;\n",
       "    }\n",
       "</style>\n",
       "<table border=\"1\" class=\"dataframe\">\n",
       "  <thead>\n",
       "    <tr style=\"text-align: right;\">\n",
       "      <th></th>\n",
       "      <th>Brüt m²</th>\n",
       "      <th>Net m²</th>\n",
       "      <th>Kira Getirisi</th>\n",
       "      <th>Konut Şekli_Ara Kat</th>\n",
       "      <th>Konut Şekli_Bahçe Dubleksi</th>\n",
       "      <th>Konut Şekli_Bahçe Katı</th>\n",
       "      <th>Konut Şekli_Belirtilmemiş</th>\n",
       "      <th>Konut Şekli_Dubleks</th>\n",
       "      <th>Konut Şekli_En Üst Kat</th>\n",
       "      <th>Konut Şekli_Giriş Kat</th>\n",
       "      <th>...</th>\n",
       "      <th>Location1_İçmeler</th>\n",
       "      <th>Location1_Şahkulu</th>\n",
       "      <th>Location1_Şamlar</th>\n",
       "      <th>Location1_Şehremini</th>\n",
       "      <th>Location1_Şemsipaşa</th>\n",
       "      <th>Location1_Şenlikköy</th>\n",
       "      <th>Location1_Şerifali</th>\n",
       "      <th>Location1_Şeyhli</th>\n",
       "      <th>Location1_Şirinevler</th>\n",
       "      <th>Location1_Şirintepe</th>\n",
       "    </tr>\n",
       "  </thead>\n",
       "  <tbody>\n",
       "    <tr>\n",
       "      <th>1884</th>\n",
       "      <td>120</td>\n",
       "      <td>107.0</td>\n",
       "      <td>1062.426823</td>\n",
       "      <td>1</td>\n",
       "      <td>0</td>\n",
       "      <td>0</td>\n",
       "      <td>0</td>\n",
       "      <td>0</td>\n",
       "      <td>0</td>\n",
       "      <td>0</td>\n",
       "      <td>...</td>\n",
       "      <td>0</td>\n",
       "      <td>0</td>\n",
       "      <td>0</td>\n",
       "      <td>0</td>\n",
       "      <td>0</td>\n",
       "      <td>0</td>\n",
       "      <td>0</td>\n",
       "      <td>0</td>\n",
       "      <td>0</td>\n",
       "      <td>0</td>\n",
       "    </tr>\n",
       "    <tr>\n",
       "      <th>2016</th>\n",
       "      <td>90</td>\n",
       "      <td>75.0</td>\n",
       "      <td>1200.000000</td>\n",
       "      <td>1</td>\n",
       "      <td>0</td>\n",
       "      <td>0</td>\n",
       "      <td>0</td>\n",
       "      <td>0</td>\n",
       "      <td>0</td>\n",
       "      <td>0</td>\n",
       "      <td>...</td>\n",
       "      <td>0</td>\n",
       "      <td>0</td>\n",
       "      <td>0</td>\n",
       "      <td>0</td>\n",
       "      <td>0</td>\n",
       "      <td>0</td>\n",
       "      <td>0</td>\n",
       "      <td>0</td>\n",
       "      <td>0</td>\n",
       "      <td>0</td>\n",
       "    </tr>\n",
       "    <tr>\n",
       "      <th>1689</th>\n",
       "      <td>110</td>\n",
       "      <td>90.0</td>\n",
       "      <td>1477.798335</td>\n",
       "      <td>1</td>\n",
       "      <td>0</td>\n",
       "      <td>0</td>\n",
       "      <td>0</td>\n",
       "      <td>0</td>\n",
       "      <td>0</td>\n",
       "      <td>0</td>\n",
       "      <td>...</td>\n",
       "      <td>0</td>\n",
       "      <td>0</td>\n",
       "      <td>0</td>\n",
       "      <td>0</td>\n",
       "      <td>0</td>\n",
       "      <td>0</td>\n",
       "      <td>0</td>\n",
       "      <td>0</td>\n",
       "      <td>0</td>\n",
       "      <td>0</td>\n",
       "    </tr>\n",
       "    <tr>\n",
       "      <th>2273</th>\n",
       "      <td>135</td>\n",
       "      <td>125.0</td>\n",
       "      <td>132273.499309</td>\n",
       "      <td>1</td>\n",
       "      <td>0</td>\n",
       "      <td>0</td>\n",
       "      <td>0</td>\n",
       "      <td>0</td>\n",
       "      <td>0</td>\n",
       "      <td>0</td>\n",
       "      <td>...</td>\n",
       "      <td>0</td>\n",
       "      <td>0</td>\n",
       "      <td>0</td>\n",
       "      <td>0</td>\n",
       "      <td>0</td>\n",
       "      <td>0</td>\n",
       "      <td>0</td>\n",
       "      <td>0</td>\n",
       "      <td>0</td>\n",
       "      <td>0</td>\n",
       "    </tr>\n",
       "    <tr>\n",
       "      <th>1087</th>\n",
       "      <td>95</td>\n",
       "      <td>75.0</td>\n",
       "      <td>1228.148412</td>\n",
       "      <td>0</td>\n",
       "      <td>0</td>\n",
       "      <td>0</td>\n",
       "      <td>0</td>\n",
       "      <td>0</td>\n",
       "      <td>0</td>\n",
       "      <td>0</td>\n",
       "      <td>...</td>\n",
       "      <td>0</td>\n",
       "      <td>0</td>\n",
       "      <td>0</td>\n",
       "      <td>0</td>\n",
       "      <td>0</td>\n",
       "      <td>0</td>\n",
       "      <td>0</td>\n",
       "      <td>0</td>\n",
       "      <td>0</td>\n",
       "      <td>0</td>\n",
       "    </tr>\n",
       "    <tr>\n",
       "      <th>...</th>\n",
       "      <td>...</td>\n",
       "      <td>...</td>\n",
       "      <td>...</td>\n",
       "      <td>...</td>\n",
       "      <td>...</td>\n",
       "      <td>...</td>\n",
       "      <td>...</td>\n",
       "      <td>...</td>\n",
       "      <td>...</td>\n",
       "      <td>...</td>\n",
       "      <td>...</td>\n",
       "      <td>...</td>\n",
       "      <td>...</td>\n",
       "      <td>...</td>\n",
       "      <td>...</td>\n",
       "      <td>...</td>\n",
       "      <td>...</td>\n",
       "      <td>...</td>\n",
       "      <td>...</td>\n",
       "      <td>...</td>\n",
       "      <td>...</td>\n",
       "    </tr>\n",
       "    <tr>\n",
       "      <th>763</th>\n",
       "      <td>152</td>\n",
       "      <td>110.0</td>\n",
       "      <td>1497.310279</td>\n",
       "      <td>0</td>\n",
       "      <td>0</td>\n",
       "      <td>0</td>\n",
       "      <td>1</td>\n",
       "      <td>0</td>\n",
       "      <td>0</td>\n",
       "      <td>0</td>\n",
       "      <td>...</td>\n",
       "      <td>0</td>\n",
       "      <td>0</td>\n",
       "      <td>0</td>\n",
       "      <td>0</td>\n",
       "      <td>0</td>\n",
       "      <td>0</td>\n",
       "      <td>0</td>\n",
       "      <td>0</td>\n",
       "      <td>0</td>\n",
       "      <td>0</td>\n",
       "    </tr>\n",
       "    <tr>\n",
       "      <th>835</th>\n",
       "      <td>230</td>\n",
       "      <td>220.0</td>\n",
       "      <td>2500.000000</td>\n",
       "      <td>0</td>\n",
       "      <td>0</td>\n",
       "      <td>0</td>\n",
       "      <td>0</td>\n",
       "      <td>0</td>\n",
       "      <td>0</td>\n",
       "      <td>0</td>\n",
       "      <td>...</td>\n",
       "      <td>0</td>\n",
       "      <td>0</td>\n",
       "      <td>0</td>\n",
       "      <td>0</td>\n",
       "      <td>0</td>\n",
       "      <td>0</td>\n",
       "      <td>0</td>\n",
       "      <td>0</td>\n",
       "      <td>0</td>\n",
       "      <td>0</td>\n",
       "    </tr>\n",
       "    <tr>\n",
       "      <th>1653</th>\n",
       "      <td>65</td>\n",
       "      <td>55.0</td>\n",
       "      <td>903.098982</td>\n",
       "      <td>0</td>\n",
       "      <td>0</td>\n",
       "      <td>0</td>\n",
       "      <td>0</td>\n",
       "      <td>0</td>\n",
       "      <td>1</td>\n",
       "      <td>0</td>\n",
       "      <td>...</td>\n",
       "      <td>0</td>\n",
       "      <td>0</td>\n",
       "      <td>0</td>\n",
       "      <td>0</td>\n",
       "      <td>0</td>\n",
       "      <td>0</td>\n",
       "      <td>0</td>\n",
       "      <td>0</td>\n",
       "      <td>0</td>\n",
       "      <td>0</td>\n",
       "    </tr>\n",
       "    <tr>\n",
       "      <th>2607</th>\n",
       "      <td>95</td>\n",
       "      <td>82.0</td>\n",
       "      <td>3488.219895</td>\n",
       "      <td>0</td>\n",
       "      <td>0</td>\n",
       "      <td>1</td>\n",
       "      <td>0</td>\n",
       "      <td>0</td>\n",
       "      <td>0</td>\n",
       "      <td>0</td>\n",
       "      <td>...</td>\n",
       "      <td>0</td>\n",
       "      <td>0</td>\n",
       "      <td>0</td>\n",
       "      <td>0</td>\n",
       "      <td>0</td>\n",
       "      <td>0</td>\n",
       "      <td>0</td>\n",
       "      <td>0</td>\n",
       "      <td>0</td>\n",
       "      <td>0</td>\n",
       "    </tr>\n",
       "    <tr>\n",
       "      <th>2732</th>\n",
       "      <td>140</td>\n",
       "      <td>130.0</td>\n",
       "      <td>2224.307900</td>\n",
       "      <td>1</td>\n",
       "      <td>0</td>\n",
       "      <td>0</td>\n",
       "      <td>0</td>\n",
       "      <td>0</td>\n",
       "      <td>0</td>\n",
       "      <td>0</td>\n",
       "      <td>...</td>\n",
       "      <td>0</td>\n",
       "      <td>0</td>\n",
       "      <td>0</td>\n",
       "      <td>0</td>\n",
       "      <td>0</td>\n",
       "      <td>0</td>\n",
       "      <td>0</td>\n",
       "      <td>0</td>\n",
       "      <td>0</td>\n",
       "      <td>0</td>\n",
       "    </tr>\n",
       "  </tbody>\n",
       "</table>\n",
       "<p>2097 rows × 548 columns</p>\n",
       "</div>"
      ],
      "text/plain": [
       "      Brüt m²  Net m²  Kira Getirisi  Konut Şekli_Ara Kat  \\\n",
       "1884      120   107.0    1062.426823                    1   \n",
       "2016       90    75.0    1200.000000                    1   \n",
       "1689      110    90.0    1477.798335                    1   \n",
       "2273      135   125.0  132273.499309                    1   \n",
       "1087       95    75.0    1228.148412                    0   \n",
       "...       ...     ...            ...                  ...   \n",
       "763       152   110.0    1497.310279                    0   \n",
       "835       230   220.0    2500.000000                    0   \n",
       "1653       65    55.0     903.098982                    0   \n",
       "2607       95    82.0    3488.219895                    0   \n",
       "2732      140   130.0    2224.307900                    1   \n",
       "\n",
       "      Konut Şekli_Bahçe Dubleksi  Konut Şekli_Bahçe Katı  \\\n",
       "1884                           0                       0   \n",
       "2016                           0                       0   \n",
       "1689                           0                       0   \n",
       "2273                           0                       0   \n",
       "1087                           0                       0   \n",
       "...                          ...                     ...   \n",
       "763                            0                       0   \n",
       "835                            0                       0   \n",
       "1653                           0                       0   \n",
       "2607                           0                       1   \n",
       "2732                           0                       0   \n",
       "\n",
       "      Konut Şekli_Belirtilmemiş  Konut Şekli_Dubleks  Konut Şekli_En Üst Kat  \\\n",
       "1884                          0                    0                       0   \n",
       "2016                          0                    0                       0   \n",
       "1689                          0                    0                       0   \n",
       "2273                          0                    0                       0   \n",
       "1087                          0                    0                       0   \n",
       "...                         ...                  ...                     ...   \n",
       "763                           1                    0                       0   \n",
       "835                           0                    0                       0   \n",
       "1653                          0                    0                       1   \n",
       "2607                          0                    0                       0   \n",
       "2732                          0                    0                       0   \n",
       "\n",
       "      Konut Şekli_Giriş Kat  ...  Location1_İçmeler  Location1_Şahkulu  \\\n",
       "1884                      0  ...                  0                  0   \n",
       "2016                      0  ...                  0                  0   \n",
       "1689                      0  ...                  0                  0   \n",
       "2273                      0  ...                  0                  0   \n",
       "1087                      0  ...                  0                  0   \n",
       "...                     ...  ...                ...                ...   \n",
       "763                       0  ...                  0                  0   \n",
       "835                       0  ...                  0                  0   \n",
       "1653                      0  ...                  0                  0   \n",
       "2607                      0  ...                  0                  0   \n",
       "2732                      0  ...                  0                  0   \n",
       "\n",
       "      Location1_Şamlar  Location1_Şehremini  Location1_Şemsipaşa  \\\n",
       "1884                 0                    0                    0   \n",
       "2016                 0                    0                    0   \n",
       "1689                 0                    0                    0   \n",
       "2273                 0                    0                    0   \n",
       "1087                 0                    0                    0   \n",
       "...                ...                  ...                  ...   \n",
       "763                  0                    0                    0   \n",
       "835                  0                    0                    0   \n",
       "1653                 0                    0                    0   \n",
       "2607                 0                    0                    0   \n",
       "2732                 0                    0                    0   \n",
       "\n",
       "      Location1_Şenlikköy  Location1_Şerifali  Location1_Şeyhli  \\\n",
       "1884                    0                   0                 0   \n",
       "2016                    0                   0                 0   \n",
       "1689                    0                   0                 0   \n",
       "2273                    0                   0                 0   \n",
       "1087                    0                   0                 0   \n",
       "...                   ...                 ...               ...   \n",
       "763                     0                   0                 0   \n",
       "835                     0                   0                 0   \n",
       "1653                    0                   0                 0   \n",
       "2607                    0                   0                 0   \n",
       "2732                    0                   0                 0   \n",
       "\n",
       "      Location1_Şirinevler  Location1_Şirintepe  \n",
       "1884                     0                    0  \n",
       "2016                     0                    0  \n",
       "1689                     0                    0  \n",
       "2273                     0                    0  \n",
       "1087                     0                    0  \n",
       "...                    ...                  ...  \n",
       "763                      0                    0  \n",
       "835                      0                    0  \n",
       "1653                     0                    0  \n",
       "2607                     0                    0  \n",
       "2732                     0                    0  \n",
       "\n",
       "[2097 rows x 548 columns]"
      ]
     },
     "execution_count": 94,
     "metadata": {},
     "output_type": "execute_result"
    }
   ],
   "source": [
    "x_train"
   ]
  },
  {
   "cell_type": "code",
   "execution_count": 95,
   "metadata": {},
   "outputs": [],
   "source": [
    "from sklearn.preprocessing import StandardScaler\n",
    "sc = StandardScaler()\n",
    "X_train = sc.fit_transform(x_train)\n",
    "X_test = sc.transform(x_test)"
   ]
  },
  {
   "cell_type": "code",
   "execution_count": 96,
   "metadata": {},
   "outputs": [],
   "source": [
    "params = {'alpha': [0.0001, 0.001, 0.01, 0.05, 0.1, \n",
    " 0.2, 0.3, 0.4, 0.5, 0.6, 0.7, 0.8, 0.9, 1.0, 2.0, 3.0, \n",
    " 4.0, 5.0, 6.0, 7.0, 8.0, 9.0, 10.0, 20, 50, 100, 500, 1000 ]}"
   ]
  },
  {
   "cell_type": "code",
   "execution_count": 97,
   "metadata": {},
   "outputs": [],
   "source": [
    "from sklearn.linear_model import Lasso\n",
    "from sklearn.model_selection import GridSearchCV\n",
    "lasso = Lasso()\n",
    "folds = 5"
   ]
  },
  {
   "cell_type": "code",
   "execution_count": 98,
   "metadata": {},
   "outputs": [],
   "source": [
    "model_cv = GridSearchCV(estimator = lasso, \n",
    "                        param_grid = params, \n",
    "                        scoring= 'neg_mean_absolute_error', \n",
    "                        cv = folds, \n",
    "                        return_train_score=True,\n",
    "                        verbose = 1)       "
   ]
  },
  {
   "cell_type": "code",
   "execution_count": 99,
   "metadata": {},
   "outputs": [
    {
     "name": "stdout",
     "output_type": "stream",
     "text": [
      "Fitting 5 folds for each of 28 candidates, totalling 140 fits\n"
     ]
    },
    {
     "name": "stderr",
     "output_type": "stream",
     "text": [
      "[Parallel(n_jobs=1)]: Using backend SequentialBackend with 1 concurrent workers.\n",
      "C:\\Users\\pc\\anaconda3\\lib\\site-packages\\sklearn\\linear_model\\_coordinate_descent.py:529: ConvergenceWarning: Objective did not converge. You might want to increase the number of iterations. Duality gap: 4.141092194266548, tolerance: 0.09489072352280677\n",
      "  model = cd_fast.enet_coordinate_descent(\n",
      "C:\\Users\\pc\\anaconda3\\lib\\site-packages\\sklearn\\linear_model\\_coordinate_descent.py:529: ConvergenceWarning: Objective did not converge. You might want to increase the number of iterations. Duality gap: 5.333360458325011, tolerance: 0.08961981421045702\n",
      "  model = cd_fast.enet_coordinate_descent(\n",
      "C:\\Users\\pc\\anaconda3\\lib\\site-packages\\sklearn\\linear_model\\_coordinate_descent.py:529: ConvergenceWarning: Objective did not converge. You might want to increase the number of iterations. Duality gap: 5.017970532379444, tolerance: 0.09572931009681324\n",
      "  model = cd_fast.enet_coordinate_descent(\n",
      "C:\\Users\\pc\\anaconda3\\lib\\site-packages\\sklearn\\linear_model\\_coordinate_descent.py:529: ConvergenceWarning: Objective did not converge. You might want to increase the number of iterations. Duality gap: 23.176223073029448, tolerance: 0.09771324390297584\n",
      "  model = cd_fast.enet_coordinate_descent(\n",
      "[Parallel(n_jobs=1)]: Done 140 out of 140 | elapsed:   18.4s finished\n"
     ]
    },
    {
     "data": {
      "text/plain": [
       "GridSearchCV(cv=5, estimator=Lasso(),\n",
       "             param_grid={'alpha': [0.0001, 0.001, 0.01, 0.05, 0.1, 0.2, 0.3,\n",
       "                                   0.4, 0.5, 0.6, 0.7, 0.8, 0.9, 1.0, 2.0, 3.0,\n",
       "                                   4.0, 5.0, 6.0, 7.0, 8.0, 9.0, 10.0, 20, 50,\n",
       "                                   100, 500, 1000]},\n",
       "             return_train_score=True, scoring='neg_mean_absolute_error',\n",
       "             verbose=1)"
      ]
     },
     "execution_count": 99,
     "metadata": {},
     "output_type": "execute_result"
    }
   ],
   "source": [
    "model_cv.fit(X_train, y_train) "
   ]
  },
  {
   "cell_type": "code",
   "execution_count": 100,
   "metadata": {},
   "outputs": [
    {
     "name": "stdout",
     "output_type": "stream",
     "text": [
      "{'alpha': 0.001}\n"
     ]
    }
   ],
   "source": [
    "print(model_cv.best_params_)"
   ]
  },
  {
   "cell_type": "code",
   "execution_count": 101,
   "metadata": {},
   "outputs": [],
   "source": [
    "lm = Lasso(alpha=0.001)"
   ]
  },
  {
   "cell_type": "code",
   "execution_count": 102,
   "metadata": {},
   "outputs": [
    {
     "data": {
      "text/plain": [
       "Lasso(alpha=0.001)"
      ]
     },
     "execution_count": 102,
     "metadata": {},
     "output_type": "execute_result"
    }
   ],
   "source": [
    "lm.fit(X_train, y_train)"
   ]
  },
  {
   "cell_type": "code",
   "execution_count": 103,
   "metadata": {},
   "outputs": [],
   "source": [
    "coef1 = pd.Series(lm.coef_, index = X.columns)"
   ]
  },
  {
   "cell_type": "code",
   "execution_count": 104,
   "metadata": {},
   "outputs": [
    {
     "data": {
      "text/plain": [
       "Text(0.5, 1.0, 'Coefficients in the Lasso Model')"
      ]
     },
     "execution_count": 104,
     "metadata": {},
     "output_type": "execute_result"
    },
    {
     "data": {
      "image/png": "[encoded data removed]",
      "text/plain": [
       "<Figure size 576x720 with 1 Axes>"
      ]
     },
     "metadata": {
      "needs_background": "light"
     },
     "output_type": "display_data"
    }
   ],
   "source": [
    "imp_coef = pd.concat([coef1.sort_values().head(10),\n",
    "                     coef1.sort_values().tail(10)])\n",
    "plt.rcParams['figure.figsize'] = (8.0, 10.0)\n",
    "imp_coef.plot(kind = \"barh\")\n",
    "plt.title(\"Coefficients in the Lasso Model\")"
   ]
  },
  {
   "cell_type": "code",
   "execution_count": 105,
   "metadata": {},
   "outputs": [],
   "source": [
    "def mean_absolute_percentage_error(y_true, y_pred): \n",
    "    y_true, y_pred = np.array(y_true), np.array(y_pred)\n",
    "    return np.mean(np.abs((y_true - y_pred) / y_true)) * 100"
   ]
  },
  {
   "cell_type": "code",
   "execution_count": 106,
   "metadata": {},
   "outputs": [],
   "source": [
    "pred = lm.predict(X_test)"
   ]
  },
  {
   "cell_type": "code",
   "execution_count": 107,
   "metadata": {},
   "outputs": [
    {
     "data": {
      "text/plain": [
       "5.701818829746389"
      ]
     },
     "execution_count": 107,
     "metadata": {},
     "output_type": "execute_result"
    }
   ],
   "source": [
    "mean_absolute_percentage_error(y_test,pred)"
   ]
  },
  {
   "cell_type": "code",
   "execution_count": 108,
   "metadata": {},
   "outputs": [
    {
     "name": "stdout",
     "output_type": "stream",
     "text": [
      "Lasso kept 466 important features and dropped the other 82 features\n"
     ]
    }
   ],
   "source": [
    "print(\"Lasso kept\",sum(coef1 != 0), \"important features and dropped the other\", sum(coef1 == 0),\"features\")"
   ]
  },
  {
   "cell_type": "code",
   "execution_count": 109,
   "metadata": {},
   "outputs": [
    {
     "data": {
      "text/plain": [
       "[<matplotlib.lines.Line2D at 0x17704bd57f0>]"
      ]
     },
     "execution_count": 109,
     "metadata": {},
     "output_type": "execute_result"
    },
    {
     "data": {
      "image/png": "[encoded data removed]",
      "text/plain": [
       "<Figure size 576x720 with 1 Axes>"
      ]
     },
     "metadata": {
      "needs_background": "light"
     },
     "output_type": "display_data"
    }
   ],
   "source": [
    "plt.scatter(y_test, pred)\n",
    "ax = plt.gca()\n",
    "ax.plot([0,1],[0,1], transform=ax.transAxes)"
   ]
  },
  {
   "cell_type": "code",
   "execution_count": 110,
   "metadata": {},
   "outputs": [
    {
     "data": {
      "text/plain": [
       "0.7969712779586424"
      ]
     },
     "execution_count": 110,
     "metadata": {},
     "output_type": "execute_result"
    }
   ],
   "source": [
    "from sklearn.metrics import r2_score\n",
    "rsq_test = r2_score(y_test,pred)\n",
    "rsq_test"
   ]
  },
  {
   "cell_type": "code",
   "execution_count": 111,
   "metadata": {},
   "outputs": [
    {
     "data": {
      "text/plain": [
       "Brüt m²                       0.059052\n",
       "Net m²                        0.214520\n",
       "Kira Getirisi                 0.023973\n",
       "Konut Şekli_Ara Kat           0.029652\n",
       "Konut Şekli_Bahçe Dubleksi    0.000152\n",
       "                                ...   \n",
       "Location1_Şenlikköy           0.022833\n",
       "Location1_Şerifali           -0.004405\n",
       "Location1_Şeyhli             -0.003018\n",
       "Location1_Şirinevler          0.001695\n",
       "Location1_Şirintepe          -0.010635\n",
       "Length: 548, dtype: float64"
      ]
     },
     "execution_count": 111,
     "metadata": {},
     "output_type": "execute_result"
    }
   ],
   "source": [
    "coef1"
   ]
  },
  {
   "cell_type": "code",
   "execution_count": 112,
   "metadata": {},
   "outputs": [
    {
     "name": "stdout",
     "output_type": "stream",
     "text": [
      "Requirement already satisfied: openpyxl in c:\\users\\pc\\anaconda3\\lib\\site-packages (3.0.5)\n",
      "Requirement already satisfied: jdcal in c:\\users\\pc\\anaconda3\\lib\\site-packages (from openpyxl) (1.4.1)\n",
      "Requirement already satisfied: et-xmlfile in c:\\users\\pc\\anaconda3\\lib\\site-packages (from openpyxl) (1.0.1)\n",
      "Note: you may need to restart the kernel to use updated packages.\n"
     ]
    }
   ],
   "source": [
    "pip install openpyxl"
   ]
  },
  {
   "cell_type": "code",
   "execution_count": 116,
   "metadata": {},
   "outputs": [],
   "source": [
    "with pd.ExcelWriter(r'C:\\Users\\pc\\Desktop\\lasso.xlsx') as writer:\n",
    "    coef2.to_excel(writer, sheet_name='Sheet_name_1')"
   ]
  },
  {
   "cell_type": "code",
   "execution_count": 114,
   "metadata": {},
   "outputs": [],
   "source": [
    "coef2 = coef1[coef1 != 0]"
   ]
  },
  {
   "cell_type": "code",
   "execution_count": 115,
   "metadata": {},
   "outputs": [
    {
     "data": {
      "text/plain": [
       "Brüt m²                       0.059052\n",
       "Net m²                        0.214520\n",
       "Kira Getirisi                 0.023973\n",
       "Konut Şekli_Ara Kat           0.029652\n",
       "Konut Şekli_Bahçe Dubleksi    0.000152\n",
       "                                ...   \n",
       "Location1_Şenlikköy           0.022833\n",
       "Location1_Şerifali           -0.004405\n",
       "Location1_Şeyhli             -0.003018\n",
       "Location1_Şirinevler          0.001695\n",
       "Location1_Şirintepe          -0.010635\n",
       "Length: 466, dtype: float64"
      ]
     },
     "execution_count": 115,
     "metadata": {},
     "output_type": "execute_result"
    }
   ],
   "source": [
    "coef2"
   ]
  },
  {
   "cell_type": "code",
   "execution_count": null,
   "metadata": {},
   "outputs": [],
   "source": []
  }
 ],
 "metadata": {
  "kernelspec": {
   "display_name": "Python 3",
   "language": "python",
   "name": "python3"
  },
  "language_info": {
   "codemirror_mode": {
    "name": "ipython",
    "version": 3
   },
   "file_extension": ".py",
   "mimetype": "text/x-python",
   "name": "python",
   "nbconvert_exporter": "python",
   "pygments_lexer": "ipython3",
   "version": "3.8.5"
  }
 },
 "nbformat": 4,
 "nbformat_minor": 4
}
